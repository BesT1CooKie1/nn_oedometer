{
 "cells": [
  {
   "cell_type": "markdown",
   "id": "1251f11c-0768-4183-97d3-473bf9b9ee57",
   "metadata": {},
   "source": [
    "# Excecutable Notebook within \".ipynb\" file\n",
    "`%run 00_problem_settings_functions.ipynb` to load class and generation of `list_input` and `list_output`"
   ]
  },
  {
   "cell_type": "markdown",
   "id": "7d624fa3-6f01-4d4f-8e70-a9c315ebfe81",
   "metadata": {},
   "source": [
    "## Oedometer class (Problem definition)"
   ]
  },
  {
   "cell_type": "code",
   "execution_count": 1,
   "id": "d6b6ad6f-9265-4404-8162-e4a24b09b82f",
   "metadata": {},
   "outputs": [],
   "source": [
    "import random\n",
    "\n",
    "class Oedometer:\n",
    "    def __init__(self, e_0: float = 1.00, C_c: float = 0.005, delta_epsilon: float = 0.0005, \n",
    "                 sigma_t: float = 1.00, max_n: int = 50, rand_epsilon:bool=False, **kwargs):\n",
    "        self.max_n = max_n\n",
    "\n",
    "        # Standardwerte als Listen setzen\n",
    "        self.e_0 = [e_0]\n",
    "        self.C_c = [C_c]\n",
    "        self.sigma_t = [sigma_t]\n",
    "        self.delta_epsilon = []\n",
    "        self.total_epsilon = [0]\n",
    "\n",
    "        # Initiale Listen für Berechnungen\n",
    "        self.sigma_t = [sigma_t]\n",
    "        self.delta_sigma = []\n",
    "        self.e_s = []\n",
    "        self.delta_epsilon = [delta_epsilon]\n",
    "        \n",
    "        # Dynamische Zuweisung von kwargs, falls vorhanden\n",
    "        for key, value in kwargs.items():\n",
    "            if hasattr(self, key):  # Nur vorhandene Attribute setzen\n",
    "                setattr(self, key, [value])\n",
    "        \n",
    "        # Berechnungen durchführen\n",
    "        self.__calc_sigma_t_p1()\n",
    "\n",
    "        # Listenlängen anpassen\n",
    "        self.__adjust_list_lengths()\n",
    "        self.__calc_total_epsilon()\n",
    "\n",
    "    def __adjust_list_lengths(self):\n",
    "        \"\"\" Passt ALLE Listen-Attribute an `max_n` an. \"\"\"\n",
    "        attributes = ['e_0', 'C_c', 'delta_epsilon', 'sigma_t', 'sigma_t', 'delta_sigma', 'e_s']\n",
    "        for attr in attributes:\n",
    "            value_list = getattr(self, attr, [])\n",
    "            current_length = len(value_list)\n",
    "\n",
    "            if current_length > self.max_n:\n",
    "                setattr(self, attr, value_list[:self.max_n])  # Kürzen\n",
    "            elif current_length < self.max_n:\n",
    "                setattr(self, attr, value_list + [value_list[-1] if value_list else 0] * (self.max_n - current_length))  # Auffüllen\n",
    "    \n",
    "    def __calc_total_epsilon(self):\n",
    "        for i in range(len(self.delta_epsilon)-1):\n",
    "            self.total_epsilon.append(self.total_epsilon[i] + self.delta_epsilon[i])            \n",
    "    \n",
    "    def __calc_e_s(self, sigma_t):\n",
    "        \"\"\" Berechnet `e_s` aus `sigma_t`. \"\"\"\n",
    "        e_s = (1 + self.e_0[0]) / self.C_c[0] * sigma_t\n",
    "        self.e_s.append(e_s)\n",
    "        return e_s\n",
    "\n",
    "    def __calc_sigma_t_p1(self):\n",
    "        \"\"\" Berechnet `sigma_t` und `delta_sigma` für die nächsten Schritte. \"\"\"\n",
    "        for i in range(self.max_n):  # -1, weil sigma_t bereits gesetzt ist\n",
    "            e_s = self.__calc_e_s(self.sigma_t[i])\n",
    "            delta_sigma = e_s * self.delta_epsilon[0]\n",
    "            sigma = self.sigma_t[i] + delta_sigma\n",
    "            self.sigma_t.append(sigma)\n",
    "            self.delta_sigma.append(delta_sigma)"
   ]
  },
  {
   "cell_type": "markdown",
   "id": "ac47d191-0adf-4f21-8357-cbb590680d18",
   "metadata": {},
   "source": [
    "## Generating data"
   ]
  },
  {
   "cell_type": "code",
   "execution_count": 2,
   "id": "606494ec-f8ac-4308-ab2b-65e1d19703f6",
   "metadata": {},
   "outputs": [
    {
     "ename": "NameError",
     "evalue": "name 'e_0' is not defined",
     "output_type": "error",
     "traceback": [
      "\u001b[31m---------------------------------------------------------------------------\u001b[39m",
      "\u001b[31mNameError\u001b[39m                                 Traceback (most recent call last)",
      "\u001b[36mCell\u001b[39m\u001b[36m \u001b[39m\u001b[32mIn[2]\u001b[39m\u001b[32m, line 4\u001b[39m\n\u001b[32m      1\u001b[39m \u001b[38;5;66;03m# Data preparation for Oedometer class\u001b[39;00m\n\u001b[32m      2\u001b[39m oedo_para = {\n\u001b[32m      3\u001b[39m     \u001b[33m'\u001b[39m\u001b[33mmax_n\u001b[39m\u001b[33m'\u001b[39m: \u001b[32m1\u001b[39m,\n\u001b[32m----> \u001b[39m\u001b[32m4\u001b[39m     \u001b[33m'\u001b[39m\u001b[33me_0\u001b[39m\u001b[33m'\u001b[39m: \u001b[43me_0\u001b[49m,\n\u001b[32m      5\u001b[39m     \u001b[33m'\u001b[39m\u001b[33mC_c\u001b[39m\u001b[33m'\u001b[39m: C_c,\n\u001b[32m      6\u001b[39m     \u001b[33m'\u001b[39m\u001b[33mdelta_epsilon\u001b[39m\u001b[33m'\u001b[39m : delta_epsilon,\n\u001b[32m      7\u001b[39m }\n\u001b[32m      9\u001b[39m list_output = []\n\u001b[32m     10\u001b[39m list_input = []\n",
      "\u001b[31mNameError\u001b[39m: name 'e_0' is not defined"
     ]
    }
   ],
   "source": [
    "# Data preparation for Oedometer class\n",
    "oedo_para = {\n",
    "    'max_n': 1,\n",
    "    'e_0': e_0,\n",
    "    'C_c': C_c,\n",
    "    'delta_epsilon' : delta_epsilon,\n",
    "}\n",
    "\n",
    "list_output = []\n",
    "list_input = []\n",
    "oedo_para['max_n'] = 1\n",
    "for i in range(amount_trainings_data):\n",
    "    oedo_para['sigma_t'] = randint(1,50)\n",
    "    oedo_output = Oedometer(**oedo_para)\n",
    "    list_output.append(oedo_output.e_s[0])\n",
    "    list_input.append(oedo_output.sigma_t[0])"
   ]
  },
  {
   "cell_type": "code",
   "execution_count": 3,
   "id": "b326e060-7f47-47b4-b52c-62071347bdb4",
   "metadata": {},
   "outputs": [
    {
     "ename": "NameError",
     "evalue": "name 'list_input' is not defined",
     "output_type": "error",
     "traceback": [
      "\u001b[31m---------------------------------------------------------------------------\u001b[39m",
      "\u001b[31mNameError\u001b[39m                                 Traceback (most recent call last)",
      "\u001b[36mCell\u001b[39m\u001b[36m \u001b[39m\u001b[32mIn[3]\u001b[39m\u001b[32m, line 4\u001b[39m\n\u001b[32m      1\u001b[39m \u001b[38;5;28;01mfrom\u001b[39;00m\u001b[38;5;250m \u001b[39m\u001b[34;01mtorch\u001b[39;00m\u001b[38;5;250m \u001b[39m\u001b[38;5;28;01mimport\u001b[39;00m tensor\n\u001b[32m      2\u001b[39m \u001b[38;5;28;01mimport\u001b[39;00m\u001b[38;5;250m \u001b[39m\u001b[34;01mtorch\u001b[39;00m\n\u001b[32m----> \u001b[39m\u001b[32m4\u001b[39m tensor_input = torch.tensor(\u001b[43mlist_input\u001b[49m, dtype=torch.float).unsqueeze(-\u001b[32m1\u001b[39m)\n\u001b[32m      5\u001b[39m tensor_output = torch.tensor(list_output, dtype=torch.float).unsqueeze(-\u001b[32m1\u001b[39m)\n",
      "\u001b[31mNameError\u001b[39m: name 'list_input' is not defined"
     ]
    }
   ],
   "source": [
    "from torch import tensor\n",
    "import torch\n",
    "\n",
    "tensor_input = torch.tensor(list_input, dtype=torch.float).unsqueeze(-1)\n",
    "tensor_output = torch.tensor(list_output, dtype=torch.float).unsqueeze(-1)"
   ]
  }
 ],
 "metadata": {
  "kernelspec": {
   "display_name": "Python 3 (ipykernel)",
   "language": "python",
   "name": "python3"
  },
  "language_info": {
   "codemirror_mode": {
    "name": "ipython",
    "version": 3
   },
   "file_extension": ".py",
   "mimetype": "text/x-python",
   "name": "python",
   "nbconvert_exporter": "python",
   "pygments_lexer": "ipython3",
   "version": "3.12.11"
  }
 },
 "nbformat": 4,
 "nbformat_minor": 5
}
