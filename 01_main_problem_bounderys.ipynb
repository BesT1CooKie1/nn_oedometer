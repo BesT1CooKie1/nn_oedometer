{
 "cells": [
  {
   "cell_type": "markdown",
   "id": "202376a2a307e3c2",
   "metadata": {},
   "source": [
    "# Vorhersage des Ödometerversuches implementiert mit PINA\n",
    "Ziel war die Implementierung eines neuronalen Netzwerks zur Modellierung des Ödometerversuchs. Dabei wurden gegebene Input-Parameter verarbeitet, um Output-Parameter vorherzusagen. Die physikalischen Rahmenbedingungen wurden zunächst auf Null gesetzt, sodass das Modell ausschließlich auf der KI-basierten Struktur arbeitet, ohne physikalische Optimierungen durch Physical Informed Neural Networks (PINNs).\n",
    "<br>\n",
    "Diese grundlegende Umsetzung bildet die Basis für weiterführende Optimierungen, wie die Integration physikalischer Gesetzmäßigkeiten, die jedoch nicht Teil des initialen Arbeitsauftrags waren.\n",
    "\n",
    "### Was ist PINA?\n",
    "PINA ist eine Open-Source-Python-Bibliothek, die eine intuitive Schnittstelle zur Lösung von Differentialgleichungen bietet, indem sie Physik-informierte Neuronale Netze (PINNs), Neuronale Operatoren (NOs) oder eine Kombination aus beiden verwendet. Basierend auf PyTorch und PyTorch Lightning ermöglicht PINA die formale Darstellung spezifischer (differentieller) Probleme und deren Lösung mittels neuronaler Netze.<br><br>\n",
    "<strong>Hauptmerkmale von PINA:</strong>\n",
    "\n",
    "- <span style=\"color:gray;\"><i>Problemformulierung: Ermöglicht die Übersetzung mathematischer Gleichungen in Python-Code, um das Differentialproblem zu definieren.</i></span>\n",
    "    - <small><i>→ In diesem Arbeitsauftrag nicht notwendig, da das neuronale Netzwerk ohne physikalische Gesetzmäßigkeiten trainiert wurde.</i></small>\n",
    "- Modelltraining: Bietet Werkzeuge zum Training neuronaler Netze zur Lösung des definierten Problems.\n",
    "- Lösungsauswertung: Erlaubt die Visualisierung und Analyse der approximierten Lösungen.\n",
    "\n",
    "<small><i>Hinweis: Die physikalische Modellierung und die Einbindung von Differentialgleichungen zur Optimierung des Netzwerks (z. B. mittels PINNs) war nicht Teil dieses Arbeitsauftrags, könnte aber in einem späteren Schritt ergänzt werden.</i></small>\n",
    "## Grundlagen\n",
    "In diesem Notebook wird der Ödometerversuch <strong>ohne</strong> Randbedingungen betrachtet. Es werden vorberechnetet Daten aus der Exceltabelle `files/oedometer/oedo_trainingsdata.xlsx` verwendet.<br>\n",
    "#### Das Problem ist wie folgt definiert:\n",
    "$$\n",
    "\\begin{array}{rcl}\n",
    "    \\sigma_{t+1} & = & \\sigma_{t}+\\Delta\\sigma \\\\ \\\\\n",
    "    \\Delta\\sigma & = & E_s\\cdot \\Delta\\epsilon \\\\ \n",
    "    E_s & = & \\frac{1+e_0}{C_c} \\cdot \\sigma\n",
    "\\end{array}\n",
    "\\hspace{2cm}\n",
    "\\begin{array}{l}\n",
    "    \\textbf{Annahmen:} \\\\ \\\\\n",
    "    \\text{Startwert d. Iteration: } \\sigma_0 = 1,00 \\\\ \n",
    "    e_0 = 1,00 \\\\ \n",
    "    C_c = 0,0005\n",
    "\\end{array}\n",
    "$$\n",
    "\n",
    "<div = style=\"text-align: center;\">\n",
    "    <img alt=\"Problem Oedometer Preview\" src=\"./graph/problem_preview.png\" width=\"50%\" height=auto>\n",
    "</div>\n",
    "\n",
    "<br> \n",
    "\n",
    "Um das PINA-Model zu testen werden wir folgende vorberechnete Werte verwenden: `Input` { $\\sigma_t$ ; $\\Delta\\epsilon$ }, `Output` { $\\sigma_{t+1}$ }.\n",
    "\n",
    "## Einstellungen"
   ]
  },
  {
   "cell_type": "code",
   "execution_count": 1,
   "id": "e8ab565a-fc02-41df-89e3-9888204d845d",
   "metadata": {},
   "outputs": [
    {
     "data": {
      "application/vnd.jupyter.widget-view+json": {
       "model_id": "a25c871e51624649a2fccad7293f9c46",
       "version_major": 2,
       "version_minor": 0
      },
      "text/plain": [
       "Checkbox(value=True, description='Debug Mode aktivieren')"
      ]
     },
     "metadata": {},
     "output_type": "display_data"
    },
    {
     "data": {
      "application/vnd.jupyter.widget-view+json": {
       "model_id": "40bc1bb8a177414683612008be848f28",
       "version_major": 2,
       "version_minor": 0
      },
      "text/plain": [
       "Checkbox(value=False, description='Daten normalisieren')"
      ]
     },
     "metadata": {},
     "output_type": "display_data"
    }
   ],
   "source": [
    "import ipywidgets as widgets\n",
    "from IPython.display import display\n",
    "\n",
    "# Checkbox erstellen\n",
    "debug_mode = widgets.Checkbox(\n",
    "    value=True,  # Standard: Eingeschaltet\n",
    "    description=\"Debug Mode aktivieren\",\n",
    "    disabled=False\n",
    ")\n",
    "\n",
    "normalize_data = widgets.Checkbox(\n",
    "    value=False,  # Standard: Ausgeschaltet\n",
    "    description=\"Daten normalisieren\",\n",
    "    disabled=False\n",
    ")\n",
    "\n",
    "# Checkbox anzeigen\n",
    "display(debug_mode)\n",
    "display(normalize_data)\n"
   ]
  },
  {
   "cell_type": "code",
   "execution_count": 2,
   "id": "649daf452361b99a",
   "metadata": {
    "ExecuteTime": {
     "end_time": "2025-03-12T08:30:31.087047Z",
     "start_time": "2025-03-12T08:30:30.555114Z"
    }
   },
   "outputs": [
    {
     "name": "stdout",
     "output_type": "stream",
     "text": [
      "‼️Geladene Exceldaten\n",
      "{'sigma_0': array([1.00000000e+00, 1.20000000e+00, 1.44000000e+00, 1.72800000e+00,\n",
      "       2.07360000e+00, 2.48832000e+00, 2.98598400e+00, 3.58318080e+00,\n",
      "       4.29981696e+00, 5.15978035e+00, 6.19173642e+00, 7.43008371e+00,\n",
      "       8.91610045e+00, 1.06993205e+01, 1.28391846e+01, 1.54070216e+01,\n",
      "       1.84884259e+01, 2.21861111e+01, 2.66233333e+01, 3.19479999e+01,\n",
      "       3.83375999e+01, 4.60051199e+01, 5.52061439e+01, 6.62473727e+01,\n",
      "       7.94968472e+01, 9.53962166e+01, 1.14475460e+02, 1.37370552e+02,\n",
      "       1.64844662e+02, 1.97813595e+02, 2.37376314e+02, 2.84851577e+02,\n",
      "       3.41821892e+02, 4.10186270e+02, 4.92223524e+02, 5.90668229e+02,\n",
      "       7.08801875e+02, 8.50562250e+02, 1.02067470e+03, 1.22480964e+03,\n",
      "       1.46977157e+03, 1.76372588e+03, 2.11647106e+03, 2.53976527e+03,\n",
      "       3.04771832e+03, 3.65726199e+03, 4.38871439e+03, 5.26645726e+03,\n",
      "       6.31974872e+03, 7.58369846e+03, 9.10043815e+03, 1.09205258e+04,\n",
      "       1.31046309e+04, 1.57255571e+04, 1.88706685e+04, 2.26448023e+04,\n",
      "       2.71737627e+04, 3.26085153e+04, 3.91302183e+04, 4.69562620e+04,\n",
      "       5.63475144e+04, 6.76170172e+04, 8.11404207e+04, 9.73685048e+04,\n",
      "       1.16842206e+05, 1.40210647e+05, 1.68252776e+05, 2.01903332e+05,\n",
      "       2.42283998e+05, 2.90740797e+05, 3.48888957e+05, 4.18666748e+05,\n",
      "       5.02400098e+05, 6.02880118e+05, 7.23456141e+05, 8.68147369e+05,\n",
      "       1.04177684e+06, 1.25013221e+06, 1.50015865e+06, 1.80019039e+06,\n",
      "       2.16022846e+06, 2.59227415e+06, 3.11072899e+06, 3.73287478e+06,\n",
      "       4.47944974e+06, 5.37533969e+06, 6.45040762e+06, 7.74048915e+06,\n",
      "       9.28858698e+06, 1.11463044e+07, 1.33755652e+07, 1.60506783e+07,\n",
      "       1.92608140e+07, 2.31129768e+07]), 'delta_epsilon': array([0.0005, 0.0005, 0.0005, 0.0005, 0.0005, 0.0005, 0.0005, 0.0005,\n",
      "       0.0005, 0.0005, 0.0005, 0.0005, 0.0005, 0.0005, 0.0005, 0.0005,\n",
      "       0.0005, 0.0005, 0.0005, 0.0005, 0.0005, 0.0005, 0.0005, 0.0005,\n",
      "       0.0005, 0.0005, 0.0005, 0.0005, 0.0005, 0.0005, 0.0005, 0.0005,\n",
      "       0.0005, 0.0005, 0.0005, 0.0005, 0.0005, 0.0005, 0.0005, 0.0005,\n",
      "       0.0005, 0.0005, 0.0005, 0.0005, 0.0005, 0.0005, 0.0005, 0.0005,\n",
      "       0.0005, 0.0005, 0.0005, 0.0005, 0.0005, 0.0005, 0.0005, 0.0005,\n",
      "       0.0005, 0.0005, 0.0005, 0.0005, 0.0005, 0.0005, 0.0005, 0.0005,\n",
      "       0.0005, 0.0005, 0.0005, 0.0005, 0.0005, 0.0005, 0.0005, 0.0005,\n",
      "       0.0005, 0.0005, 0.0005, 0.0005, 0.0005, 0.0005, 0.0005, 0.0005,\n",
      "       0.0005, 0.0005, 0.0005, 0.0005, 0.0005, 0.0005, 0.0005, 0.0005,\n",
      "       0.0005, 0.0005, 0.0005, 0.0005, 0.0005, 0.0005]), 'sigma_1': array([2.00000000e-01, 2.40000000e-01, 2.88000000e-01, 3.45600000e-01,\n",
      "       4.14720000e-01, 4.97664000e-01, 5.97196800e-01, 7.16636160e-01,\n",
      "       8.59963392e-01, 1.03195607e+00, 1.23834728e+00, 1.48601674e+00,\n",
      "       1.78322009e+00, 2.13986411e+00, 2.56783693e+00, 3.08140431e+00,\n",
      "       3.69768518e+00, 4.43722221e+00, 5.32466666e+00, 6.38959999e+00,\n",
      "       7.66751998e+00, 9.20102398e+00, 1.10412288e+01, 1.32494745e+01,\n",
      "       1.58993694e+01, 1.90792433e+01, 2.28950920e+01, 2.74741104e+01,\n",
      "       3.29689325e+01, 3.95627190e+01, 4.74752628e+01, 5.69703153e+01,\n",
      "       6.83643784e+01, 8.20372540e+01, 9.84447049e+01, 1.18133646e+02,\n",
      "       1.41760375e+02, 1.70112450e+02, 2.04134940e+02, 2.44961928e+02,\n",
      "       2.93954314e+02, 3.52745176e+02, 4.23294212e+02, 5.07953054e+02,\n",
      "       6.09543665e+02, 7.31452398e+02, 8.77742877e+02, 1.05329145e+03,\n",
      "       1.26394974e+03, 1.51673969e+03, 1.82008763e+03, 2.18410516e+03,\n",
      "       2.62092619e+03, 3.14511142e+03, 3.77413371e+03, 4.52896045e+03,\n",
      "       5.43475254e+03, 6.52170305e+03, 7.82604366e+03, 9.39125239e+03,\n",
      "       1.12695029e+04, 1.35234034e+04, 1.62280841e+04, 1.94737010e+04,\n",
      "       2.33684412e+04, 2.80421294e+04, 3.36505553e+04, 4.03806663e+04,\n",
      "       4.84567996e+04, 5.81481595e+04, 6.97777914e+04, 8.37333497e+04,\n",
      "       1.00480020e+05, 1.20576024e+05, 1.44691228e+05, 1.73629474e+05,\n",
      "       2.08355369e+05, 2.50026442e+05, 3.00031731e+05, 3.60038077e+05,\n",
      "       4.32045692e+05, 5.18454831e+05, 6.22145797e+05, 7.46574956e+05,\n",
      "       8.95889948e+05, 1.07506794e+06, 1.29008152e+06, 1.54809783e+06,\n",
      "       1.85771740e+06, 2.22926087e+06, 2.67511305e+06, 3.21013566e+06,\n",
      "       3.85216279e+06, 4.62259535e+06])}\n"
     ]
    }
   ],
   "source": [
    "import pandas as pd\n",
    "import numpy as np\n",
    "from sympy.integrals.heurisch import components\n",
    "\n",
    "file_path = \"files/oedometer/oedo_trainingsdata.xlsx\"\n",
    "sheet_name = \"Res\"\n",
    "\n",
    "df = pd.read_excel(file_path, sheet_name=sheet_name)\n",
    "\n",
    "# Dynamische Ermittlung der letzten Zeile mit Daten\n",
    "row_start_range = 0  # Startet bei Zeile 6 (0-basiert)\n",
    "row_end_range = df.dropna(how=\"all\").last_valid_index() + 1  # Letzte Zeile mit Daten\n",
    "\n",
    "# Spaltenauswahl Spalte B, D und E\n",
    "selected_columns = [1, 3, 5]  # Spalten-Indices\n",
    "\n",
    "# Daten extrahieren\n",
    "data_subset = df.iloc[row_start_range:row_end_range, selected_columns]\n",
    "\n",
    "# Daten als dict speichern\n",
    "data_dict = {col: np.array(data_subset[col]) for col in data_subset.columns}\n",
    "\n",
    "if debug_mode.value:\n",
    "    print('‼️Geladene Exceldaten')\n",
    "    print(data_dict)"
   ]
  },
  {
   "cell_type": "markdown",
   "id": "fb386144-1aae-4b43-aeb1-c3b715d7eac2",
   "metadata": {},
   "source": [
    "<link rel=\"stylesheet\" href=\"https://cdnjs.cloudflare.com/ajax/libs/font-awesome/4.7.0/css/font-awesome.min.css\">\n",
    "\n",
    "## Daten normalisieren\n",
    "Die Normalisierung von Daten für neuronale Netze bedeutet, dass Eingabedaten auf eine vergleichbare Skala gebracht werden, um das Training stabiler und effizienter zu machen. Hier verwendete Methode:\n",
    "- Min-Max-Skalierung: Werte auf einen Bereich (0 bis 1) bringen.  <i class=\"fa fa-info\"> [Wiki](https://en.wikipedia.org/wiki/Feature_scaling#Methods)</i>\n"
   ]
  },
  {
   "cell_type": "code",
   "execution_count": 3,
   "id": "7bd8f39a-6d82-480e-a011-2e432797803f",
   "metadata": {},
   "outputs": [
    {
     "name": "stdout",
     "output_type": "stream",
     "text": [
      "‼️ Es wurde keine Normalisierung der Werte vorgenommen.\n"
     ]
    }
   ],
   "source": [
    "if normalize_data.value:\n",
    "    data_dict.update({'sigma_0_raw': data_dict.pop('sigma_0')})\n",
    "    data_dict.update({'sigma_1_raw': data_dict.pop('sigma_1')})\n",
    "    \n",
    "    sigma_0_min, sigma_0_max = data_dict['sigma_0_raw'].min(), data_dict['sigma_0_raw'].max()\n",
    "    sigma_1_min, sigma_1_max = data_dict['sigma_1_raw'].min(), data_dict['sigma_1_raw'].max()\n",
    "    \n",
    "    # Min-Max-Normalisierung\n",
    "    data_dict['sigma_0'] = (data_dict['sigma_0_raw'] - sigma_0_min) / (sigma_0_max - sigma_0_min)\n",
    "    data_dict['sigma_1'] = (data_dict['sigma_1_raw'] - sigma_1_min) / (sigma_1_max - sigma_1_min)\n",
    "    print('‼️Tabellenwerte des Oedometerversuches normalisiert.')\n",
    "else:\n",
    "    print('‼️ Es wurde keine Normalisierung der Werte vorgenommen.')"
   ]
  },
  {
   "cell_type": "markdown",
   "id": "2d182c1ff77877a1",
   "metadata": {},
   "source": [
    "## **Datenvorbereitung für PINA mit LabelTensor**\n",
    "In diesem Code werden die Eingabedaten aus `data_dict` als **LabelTensor** gespeichert, um sie strukturiert und mit benannten Dimensionen für das neuronale Netz in PINA bereitzustellen.  \n",
    "\n",
    "- `sigma_0_train`, `delta_epsilon_train` und `sigma_1_train` werden als **einzelne beschriftete Tensoren** erstellt.  \n",
    "- `input_points_combined` kombiniert `sigma_0` und `delta_epsilon` in einem **2D-Tensor** für das Training.  \n",
    "- `LabelTensor` erleichtert die Nutzung der Daten in PINA, indem es Variablen klar zuordnet und mit physischen Größen verknüpft.\n",
    "\n",
    "**Mehr zu `LabelTensor`:**  \n",
    "[PINA Documentation – LabelTensor](https://mathlab.github.io/PINA/_rst/label_tensor.html)\n"
   ]
  },
  {
   "cell_type": "code",
   "execution_count": 4,
   "id": "506469cd2477431e",
   "metadata": {
    "ExecuteTime": {
     "end_time": "2025-03-12T08:30:31.150519Z",
     "start_time": "2025-03-12T08:30:31.125143Z"
    }
   },
   "outputs": [
    {
     "name": "stdout",
     "output_type": "stream",
     "text": [
      "‼️Data Loaded\n",
      " sigma_0: torch.Size([94, 1])\n",
      " delta_epsilon: torch.Size([94, 1])\n",
      " sigma_0 und delta_epsilon combined: torch.Size([94, 2])\n",
      " sigma_1: torch.Size([94, 1])\n"
     ]
    }
   ],
   "source": [
    "import torch\n",
    "from pina.utils import LabelTensor\n",
    "from torch import tensor\n",
    "\n",
    "# Beispiel-Daten\n",
    "sigma_0_train = LabelTensor(tensor(data_dict['sigma_0'], dtype=torch.float).unsqueeze(-1), ['sigma_0'])\n",
    "delta_epsilon_train = LabelTensor(tensor(data_dict['delta_epsilon'], dtype=torch.float).unsqueeze(-1), ['delta_epsilon'])\n",
    "sigma_1_train = LabelTensor(tensor(data_dict['sigma_1'], dtype=torch.float).unsqueeze(-1), ['sigma_1'])\n",
    "\n",
    "# Kombinieren der Trainingsdaten (Verwendung von 'np.column_stack' für bessere Performance)\n",
    "input_points_combined = LabelTensor(torch.tensor(np.column_stack([data_dict['sigma_0'], data_dict['delta_epsilon']]), dtype=torch.float), ['sigma_0', 'delta_epsilon'])\n",
    "\n",
    "if debug_mode.value:\n",
    "    print('‼️Data Loaded')\n",
    "    print(f' sigma_0: {sigma_0_train.size()}')\n",
    "    print(f' delta_epsilon: {delta_epsilon_train.shape}')\n",
    "    print(f' sigma_0 und delta_epsilon combined: {input_points_combined.size()}')\n",
    "    print(f' sigma_1: {sigma_1_train.shape}')\n"
   ]
  },
  {
   "cell_type": "markdown",
   "id": "30c8c6ec-bac1-4d00-83cb-63b178a72be6",
   "metadata": {},
   "source": [
    "### **Definition eines einfachen PINN-Problems in PINA**  \n",
    "Dieser Code definiert ein **Physics-Informed Neural Network (PINN)**-Problem mithilfe der PINA-Bibliothek.  \n",
    " \n",
    "- **Klassenstruktur (`SimpleODE`)**: Erbt von `AbstractProblem` und spezifiziert die Eingabe- und Ausgabevariablen basierend auf `LabelTensor`.\n",
    "    - [PINA-Dokumentation - AbstractProblem](https://mathlab.github.io/PINA/_rst/problem/abstractproblem.html) \n",
    "- **Definitionsbereich (`domain`)**: Der Wertebereich der Eingabevariablen (`sigma_0`, `delta_epsilon`) wird als `CartesianDomain` festgelegt.\n",
    "    - **Hinweis:** `domain` muss immer definiert sein, selbst wenn sie nicht direkt zur Datengenerierung verwendet wird.  \n",
    "    - [PINA-Dokumentation - CartesianDomain](https://mathlab.github.io/PINA/_rst/geometry/cartesian.html) \n",
    "- **Randbedingungen (`conditions`)**: Die echten Messwerte (`sigma_1_train`) werden als Randbedingung (`Condition`) für das Modell definiert.\n",
    "    - [PINA-Dokumentation - Condition](https://mathlab.github.io/PINA/_rst/condition.html) \n",
    "- **\"Wahre Lösung\" (`truth_solution`)**: Falls erforderlich, kann eine analytische Lösung (hier `torch.exp(...)`) zur Validierung genutzt werden.\n",
    "    - **Hinweis:** Funktioniert in unserem Fall nicht, da die Implementierung nicht für reine Input und Outpunkt Punkte implementiert ist.\n",
    "    - [PINA-Tutorial - Physics Informed Neural Networks on PINA](https://mathlab.github.io/PINA/_rst/tutorials/tutorial1/tutorial.html) \n",
    "- **Probleminstanz (`problem = SimpleODE()`)**: Erstellt das Problem, das für das Training eines PINN verwendet wird.  \n"
   ]
  },
  {
   "cell_type": "code",
   "execution_count": 5,
   "id": "c2de5194c7f49fbf",
   "metadata": {
    "ExecuteTime": {
     "end_time": "2025-03-12T08:30:31.712233Z",
     "start_time": "2025-03-12T08:30:31.590633Z"
    }
   },
   "outputs": [
    {
     "name": "stdout",
     "output_type": "stream",
     "text": [
      "‼️Geladene Input Variablen:  ['sigma_0', 'delta_epsilon']\n",
      "‼️Geladene Output Variablen:  ['sigma_1']\n",
      "‼️Input points: {'data': LabelTensor([[[1.0000e+00, 5.0000e-04]],\n",
      "             [[1.2000e+00, 5.0000e-04]],\n",
      "             [[1.4400e+00, 5.0000e-04]],\n",
      "             [[1.7280e+00, 5.0000e-04]],\n",
      "             [[2.0736e+00, 5.0000e-04]],\n",
      "             [[2.4883e+00, 5.0000e-04]],\n",
      "             [[2.9860e+00, 5.0000e-04]],\n",
      "             [[3.5832e+00, 5.0000e-04]],\n",
      "             [[4.2998e+00, 5.0000e-04]],\n",
      "             [[5.1598e+00, 5.0000e-04]],\n",
      "             [[6.1917e+00, 5.0000e-04]],\n",
      "             [[7.4301e+00, 5.0000e-04]],\n",
      "             [[8.9161e+00, 5.0000e-04]],\n",
      "             [[1.0699e+01, 5.0000e-04]],\n",
      "             [[1.2839e+01, 5.0000e-04]],\n",
      "             [[1.5407e+01, 5.0000e-04]],\n",
      "             [[1.8488e+01, 5.0000e-04]],\n",
      "             [[2.2186e+01, 5.0000e-04]],\n",
      "             [[2.6623e+01, 5.0000e-04]],\n",
      "             [[3.1948e+01, 5.0000e-04]],\n",
      "             [[3.8338e+01, 5.0000e-04]],\n",
      "             [[4.6005e+01, 5.0000e-04]],\n",
      "             [[5.5206e+01, 5.0000e-04]],\n",
      "             [[6.6247e+01, 5.0000e-04]],\n",
      "             [[7.9497e+01, 5.0000e-04]],\n",
      "             [[9.5396e+01, 5.0000e-04]],\n",
      "             [[1.1448e+02, 5.0000e-04]],\n",
      "             [[1.3737e+02, 5.0000e-04]],\n",
      "             [[1.6484e+02, 5.0000e-04]],\n",
      "             [[1.9781e+02, 5.0000e-04]],\n",
      "             [[2.3738e+02, 5.0000e-04]],\n",
      "             [[2.8485e+02, 5.0000e-04]],\n",
      "             [[3.4182e+02, 5.0000e-04]],\n",
      "             [[4.1019e+02, 5.0000e-04]],\n",
      "             [[4.9222e+02, 5.0000e-04]],\n",
      "             [[5.9067e+02, 5.0000e-04]],\n",
      "             [[7.0880e+02, 5.0000e-04]],\n",
      "             [[8.5056e+02, 5.0000e-04]],\n",
      "             [[1.0207e+03, 5.0000e-04]],\n",
      "             [[1.2248e+03, 5.0000e-04]],\n",
      "             [[1.4698e+03, 5.0000e-04]],\n",
      "             [[1.7637e+03, 5.0000e-04]],\n",
      "             [[2.1165e+03, 5.0000e-04]],\n",
      "             [[2.5398e+03, 5.0000e-04]],\n",
      "             [[3.0477e+03, 5.0000e-04]],\n",
      "             [[3.6573e+03, 5.0000e-04]],\n",
      "             [[4.3887e+03, 5.0000e-04]],\n",
      "             [[5.2665e+03, 5.0000e-04]],\n",
      "             [[6.3197e+03, 5.0000e-04]],\n",
      "             [[7.5837e+03, 5.0000e-04]],\n",
      "             [[9.1004e+03, 5.0000e-04]],\n",
      "             [[1.0921e+04, 5.0000e-04]],\n",
      "             [[1.3105e+04, 5.0000e-04]],\n",
      "             [[1.5726e+04, 5.0000e-04]],\n",
      "             [[1.8871e+04, 5.0000e-04]],\n",
      "             [[2.2645e+04, 5.0000e-04]],\n",
      "             [[2.7174e+04, 5.0000e-04]],\n",
      "             [[3.2609e+04, 5.0000e-04]],\n",
      "             [[3.9130e+04, 5.0000e-04]],\n",
      "             [[4.6956e+04, 5.0000e-04]],\n",
      "             [[5.6348e+04, 5.0000e-04]],\n",
      "             [[6.7617e+04, 5.0000e-04]],\n",
      "             [[8.1140e+04, 5.0000e-04]],\n",
      "             [[9.7369e+04, 5.0000e-04]],\n",
      "             [[1.1684e+05, 5.0000e-04]],\n",
      "             [[1.4021e+05, 5.0000e-04]],\n",
      "             [[1.6825e+05, 5.0000e-04]],\n",
      "             [[2.0190e+05, 5.0000e-04]],\n",
      "             [[2.4228e+05, 5.0000e-04]],\n",
      "             [[2.9074e+05, 5.0000e-04]],\n",
      "             [[3.4889e+05, 5.0000e-04]],\n",
      "             [[4.1867e+05, 5.0000e-04]],\n",
      "             [[5.0240e+05, 5.0000e-04]],\n",
      "             [[6.0288e+05, 5.0000e-04]],\n",
      "             [[7.2346e+05, 5.0000e-04]],\n",
      "             [[8.6815e+05, 5.0000e-04]],\n",
      "             [[1.0418e+06, 5.0000e-04]],\n",
      "             [[1.2501e+06, 5.0000e-04]],\n",
      "             [[1.5002e+06, 5.0000e-04]],\n",
      "             [[1.8002e+06, 5.0000e-04]],\n",
      "             [[2.1602e+06, 5.0000e-04]],\n",
      "             [[2.5923e+06, 5.0000e-04]],\n",
      "             [[3.1107e+06, 5.0000e-04]],\n",
      "             [[3.7329e+06, 5.0000e-04]],\n",
      "             [[4.4794e+06, 5.0000e-04]],\n",
      "             [[5.3753e+06, 5.0000e-04]],\n",
      "             [[6.4504e+06, 5.0000e-04]],\n",
      "             [[7.7405e+06, 5.0000e-04]],\n",
      "             [[9.2886e+06, 5.0000e-04]],\n",
      "             [[1.1146e+07, 5.0000e-04]],\n",
      "             [[1.3376e+07, 5.0000e-04]],\n",
      "             [[1.6051e+07, 5.0000e-04]],\n",
      "             [[1.9261e+07, 5.0000e-04]],\n",
      "             [[2.3113e+07, 5.0000e-04]]])}\n"
     ]
    }
   ],
   "source": [
    "from pina.problem import AbstractProblem\n",
    "from pina.geometry import CartesianDomain\n",
    "from pina import Condition\n",
    "class SimpleODE(AbstractProblem):\n",
    "\n",
    "    # Definition der Eingabe- und Ausgabevariablen basierend auf LabelTensor\n",
    "    input_variables = input_points_combined.labels\n",
    "    output_variables = sigma_1_train.labels\n",
    "\n",
    "    # Wertebereich\n",
    "    domain = CartesianDomain({'sigma_0': [0, 1], 'delta_epsilon': [0, 1]})  # Wertebereich immer definieren!\n",
    "\n",
    "    # Definition der Randbedingungen und (hier: nur) vorberechnetet Punkte\n",
    "    conditions = {\n",
    "        'data': Condition(input_points=input_points_combined, output_points=sigma_1_train),\n",
    "    }\n",
    "\n",
    "    output_pts=sigma_1_train\n",
    "\n",
    "    # Methode zur Definition der \"wahren Lösung\" des Problems\n",
    "    def truth_solution(self, pts):\n",
    "        return torch.exp(pts.extract(['sigma_0']))\n",
    "\n",
    "# Problem-Instanz erzeugen\n",
    "problem = SimpleODE()\n",
    "\n",
    "# Datengenerierung, falls Randbedingungen definiert\n",
    "# problem.discretise_domain(n=993, mode='random', variables='all', locations='all') # Notwendig, wenn \"input_pts\" und \"output_pts\" nicht vorgegeben sind\n",
    "\n",
    "if debug_mode.value:\n",
    "    # Debugging-Ausgaben\n",
    "    print(\"‼️Geladene Input Variablen: \", problem.input_variables)\n",
    "    print(\"‼️Geladene Output Variablen: \", problem.output_variables)\n",
    "    print('‼️Input points:', problem.input_pts)"
   ]
  },
  {
   "cell_type": "markdown",
   "id": "b017454f5732f1b5",
   "metadata": {},
   "source": [
    "## Visualisierung Sampling\n",
    "Darstellung Input: `sigma_0` und `delta_epsilon`"
   ]
  },
  {
   "cell_type": "code",
   "execution_count": 23,
   "id": "8177115081d371bf",
   "metadata": {
    "ExecuteTime": {
     "end_time": "2025-03-12T08:30:33.410973Z",
     "start_time": "2025-03-12T08:30:32.818773Z"
    }
   },
   "outputs": [],
   "source": [
    "from pina import Plotter\n",
    "\n",
    "pl = Plotter()\n",
    "pl.plot_samples(problem=problem, filename='./graph/visual_sampling.png', variables=['delta_epsilon','sigma_0'])"
   ]
  },
  {
   "cell_type": "markdown",
   "id": "ef2f6bff-b204-4fee-bb31-e02641eb9fea",
   "metadata": {},
   "source": [
    "![Result of sampling](./graph/visual_sampling.png)"
   ]
  },
  {
   "cell_type": "code",
   "execution_count": 8,
   "id": "aeb7ce50b0b515f4",
   "metadata": {
    "ExecuteTime": {
     "start_time": "2025-03-12T08:30:34.000486Z"
    },
    "jupyter": {
     "is_executing": true
    }
   },
   "outputs": [
    {
     "name": "stderr",
     "output_type": "stream",
     "text": [
      "GPU available: False, used: False\n",
      "TPU available: False, using: 0 TPU cores\n",
      "HPU available: False, using: 0 HPUs\n"
     ]
    },
    {
     "name": "stdout",
     "output_type": "stream",
     "text": [
      "‼️Länge der Eingabepunkte (input_pts): 94\n",
      "‼️Länge der Ausgabepunkte (output_pts): 94\n"
     ]
    },
    {
     "name": "stderr",
     "output_type": "stream",
     "text": [
      "C:\\Users\\hab185\\Documents\\00_Tim\\01_Implementierung\\pina_oedometer\\venv\\Lib\\site-packages\\pytorch_lightning\\loops\\fit_loop.py:310: The number of training batches (10) is smaller than the logging interval Trainer(log_every_n_steps=50). Set a lower value for log_every_n_steps if you want to see logs for the training epoch.\n"
     ]
    },
    {
     "data": {
      "application/vnd.jupyter.widget-view+json": {
       "model_id": "398d6f6b3dc049a3a72fa942f4505903",
       "version_major": 2,
       "version_minor": 0
      },
      "text/plain": [
       "Training: |                                                                    | 0/? [00:00<?, ?it/s]"
      ]
     },
     "metadata": {},
     "output_type": "display_data"
    },
    {
     "name": "stderr",
     "output_type": "stream",
     "text": [
      "`Trainer.fit` stopped: `max_epochs=1500` reached.\n"
     ]
    },
    {
     "data": {
      "text/plain": [
       "{'data_loss': tensor(0.0019), 'mean_loss': tensor(0.0019)}"
      ]
     },
     "execution_count": 8,
     "metadata": {},
     "output_type": "execute_result"
    }
   ],
   "source": [
    "from pina import Trainer\n",
    "from pina.solvers import PINN\n",
    "from pina.model import FeedForward\n",
    "from pina.callbacks import MetricTracker\n",
    "import torch\n",
    "from pytorch_lightning.loggers import TensorBoardLogger  # Import TensorBoard Logger\n",
    "\n",
    "if debug_mode.value:\n",
    "    # Überprüfen der Größe der Eingabepunkte und Ausgabepunkte\n",
    "    print(\"‼️Länge der Eingabepunkte (input_pts):\", len(problem.input_pts['data']))\n",
    "    print(\"‼️Länge der Ausgabepunkte (output_pts):\", len(problem.output_pts))\n",
    "\n",
    "# Model erstellen\n",
    "model = FeedForward(\n",
    "    layers=[50, 50, 50],\n",
    "    func=torch.nn.ReLU,\n",
    "    output_dimensions=len(problem.output_variables),\n",
    "    input_dimensions=len(problem.input_variables)\n",
    ")\n",
    "\n",
    "# PINN-Objekt erstellen\n",
    "pinn = PINN(problem, model)\n",
    "\n",
    "# TensorBoard-Logger einrichten\n",
    "logger = TensorBoardLogger(\"tensorboard_logs\", name=\"pina_experiment\")\n",
    "\n",
    "# Trainer erstellen mit TensorBoard-Logger\n",
    "trainer = Trainer(\n",
    "    solver=pinn,\n",
    "    max_epochs=1500,\n",
    "    callbacks=[MetricTracker()],\n",
    "    batch_size=10,\n",
    "    accelerator='cpu',\n",
    "    logger=logger,\n",
    "    enable_model_summary=False,\n",
    ")\n",
    "\n",
    "\n",
    "# Training starten\n",
    "trainer.train()\n",
    "\n",
    "# Inspect final loss\n",
    "trainer.logged_metrics\n"
   ]
  },
  {
   "cell_type": "code",
   "execution_count": 22,
   "id": "de070fe2-16f3-40f1-8602-36aebfb3818a",
   "metadata": {},
   "outputs": [],
   "source": [
    "import matplotlib\n",
    "matplotlib.use('Agg')\n",
    "import matplotlib.pyplot as plt\n",
    "import torch\n",
    "\n",
    "# Erstelle die Eingabedaten als LabelTensor für das trainierte Modell\n",
    "input_data = LabelTensor(torch.tensor(\n",
    "    np.column_stack((data_dict['sigma_0'], data_dict['delta_epsilon'])), dtype=torch.float\n",
    "), ['sigma_0', 'delta_epsilon'])\n",
    "\n",
    "# Model-Vorhersage für sigma_1 berechnen\n",
    "sigma_1_pred = pinn(input_data).detach().numpy()\n",
    "\n",
    "# Plot der wahren vs. vorhergesagten Werte\n",
    "plt.figure(figsize=(8, 5))\n",
    "\n",
    "plt.plot(data_dict['sigma_0'], data_dict['sigma_1'], label=\"True Solution (sigma_1)\", linestyle='dashed', color='blue')\n",
    "plt.plot(data_dict['sigma_0'], sigma_1_pred, label=\"NN Prediction (sigma_1)\", linestyle='solid', color='red')\n",
    "\n",
    "plt.xlabel(\"sigma_0\")\n",
    "plt.ylabel(\"sigma_1\")\n",
    "plt.title(\"Prediction vs. True Solution (delta_epsilon=0.0005)\")\n",
    "plt.legend()\n",
    "plt.grid()\n",
    "plt.savefig('./graph/visual_prediction-vs-truesolution.png',)\n"
   ]
  },
  {
   "cell_type": "markdown",
   "id": "96df330f-68a8-4a28-bec1-7a7d4a3446e9",
   "metadata": {},
   "source": [
    "![Prediction vs True Solution](./graph/visual_prediction-vs-truesolution.png)"
   ]
  },
  {
   "cell_type": "code",
   "execution_count": 16,
   "id": "367434e3c1076341",
   "metadata": {
    "ExecuteTime": {
     "end_time": "2025-03-12T08:26:45.282465Z",
     "start_time": "2025-03-12T08:26:44.026059Z"
    }
   },
   "outputs": [],
   "source": [
    "pl.plot(solver=pinn, filename='./graph/visual_nn-result-error.png')"
   ]
  },
  {
   "cell_type": "markdown",
   "id": "f13d0a8e-8bdd-4e64-9050-34555235972c",
   "metadata": {},
   "source": [
    "![NN Error result](./graph/visual_nn-result-error.png)"
   ]
  },
  {
   "cell_type": "markdown",
   "id": "f875cc14cf077767",
   "metadata": {},
   "source": [
    "## Visualisierung Loss-Kurve\n"
   ]
  },
  {
   "cell_type": "code",
   "execution_count": 20,
   "id": "2cc792fe16f92e4b",
   "metadata": {
    "ExecuteTime": {
     "end_time": "2025-03-12T08:21:28.768753Z",
     "start_time": "2025-03-12T08:21:26.295329Z"
    }
   },
   "outputs": [],
   "source": [
    "# plotting the solution\n",
    "pl.plot_loss(trainer, label='mean_loss', logy=True, filename='./graph/visual_loss.png')"
   ]
  },
  {
   "cell_type": "markdown",
   "id": "13090c84-d24e-467c-9532-ccd4c8bff9c9",
   "metadata": {},
   "source": [
    "![Loss Kurve](./graph/visual_loss.png)"
   ]
  }
 ],
 "metadata": {
  "kernelspec": {
   "display_name": "Python (venv)",
   "language": "python",
   "name": "venv"
  },
  "language_info": {
   "codemirror_mode": {
    "name": "ipython",
    "version": 3
   },
   "file_extension": ".py",
   "mimetype": "text/x-python",
   "name": "python",
   "nbconvert_exporter": "python",
   "pygments_lexer": "ipython3",
   "version": "3.12.9"
  }
 },
 "nbformat": 4,
 "nbformat_minor": 5
}
