{
 "cells": [
  {
   "cell_type": "markdown",
   "id": "c5f4335f-371f-4efa-8556-b97e8fa67aaa",
   "metadata": {},
   "source": [
    "# MODUL PyTorch (Python 3.12)"
   ]
  },
  {
   "cell_type": "markdown",
   "id": "c2904ec5-a97d-4eb6-ac1d-90e29c1ed796",
   "metadata": {},
   "source": [
    "# Vorhersage des Ödometerversuches implementiert\n",
    "Ziel war die Implementierung eines neuronalen Netzwerks zur Modellierung des Ödometerversuchs. Dabei wurden gegebene Input-Parameter verarbeitet, um Output-Parameter vorherzusagen.\n",
    "\n",
    "#### Das Problem ist wie folgt definiert:\n",
    "$$\n",
    "\\begin{array}{rcl}\n",
    "    \\sigma_{t+1} & = & \\sigma_{t}+\\Delta\\sigma \\\\ \\\\\n",
    "    \\Delta\\sigma & = & E_s\\cdot \\Delta\\epsilon \\\\ \n",
    "    E_s & = & \\frac{1+e_0}{C_c} \\cdot \\sigma_t\n",
    "\\end{array}\n",
    "\\hspace{2cm}\n",
    "\\begin{array}{l}\n",
    "    \\textbf{Annahmen:} \\\\ \\\\\n",
    "    \\text{Startwert d. Iteration: } \\sigma_t = 1,00 \\\\ \n",
    "    e_0 = 1,00 \\\\ \n",
    "    C_c = 0,005 \\\\\n",
    "    \\Delta\\epsilon = 0,0005\n",
    "\\end{array}\n",
    "$$\n",
    "\n",
    "<br> \n",
    "\n",
    "Um das Model zu testen werden wir folgende vorberechnete Werte verwenden: `Input` { $\\sigma_t$ }, `Output` { $E_s$ }.\n",
    "<br>\n",
    "### Variablendeklaration\n",
    "- $\\sigma_t$ = `sigma_t`\n",
    "- $\\Delta\\epsilon$ = `delta_epsilon`\n",
    "- $\\sigma_{t+1}$ = `delta_sigma\n",
    "- $E_s$ = `e_s`"
   ]
  },
  {
   "cell_type": "markdown",
   "id": "13b26b83-3c36-4097-a772-773e737fa8ee",
   "metadata": {},
   "source": [
    "# Generate random trainingsdata"
   ]
  },
  {
   "cell_type": "code",
   "execution_count": 1,
   "id": "7717f27f-02b2-4dec-9483-21bdf8ae74cd",
   "metadata": {},
   "outputs": [],
   "source": [
    "from random import randint\n",
    "\n",
    "# Define input and output parameters\n",
    "input_str = \"sigma_t\"\n",
    "output_str = \"e_s\"\n",
    "\n",
    "# Defining problem parameters\n",
    "delta_epsilon=0.0005\n",
    "C_c = 0.005\n",
    "e_0 = 1.0\n",
    "amount_trainings_data = 100\n",
    "\n",
    "# Data preparation for \n",
    "oedo_para = {\n",
    "    'max_n': 1,\n",
    "    'e_0': e_0,\n",
    "    'C_c': C_c,\n",
    "    'delta_epsilon' : delta_epsilon,\n",
    "}"
   ]
  },
  {
   "cell_type": "markdown",
   "id": "b0447730-f3fc-43ef-b76f-30e7d77852b6",
   "metadata": {},
   "source": [
    "# Load problem and generate trainings data from 00_problem_settings_functions.ipynb\n",
    "\n",
    "Available classes: `Oedometer` <br>\n",
    "Returns `list_input` and `list_output` as type `list` <br>\n",
    "Returns `tensor_input` and `tensor_output` as type `tensor`"
   ]
  },
  {
   "cell_type": "code",
   "execution_count": 2,
   "id": "8f8d8ca1-7a2c-4c00-8b62-c12c2a8aec51",
   "metadata": {},
   "outputs": [],
   "source": [
    "%run 00_problem_settings_functions.ipynb\n",
    "\n",
    "# Loads:\n",
    "# Oedometer class\n",
    "\n",
    "# Returns\n",
    "# list_input: list\n",
    "# list_output: list\n",
    "\n",
    "# tensor_input: tensor\n",
    "# tensor_output: tensor"
   ]
  },
  {
   "cell_type": "markdown",
   "id": "7a7a9e84-c70a-4eee-995f-b7fc3a50366a",
   "metadata": {},
   "source": [
    "# Show trainingsdata (List) as DataFrame\n",
    "Type `list`: `list_input` and `list_output`"
   ]
  },
  {
   "cell_type": "code",
   "execution_count": 3,
   "id": "5f31c502-6c2a-44a0-965f-a64951a6bde2",
   "metadata": {},
   "outputs": [
    {
     "data": {
      "text/html": [
       "<div>\n",
       "<style scoped>\n",
       "    .dataframe tbody tr th:only-of-type {\n",
       "        vertical-align: middle;\n",
       "    }\n",
       "\n",
       "    .dataframe tbody tr th {\n",
       "        vertical-align: top;\n",
       "    }\n",
       "\n",
       "    .dataframe thead th {\n",
       "        text-align: right;\n",
       "    }\n",
       "</style>\n",
       "<table border=\"1\" class=\"dataframe\">\n",
       "  <thead>\n",
       "    <tr style=\"text-align: right;\">\n",
       "      <th></th>\n",
       "      <th>0</th>\n",
       "      <th>1</th>\n",
       "      <th>2</th>\n",
       "      <th>3</th>\n",
       "      <th>4</th>\n",
       "      <th>5</th>\n",
       "      <th>6</th>\n",
       "      <th>7</th>\n",
       "      <th>8</th>\n",
       "      <th>9</th>\n",
       "      <th>...</th>\n",
       "      <th>91</th>\n",
       "      <th>92</th>\n",
       "      <th>93</th>\n",
       "      <th>94</th>\n",
       "      <th>95</th>\n",
       "      <th>96</th>\n",
       "      <th>97</th>\n",
       "      <th>98</th>\n",
       "      <th>99</th>\n",
       "      <th>100</th>\n",
       "    </tr>\n",
       "  </thead>\n",
       "  <tbody>\n",
       "    <tr>\n",
       "      <th>0</th>\n",
       "      <td>sigma_t</td>\n",
       "      <td>34.0</td>\n",
       "      <td>40.0</td>\n",
       "      <td>3.0</td>\n",
       "      <td>48.0</td>\n",
       "      <td>25.0</td>\n",
       "      <td>26.0</td>\n",
       "      <td>27.0</td>\n",
       "      <td>4.0</td>\n",
       "      <td>41.0</td>\n",
       "      <td>...</td>\n",
       "      <td>13.0</td>\n",
       "      <td>29.0</td>\n",
       "      <td>17.0</td>\n",
       "      <td>48.0</td>\n",
       "      <td>1.0</td>\n",
       "      <td>16.0</td>\n",
       "      <td>38.0</td>\n",
       "      <td>35.0</td>\n",
       "      <td>45.0</td>\n",
       "      <td>50.0</td>\n",
       "    </tr>\n",
       "    <tr>\n",
       "      <th>1</th>\n",
       "      <td>e_s</td>\n",
       "      <td>13600.0</td>\n",
       "      <td>16000.0</td>\n",
       "      <td>1200.0</td>\n",
       "      <td>19200.0</td>\n",
       "      <td>10000.0</td>\n",
       "      <td>10400.0</td>\n",
       "      <td>10800.0</td>\n",
       "      <td>1600.0</td>\n",
       "      <td>16400.0</td>\n",
       "      <td>...</td>\n",
       "      <td>5200.0</td>\n",
       "      <td>11600.0</td>\n",
       "      <td>6800.0</td>\n",
       "      <td>19200.0</td>\n",
       "      <td>400.0</td>\n",
       "      <td>6400.0</td>\n",
       "      <td>15200.0</td>\n",
       "      <td>14000.0</td>\n",
       "      <td>18000.0</td>\n",
       "      <td>20000.0</td>\n",
       "    </tr>\n",
       "  </tbody>\n",
       "</table>\n",
       "<p>2 rows × 101 columns</p>\n",
       "</div>"
      ],
      "text/plain": [
       "       0        1        2       3        4        5        6        7    \\\n",
       "0  sigma_t     34.0     40.0     3.0     48.0     25.0     26.0     27.0   \n",
       "1      e_s  13600.0  16000.0  1200.0  19200.0  10000.0  10400.0  10800.0   \n",
       "\n",
       "      8        9    ...     91       92      93       94     95      96   \\\n",
       "0     4.0     41.0  ...    13.0     29.0    17.0     48.0    1.0    16.0   \n",
       "1  1600.0  16400.0  ...  5200.0  11600.0  6800.0  19200.0  400.0  6400.0   \n",
       "\n",
       "       97       98       99       100  \n",
       "0     38.0     35.0     45.0     50.0  \n",
       "1  15200.0  14000.0  18000.0  20000.0  \n",
       "\n",
       "[2 rows x 101 columns]"
      ]
     },
     "execution_count": 3,
     "metadata": {},
     "output_type": "execute_result"
    }
   ],
   "source": [
    "import pandas as pd\n",
    "from pandas import DataFrame\n",
    "\n",
    "pd.DataFrame([[input_str] + list_input, [output_str] + list_output])"
   ]
  },
  {
   "cell_type": "markdown",
   "id": "3078d544-544e-430c-b33d-d1141694f40d",
   "metadata": {},
   "source": [
    "# Show trainingsdata (Tensor) as DataFrame\n",
    "Type `tensor`: `tensor_input` and `tensor_output`"
   ]
  },
  {
   "cell_type": "code",
   "execution_count": 4,
   "id": "cdefa83c-e0a8-423c-acc7-b25e79b9234c",
   "metadata": {},
   "outputs": [
    {
     "data": {
      "text/html": [
       "<div>\n",
       "<style scoped>\n",
       "    .dataframe tbody tr th:only-of-type {\n",
       "        vertical-align: middle;\n",
       "    }\n",
       "\n",
       "    .dataframe tbody tr th {\n",
       "        vertical-align: top;\n",
       "    }\n",
       "\n",
       "    .dataframe thead th {\n",
       "        text-align: right;\n",
       "    }\n",
       "</style>\n",
       "<table border=\"1\" class=\"dataframe\">\n",
       "  <thead>\n",
       "    <tr style=\"text-align: right;\">\n",
       "      <th></th>\n",
       "      <th>sigma_t</th>\n",
       "      <th>e_s</th>\n",
       "    </tr>\n",
       "  </thead>\n",
       "  <tbody>\n",
       "    <tr>\n",
       "      <th>0</th>\n",
       "      <td>34.0</td>\n",
       "      <td>13600.0</td>\n",
       "    </tr>\n",
       "    <tr>\n",
       "      <th>1</th>\n",
       "      <td>40.0</td>\n",
       "      <td>16000.0</td>\n",
       "    </tr>\n",
       "    <tr>\n",
       "      <th>2</th>\n",
       "      <td>3.0</td>\n",
       "      <td>1200.0</td>\n",
       "    </tr>\n",
       "    <tr>\n",
       "      <th>3</th>\n",
       "      <td>48.0</td>\n",
       "      <td>19200.0</td>\n",
       "    </tr>\n",
       "    <tr>\n",
       "      <th>4</th>\n",
       "      <td>25.0</td>\n",
       "      <td>10000.0</td>\n",
       "    </tr>\n",
       "    <tr>\n",
       "      <th>...</th>\n",
       "      <td>...</td>\n",
       "      <td>...</td>\n",
       "    </tr>\n",
       "    <tr>\n",
       "      <th>95</th>\n",
       "      <td>16.0</td>\n",
       "      <td>6400.0</td>\n",
       "    </tr>\n",
       "    <tr>\n",
       "      <th>96</th>\n",
       "      <td>38.0</td>\n",
       "      <td>15200.0</td>\n",
       "    </tr>\n",
       "    <tr>\n",
       "      <th>97</th>\n",
       "      <td>35.0</td>\n",
       "      <td>14000.0</td>\n",
       "    </tr>\n",
       "    <tr>\n",
       "      <th>98</th>\n",
       "      <td>45.0</td>\n",
       "      <td>18000.0</td>\n",
       "    </tr>\n",
       "    <tr>\n",
       "      <th>99</th>\n",
       "      <td>50.0</td>\n",
       "      <td>20000.0</td>\n",
       "    </tr>\n",
       "  </tbody>\n",
       "</table>\n",
       "<p>100 rows × 2 columns</p>\n",
       "</div>"
      ],
      "text/plain": [
       "    sigma_t      e_s\n",
       "0      34.0  13600.0\n",
       "1      40.0  16000.0\n",
       "2       3.0   1200.0\n",
       "3      48.0  19200.0\n",
       "4      25.0  10000.0\n",
       "..      ...      ...\n",
       "95     16.0   6400.0\n",
       "96     38.0  15200.0\n",
       "97     35.0  14000.0\n",
       "98     45.0  18000.0\n",
       "99     50.0  20000.0\n",
       "\n",
       "[100 rows x 2 columns]"
      ]
     },
     "execution_count": 4,
     "metadata": {},
     "output_type": "execute_result"
    }
   ],
   "source": [
    "tensor_input_df = pd.DataFrame(torch.cat((tensor_input, tensor_output), dim=1), columns = [input_str, output_str])\n",
    "tensor_input_df"
   ]
  },
  {
   "cell_type": "markdown",
   "id": "e2731ce5-ce2a-4736-8c76-ef4b2d026425",
   "metadata": {},
   "source": [
    "# Define SimpleRegressor Model"
   ]
  },
  {
   "cell_type": "code",
   "execution_count": 5,
   "id": "72bd6fd0-9fb6-43a1-81b4-02a12102da6e",
   "metadata": {},
   "outputs": [],
   "source": [
    "import torch.nn as nn\n",
    "import torch.optim as optim\n",
    "\n",
    "\n",
    "class SimpleRegressor(nn.Module):\n",
    "    def __init__(self):\n",
    "        super(SimpleRegressor, self).__init__()\n",
    "        self.model = nn.Sequential(\n",
    "            nn.Linear(1, 16),\n",
    "            nn.ReLU(),\n",
    "            nn.Linear(16, 16),\n",
    "            nn.ReLU(),\n",
    "            nn.Linear(16, 1)\n",
    "        )\n",
    "\n",
    "    def forward(self, x):\n",
    "        return self.model(x)\n",
    "\n",
    "model = SimpleRegressor()"
   ]
  },
  {
   "cell_type": "markdown",
   "id": "2f3eb6e7-a76f-4f1f-9df3-c3d1a500b181",
   "metadata": {},
   "source": [
    "# Training"
   ]
  },
  {
   "cell_type": "code",
   "execution_count": 6,
   "id": "3ae2b132-a2fc-4653-bf5e-fc09ac2d2954",
   "metadata": {},
   "outputs": [
    {
     "name": "stdout",
     "output_type": "stream",
     "text": [
      "Epoch 0: Loss = 164388352.000000\n",
      "Epoch 100: Loss = 59732164.000000\n",
      "Epoch 200: Loss = 23044.695312\n",
      "Epoch 300: Loss = 18864.078125\n",
      "Epoch 400: Loss = 17792.021484\n",
      "Epoch 500: Loss = 16619.511719\n",
      "Epoch 600: Loss = 15380.528320\n",
      "Epoch 700: Loss = 14104.119141\n",
      "Epoch 800: Loss = 12816.188477\n",
      "Epoch 900: Loss = 11539.077148\n",
      "Epoch 1000: Loss = 10292.585938\n",
      "Epoch 1100: Loss = 9093.348633\n",
      "Epoch 1200: Loss = 7955.276367\n",
      "Epoch 1300: Loss = 6889.467285\n",
      "Epoch 1400: Loss = 5904.148926\n",
      "Epoch 1500: Loss = 5004.942383\n",
      "Epoch 1600: Loss = 4194.889648\n",
      "Epoch 1700: Loss = 3474.635010\n",
      "Epoch 1800: Loss = 2842.881348\n",
      "Epoch 1900: Loss = 2296.215576\n",
      "Epoch 2000: Loss = 1829.837158\n",
      "Epoch 2100: Loss = 1437.820923\n",
      "Epoch 2200: Loss = 1113.266724\n",
      "Epoch 2300: Loss = 848.738770\n",
      "Epoch 2400: Loss = 636.695984\n",
      "Epoch 2500: Loss = 469.596405\n",
      "Epoch 2600: Loss = 340.248871\n",
      "Epoch 2700: Loss = 241.974396\n",
      "Epoch 2800: Loss = 168.754547\n",
      "Epoch 2900: Loss = 115.303314\n",
      "Epoch 3000: Loss = 77.102959\n",
      "Epoch 3100: Loss = 50.410179\n",
      "Epoch 3200: Loss = 32.186195\n",
      "Epoch 3300: Loss = 20.041536\n",
      "Epoch 3400: Loss = 12.162102\n",
      "Epoch 3500: Loss = 7.178859\n",
      "Epoch 3600: Loss = 4.116723\n",
      "Epoch 3700: Loss = 2.290201\n",
      "Epoch 3800: Loss = 1.233857\n",
      "Epoch 3900: Loss = 0.643047\n",
      "Epoch 4000: Loss = 0.322965\n",
      "Epoch 4100: Loss = 0.156275\n",
      "Epoch 4200: Loss = 0.072982\n",
      "Epoch 4300: Loss = 0.032639\n",
      "Epoch 4400: Loss = 0.014010\n",
      "Epoch 4500: Loss = 0.005768\n",
      "Epoch 4600: Loss = 0.002256\n",
      "Epoch 4700: Loss = 0.000842\n",
      "Epoch 4800: Loss = 0.000303\n",
      "Epoch 4900: Loss = 0.000106\n"
     ]
    }
   ],
   "source": [
    "loss_fn = nn.MSELoss()\n",
    "optimizer = optim.Adam(model.parameters(), lr=0.01)\n",
    "\n",
    "epochs = 5000\n",
    "loss_history = []\n",
    "for epoch in range(epochs):\n",
    "    model.train()\n",
    "    optimizer.zero_grad()\n",
    "    pred = model(tensor_input)\n",
    "    loss = loss_fn(pred, tensor_output)\n",
    "    loss.backward()\n",
    "    loss_history.append(loss.item())\n",
    "    optimizer.step()\n",
    "\n",
    "    if epoch % 100 == 0:\n",
    "        print(f\"Epoch {epoch}: Loss = {loss.item():.6f}\")"
   ]
  },
  {
   "cell_type": "markdown",
   "id": "c931e624-e472-4885-b82d-8699ea4393a4",
   "metadata": {},
   "source": [
    "# Loss function"
   ]
  },
  {
   "cell_type": "code",
   "execution_count": 7,
   "id": "c2db9924-e24e-45ad-9e6e-e61fbef2ad3e",
   "metadata": {},
   "outputs": [
    {
     "data": {
      "image/png": "[encoded data removed]",
      "text/plain": [
       "<Figure size 640x480 with 1 Axes>"
      ]
     },
     "metadata": {},
     "output_type": "display_data"
    }
   ],
   "source": [
    "import matplotlib.pyplot as plt\n",
    "\n",
    "plt.plot(loss_history, label=\"Loss\")\n",
    "plt.xlabel('Epochs')\n",
    "plt.ylabel('Train Loss')\n",
    "plt.show()"
   ]
  },
  {
   "cell_type": "code",
   "execution_count": 8,
   "id": "ef8f1424-5f85-47c5-be60-aa8dcf276fee",
   "metadata": {},
   "outputs": [
    {
     "name": "stdout",
     "output_type": "stream",
     "text": [
      "tensor([[400.0122]])\n"
     ]
    }
   ],
   "source": [
    "pred_input = torch.tensor([1.0], dtype=torch.float).unsqueeze(-1) \n",
    "\n",
    "model.eval()\n",
    "with torch.no_grad():\n",
    "    pred = model(pred_input)\n",
    "\n",
    "print(pred)"
   ]
  },
  {
   "cell_type": "markdown",
   "id": "b2dc29c1-fba8-4f16-bc64-dcf0d1c0343d",
   "metadata": {},
   "source": [
    "# Plot of stress–strain curve"
   ]
  },
  {
   "cell_type": "code",
   "execution_count": 10,
   "id": "9767526b-a592-4c2f-9234-16fc25a8fb41",
   "metadata": {},
   "outputs": [
    {
     "name": "stderr",
     "output_type": "stream",
     "text": [
      "<>:31: SyntaxWarning: invalid escape sequence '\\s'\n",
      "<>:32: SyntaxWarning: invalid escape sequence '\\s'\n",
      "<>:38: SyntaxWarning: invalid escape sequence '\\s'\n",
      "<>:38: SyntaxWarning: invalid escape sequence '\\D'\n",
      "<>:31: SyntaxWarning: invalid escape sequence '\\s'\n",
      "<>:32: SyntaxWarning: invalid escape sequence '\\s'\n",
      "<>:38: SyntaxWarning: invalid escape sequence '\\s'\n",
      "<>:38: SyntaxWarning: invalid escape sequence '\\D'\n",
      "/tmp/ipykernel_6943/2538788619.py:31: SyntaxWarning: invalid escape sequence '\\s'\n",
      "  plt.scatter(sigma_true, e_s_pred, label='$E_{s,pred}$-$\\sigma_{true}$').set_color(\"red\")\n",
      "/tmp/ipykernel_6943/2538788619.py:32: SyntaxWarning: invalid escape sequence '\\s'\n",
      "  plt.scatter(sigma_pred, e_s_pred, label='$E_{s,pred}$-$\\sigma_{pred}$')\n",
      "/tmp/ipykernel_6943/2538788619.py:38: SyntaxWarning: invalid escape sequence '\\s'\n",
      "  plt.title(f'Spannungsdehnungs Verlauf mit $\\sigma_0={start_sigma}$ und $\\Delta\\epsilon=0.0005$')\n",
      "/tmp/ipykernel_6943/2538788619.py:38: SyntaxWarning: invalid escape sequence '\\D'\n",
      "  plt.title(f'Spannungsdehnungs Verlauf mit $\\sigma_0={start_sigma}$ und $\\Delta\\epsilon=0.0005$')\n"
     ]
    },
    {
     "data": {
      "image/png": "[encoded data removed]",
      "text/plain": [
       "<Figure size 640x480 with 1 Axes>"
      ]
     },
     "metadata": {},
     "output_type": "display_data"
    }
   ],
   "source": [
    "def plot_result(iterations=20, start_sigma=1, delta_epsilon=0.0005):\n",
    "    oedo_para = {\n",
    "    'max_n': iterations,\n",
    "    'e_0': 1.0,\n",
    "    'C_c': 0.005,\n",
    "    'delta_epsilon' : delta_epsilon,\n",
    "    'sigma_t' : start_sigma,\n",
    "    }\n",
    "\n",
    "    oedo = Oedometer(**oedo_para)\n",
    "    sigma_true = oedo.sigma_t\n",
    "    e_s_true = oedo.e_s\n",
    "    \n",
    "    # print(sigma_true)\n",
    "    # print(e_s_true)\n",
    "    model.eval()\n",
    "    e_s_pred = []\n",
    "    e_s_true_plot = []\n",
    "    sigma_t = start_sigma\n",
    "    sigma_pred = []\n",
    "    with torch.no_grad():\n",
    "        for i in range(iterations):\n",
    "            sigma_true_tensor = torch.tensor(sigma_true[i], dtype=torch.float).unsqueeze(-1) \n",
    "            pred = model(sigma_true_tensor)\n",
    "            e_s_pred.append(pred * sigma_true[i])\n",
    "            e_s_true_plot.append(e_s_true[i] * sigma_true[i])\n",
    "\n",
    "            sigma_t = sigma_t + pred * delta_epsilon\n",
    "            sigma_pred.append(sigma_t)\n",
    "    # Plot der Losskurve\n",
    "    plt.scatter(sigma_true, e_s_pred, label='$E_{s,pred}$-$\\sigma_{true}$').set_color(\"red\")\n",
    "    plt.scatter(sigma_pred, e_s_pred, label='$E_{s,pred}$-$\\sigma_{pred}$')\n",
    "    plt.plot(sigma_true, e_s_true_plot, label='$E_{s,true}$')\n",
    "\n",
    "    plt.gca().invert_yaxis()\n",
    "    plt.xlabel('$\\sigma_t$')\n",
    "    plt.ylabel('$\\epsilon$')\n",
    "    plt.title(f'Spannungsdehnungs Verlauf mit $\\sigma_0={start_sigma}$ und $\\Delta\\epsilon=0.0005$')\n",
    "    plt.legend()\n",
    "    plt.show()\n",
    "    \n",
    "plot_result()"
   ]
  }
 ],
 "metadata": {
  "kernelspec": {
   "display_name": "Python 3 (ipykernel)",
   "language": "python",
   "name": "python3"
  },
  "language_info": {
   "codemirror_mode": {
    "name": "ipython",
    "version": 3
   },
   "file_extension": ".py",
   "mimetype": "text/x-python",
   "name": "python",
   "nbconvert_exporter": "python",
   "pygments_lexer": "ipython3",
   "version": "3.12.11"
  }
 },
 "nbformat": 4,
 "nbformat_minor": 5
}
