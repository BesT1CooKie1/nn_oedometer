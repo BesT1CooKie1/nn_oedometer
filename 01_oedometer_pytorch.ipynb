{
 "cells": [
  {
   "cell_type": "markdown",
   "id": "c5f4335f-371f-4efa-8556-b97e8fa67aaa",
   "metadata": {},
   "source": [
    "# MODUL PyTorch"
   ]
  },
  {
   "cell_type": "markdown",
   "id": "c2904ec5-a97d-4eb6-ac1d-90e29c1ed796",
   "metadata": {},
   "source": [
    "# Vorhersage des Ödometerversuches implementiert\n",
    "Ziel war die Implementierung eines neuronalen Netzwerks zur Modellierung des Ödometerversuchs. Dabei wurden gegebene Input-Parameter verarbeitet, um Output-Parameter vorherzusagen.\n",
    "\n",
    "#### Das Problem ist wie folgt definiert:\n",
    "$$\n",
    "\\begin{array}{rcl}\n",
    "    \\sigma_{t+1} & = & \\sigma_{t}+\\Delta\\sigma \\\\ \\\\\n",
    "    \\Delta\\sigma & = & E_s\\cdot \\Delta\\epsilon \\\\ \n",
    "    E_s & = & \\frac{1+e_0}{C_c} \\cdot \\sigma_t\n",
    "\\end{array}\n",
    "\\hspace{2cm}\n",
    "\\begin{array}{l}\n",
    "    \\textbf{Annahmen:} \\\\ \\\\\n",
    "    \\text{Startwert d. Iteration: } \\sigma_t = 1,00 \\\\ \n",
    "    e_0 = 1,00 \\\\ \n",
    "    C_c = 0,005 \\\\\n",
    "    \\Delta\\epsilon = 0,0005\n",
    "\\end{array}\n",
    "$$\n",
    "\n",
    "<br> \n",
    "\n",
    "Um das PINA-Model zu testen werden wir folgende vorberechnete Werte verwenden: `Input` { $\\sigma_t$ ; $\\Delta\\epsilon$ }, `Output` { $\\sigma_{t+1}$ }.\n",
    "<br>\n",
    "### Variablendeklaration\n",
    "- $\\sigma_t$ = `sigma_t`\n",
    "- $\\Delta\\epsilon$ = `delta_epsilon`\n",
    "- $\\sigma_{t+1}$ = `delta_sigma\n",
    "- $E_s$ = `e_s`"
   ]
  },
  {
   "cell_type": "markdown",
   "id": "13b26b83-3c36-4097-a772-773e737fa8ee",
   "metadata": {},
   "source": [
    "# Generate random trainingsdata"
   ]
  },
  {
   "cell_type": "code",
   "execution_count": 1,
   "id": "7717f27f-02b2-4dec-9483-21bdf8ae74cd",
   "metadata": {},
   "outputs": [],
   "source": [
    "from random import randint\n",
    "\n",
    "# Define input and output parameters\n",
    "input_str = \"sigma_t\"\n",
    "output_str = \"e_s\"\n",
    "\n",
    "# Defining problem parameters\n",
    "delta_epsilon=0.0005\n",
    "C_c = 0.005\n",
    "e_0 = 1.0\n",
    "amount_trainings_data = 100\n",
    "\n",
    "# Data preparation for \n",
    "oedo_para = {\n",
    "    'max_n': 1,\n",
    "    'e_0': e_0,\n",
    "    'C_c': C_c,\n",
    "    'delta_epsilon' : delta_epsilon,\n",
    "}"
   ]
  },
  {
   "cell_type": "markdown",
   "id": "b0447730-f3fc-43ef-b76f-30e7d77852b6",
   "metadata": {},
   "source": [
    "# Load problem and generate trainings data from 00_problem_settings_functions.ipynb\n",
    "returns `list_input` and `list_output` as type `list`"
   ]
  },
  {
   "cell_type": "code",
   "execution_count": 2,
   "id": "8f8d8ca1-7a2c-4c00-8b62-c12c2a8aec51",
   "metadata": {},
   "outputs": [],
   "source": [
    "%run 00_problem_settings_functions.ipynb\n",
    "\n",
    "# Returns\n",
    "# list_input: list\n",
    "# list_output: list\n",
    "\n",
    "# tensor_input: tensor\n",
    "# tensor_output: tensor"
   ]
  },
  {
   "cell_type": "markdown",
   "id": "7a7a9e84-c70a-4eee-995f-b7fc3a50366a",
   "metadata": {},
   "source": [
    "# Show trainingsdata (List) as DataFrame\n",
    "Type `list`: `list_input` and `list_output`"
   ]
  },
  {
   "cell_type": "code",
   "execution_count": 3,
   "id": "5f31c502-6c2a-44a0-965f-a64951a6bde2",
   "metadata": {},
   "outputs": [
    {
     "data": {
      "text/html": [
       "<div>\n",
       "<style scoped>\n",
       "    .dataframe tbody tr th:only-of-type {\n",
       "        vertical-align: middle;\n",
       "    }\n",
       "\n",
       "    .dataframe tbody tr th {\n",
       "        vertical-align: top;\n",
       "    }\n",
       "\n",
       "    .dataframe thead th {\n",
       "        text-align: right;\n",
       "    }\n",
       "</style>\n",
       "<table border=\"1\" class=\"dataframe\">\n",
       "  <thead>\n",
       "    <tr style=\"text-align: right;\">\n",
       "      <th></th>\n",
       "      <th>0</th>\n",
       "      <th>1</th>\n",
       "      <th>2</th>\n",
       "      <th>3</th>\n",
       "      <th>4</th>\n",
       "      <th>5</th>\n",
       "      <th>6</th>\n",
       "      <th>7</th>\n",
       "      <th>8</th>\n",
       "      <th>9</th>\n",
       "      <th>...</th>\n",
       "      <th>91</th>\n",
       "      <th>92</th>\n",
       "      <th>93</th>\n",
       "      <th>94</th>\n",
       "      <th>95</th>\n",
       "      <th>96</th>\n",
       "      <th>97</th>\n",
       "      <th>98</th>\n",
       "      <th>99</th>\n",
       "      <th>100</th>\n",
       "    </tr>\n",
       "  </thead>\n",
       "  <tbody>\n",
       "    <tr>\n",
       "      <th>0</th>\n",
       "      <td>sigma_t</td>\n",
       "      <td>23.0</td>\n",
       "      <td>8.0</td>\n",
       "      <td>7.0</td>\n",
       "      <td>4.0</td>\n",
       "      <td>18.0</td>\n",
       "      <td>38.0</td>\n",
       "      <td>43.0</td>\n",
       "      <td>8.0</td>\n",
       "      <td>41.0</td>\n",
       "      <td>...</td>\n",
       "      <td>5.0</td>\n",
       "      <td>7.0</td>\n",
       "      <td>15.0</td>\n",
       "      <td>6.0</td>\n",
       "      <td>27.0</td>\n",
       "      <td>48.0</td>\n",
       "      <td>24.0</td>\n",
       "      <td>1.0</td>\n",
       "      <td>50.0</td>\n",
       "      <td>8.0</td>\n",
       "    </tr>\n",
       "    <tr>\n",
       "      <th>1</th>\n",
       "      <td>e_s</td>\n",
       "      <td>9200.0</td>\n",
       "      <td>3200.0</td>\n",
       "      <td>2800.0</td>\n",
       "      <td>1600.0</td>\n",
       "      <td>7200.0</td>\n",
       "      <td>15200.0</td>\n",
       "      <td>17200.0</td>\n",
       "      <td>3200.0</td>\n",
       "      <td>16400.0</td>\n",
       "      <td>...</td>\n",
       "      <td>2000.0</td>\n",
       "      <td>2800.0</td>\n",
       "      <td>6000.0</td>\n",
       "      <td>2400.0</td>\n",
       "      <td>10800.0</td>\n",
       "      <td>19200.0</td>\n",
       "      <td>9600.0</td>\n",
       "      <td>400.0</td>\n",
       "      <td>20000.0</td>\n",
       "      <td>3200.0</td>\n",
       "    </tr>\n",
       "  </tbody>\n",
       "</table>\n",
       "<p>2 rows × 101 columns</p>\n",
       "</div>"
      ],
      "text/plain": [
       "       0       1       2       3       4       5        6        7       8    \\\n",
       "0  sigma_t    23.0     8.0     7.0     4.0    18.0     38.0     43.0     8.0   \n",
       "1      e_s  9200.0  3200.0  2800.0  1600.0  7200.0  15200.0  17200.0  3200.0   \n",
       "\n",
       "       9    ...     91      92      93      94       95       96      97   \\\n",
       "0     41.0  ...     5.0     7.0    15.0     6.0     27.0     48.0    24.0   \n",
       "1  16400.0  ...  2000.0  2800.0  6000.0  2400.0  10800.0  19200.0  9600.0   \n",
       "\n",
       "     98       99      100  \n",
       "0    1.0     50.0     8.0  \n",
       "1  400.0  20000.0  3200.0  \n",
       "\n",
       "[2 rows x 101 columns]"
      ]
     },
     "execution_count": 3,
     "metadata": {},
     "output_type": "execute_result"
    }
   ],
   "source": [
    "import pandas as pd\n",
    "from pandas import DataFrame\n",
    "\n",
    "pd.DataFrame([[input_str] + list_input, [output_str] + list_output])"
   ]
  },
  {
   "cell_type": "markdown",
   "id": "3078d544-544e-430c-b33d-d1141694f40d",
   "metadata": {},
   "source": [
    "# Show trainingsdata (Tensor) as DataFrame\n",
    "Type `tensor`: `tensor_input` and `tensor_output`"
   ]
  },
  {
   "cell_type": "code",
   "execution_count": 4,
   "id": "cdefa83c-e0a8-423c-acc7-b25e79b9234c",
   "metadata": {},
   "outputs": [
    {
     "data": {
      "text/html": [
       "<div>\n",
       "<style scoped>\n",
       "    .dataframe tbody tr th:only-of-type {\n",
       "        vertical-align: middle;\n",
       "    }\n",
       "\n",
       "    .dataframe tbody tr th {\n",
       "        vertical-align: top;\n",
       "    }\n",
       "\n",
       "    .dataframe thead th {\n",
       "        text-align: right;\n",
       "    }\n",
       "</style>\n",
       "<table border=\"1\" class=\"dataframe\">\n",
       "  <thead>\n",
       "    <tr style=\"text-align: right;\">\n",
       "      <th></th>\n",
       "      <th>sigma_t</th>\n",
       "      <th>e_s</th>\n",
       "    </tr>\n",
       "  </thead>\n",
       "  <tbody>\n",
       "    <tr>\n",
       "      <th>0</th>\n",
       "      <td>23.0</td>\n",
       "      <td>9200.0</td>\n",
       "    </tr>\n",
       "    <tr>\n",
       "      <th>1</th>\n",
       "      <td>8.0</td>\n",
       "      <td>3200.0</td>\n",
       "    </tr>\n",
       "    <tr>\n",
       "      <th>2</th>\n",
       "      <td>7.0</td>\n",
       "      <td>2800.0</td>\n",
       "    </tr>\n",
       "    <tr>\n",
       "      <th>3</th>\n",
       "      <td>4.0</td>\n",
       "      <td>1600.0</td>\n",
       "    </tr>\n",
       "    <tr>\n",
       "      <th>4</th>\n",
       "      <td>18.0</td>\n",
       "      <td>7200.0</td>\n",
       "    </tr>\n",
       "    <tr>\n",
       "      <th>...</th>\n",
       "      <td>...</td>\n",
       "      <td>...</td>\n",
       "    </tr>\n",
       "    <tr>\n",
       "      <th>95</th>\n",
       "      <td>48.0</td>\n",
       "      <td>19200.0</td>\n",
       "    </tr>\n",
       "    <tr>\n",
       "      <th>96</th>\n",
       "      <td>24.0</td>\n",
       "      <td>9600.0</td>\n",
       "    </tr>\n",
       "    <tr>\n",
       "      <th>97</th>\n",
       "      <td>1.0</td>\n",
       "      <td>400.0</td>\n",
       "    </tr>\n",
       "    <tr>\n",
       "      <th>98</th>\n",
       "      <td>50.0</td>\n",
       "      <td>20000.0</td>\n",
       "    </tr>\n",
       "    <tr>\n",
       "      <th>99</th>\n",
       "      <td>8.0</td>\n",
       "      <td>3200.0</td>\n",
       "    </tr>\n",
       "  </tbody>\n",
       "</table>\n",
       "<p>100 rows × 2 columns</p>\n",
       "</div>"
      ],
      "text/plain": [
       "    sigma_t      e_s\n",
       "0      23.0   9200.0\n",
       "1       8.0   3200.0\n",
       "2       7.0   2800.0\n",
       "3       4.0   1600.0\n",
       "4      18.0   7200.0\n",
       "..      ...      ...\n",
       "95     48.0  19200.0\n",
       "96     24.0   9600.0\n",
       "97      1.0    400.0\n",
       "98     50.0  20000.0\n",
       "99      8.0   3200.0\n",
       "\n",
       "[100 rows x 2 columns]"
      ]
     },
     "execution_count": 4,
     "metadata": {},
     "output_type": "execute_result"
    }
   ],
   "source": [
    "tensor_input_df = pd.DataFrame(torch.cat((tensor_input, tensor_output), dim=1), columns = [input_str, output_str])\n",
    "tensor_input_df"
   ]
  },
  {
   "cell_type": "markdown",
   "id": "e2731ce5-ce2a-4736-8c76-ef4b2d026425",
   "metadata": {},
   "source": [
    "# Define SimpleRegressor Model"
   ]
  },
  {
   "cell_type": "code",
   "execution_count": 5,
   "id": "72bd6fd0-9fb6-43a1-81b4-02a12102da6e",
   "metadata": {},
   "outputs": [],
   "source": [
    "import torch.nn as nn\n",
    "import torch.optim as optim\n",
    "\n",
    "\n",
    "class SimpleRegressor(nn.Module):\n",
    "    def __init__(self):\n",
    "        super(SimpleRegressor, self).__init__()\n",
    "        self.model = nn.Sequential(\n",
    "            nn.Linear(1, 16),\n",
    "            nn.ReLU(),\n",
    "            nn.Linear(16, 16),\n",
    "            nn.ReLU(),\n",
    "            nn.Linear(16, 1)\n",
    "        )\n",
    "\n",
    "    def forward(self, x):\n",
    "        return self.model(x)\n",
    "\n",
    "model = SimpleRegressor()"
   ]
  },
  {
   "cell_type": "markdown",
   "id": "2f3eb6e7-a76f-4f1f-9df3-c3d1a500b181",
   "metadata": {},
   "source": [
    "# Training"
   ]
  },
  {
   "cell_type": "code",
   "execution_count": 6,
   "id": "3ae2b132-a2fc-4653-bf5e-fc09ac2d2954",
   "metadata": {},
   "outputs": [
    {
     "name": "stdout",
     "output_type": "stream",
     "text": [
      "Epoch 0: Loss = 150166496.000000\n",
      "Epoch 100: Loss = 73593392.000000\n",
      "Epoch 200: Loss = 35647.121094\n",
      "Epoch 300: Loss = 27391.597656\n",
      "Epoch 400: Loss = 25940.119141\n",
      "Epoch 500: Loss = 24346.185547\n",
      "Epoch 600: Loss = 22653.597656\n",
      "Epoch 700: Loss = 20900.476562\n",
      "Epoch 800: Loss = 19120.554688\n",
      "Epoch 900: Loss = 17343.798828\n",
      "Epoch 1000: Loss = 15596.632812\n",
      "Epoch 1100: Loss = 13902.097656\n",
      "Epoch 1200: Loss = 12279.797852\n",
      "Epoch 1300: Loss = 10745.755859\n",
      "Epoch 1400: Loss = 9312.831055\n",
      "Epoch 1500: Loss = 7990.492676\n",
      "Epoch 1600: Loss = 6784.743652\n",
      "Epoch 1700: Loss = 5698.693848\n",
      "Epoch 1800: Loss = 4732.665527\n",
      "Epoch 1900: Loss = 3884.064697\n",
      "Epoch 2000: Loss = 3148.423096\n",
      "Epoch 2100: Loss = 2519.298096\n",
      "Epoch 2200: Loss = 1988.749390\n",
      "Epoch 2300: Loss = 1547.821289\n",
      "Epoch 2400: Loss = 1186.836914\n",
      "Epoch 2500: Loss = 895.965149\n",
      "Epoch 2600: Loss = 665.406982\n",
      "Epoch 2700: Loss = 485.761902\n",
      "Epoch 2800: Loss = 348.299194\n",
      "Epoch 2900: Loss = 245.057068\n",
      "Epoch 3000: Loss = 169.044281\n",
      "Epoch 3100: Loss = 114.202698\n",
      "Epoch 3200: Loss = 75.486519\n",
      "Epoch 3300: Loss = 48.764297\n",
      "Epoch 3400: Loss = 30.755512\n",
      "Epoch 3500: Loss = 18.912273\n",
      "Epoch 3600: Loss = 11.322719\n",
      "Epoch 3700: Loss = 6.591860\n",
      "Epoch 3800: Loss = 3.725766\n",
      "Epoch 3900: Loss = 2.042290\n",
      "Epoch 4000: Loss = 1.082645\n",
      "Epoch 4100: Loss = 0.555456\n",
      "Epoch 4200: Loss = 0.274718\n",
      "Epoch 4300: Loss = 0.130551\n",
      "Epoch 4400: Loss = 0.059586\n",
      "Epoch 4500: Loss = 0.026166\n",
      "Epoch 4600: Loss = 0.010992\n",
      "Epoch 4700: Loss = 0.004424\n",
      "Epoch 4800: Loss = 0.001713\n",
      "Epoch 4900: Loss = 0.000646\n"
     ]
    }
   ],
   "source": [
    "loss_fn = nn.MSELoss()\n",
    "optimizer = optim.Adam(model.parameters(), lr=0.01)\n",
    "\n",
    "epochs = 5000\n",
    "loss_history = []\n",
    "for epoch in range(epochs):\n",
    "    model.train()\n",
    "    optimizer.zero_grad()\n",
    "    pred = model(tensor_input)\n",
    "    loss = loss_fn(pred, tensor_output)\n",
    "    loss.backward()\n",
    "    loss_history.append(loss.item())\n",
    "    optimizer.step()\n",
    "\n",
    "    if epoch % 100 == 0:\n",
    "        print(f\"Epoch {epoch}: Loss = {loss.item():.6f}\")"
   ]
  },
  {
   "cell_type": "markdown",
   "id": "c931e624-e472-4885-b82d-8699ea4393a4",
   "metadata": {},
   "source": [
    "# Loss function"
   ]
  },
  {
   "cell_type": "code",
   "execution_count": 7,
   "id": "c2db9924-e24e-45ad-9e6e-e61fbef2ad3e",
   "metadata": {},
   "outputs": [
    {
     "data": {
      "image/png": "[encoded data removed]",
      "text/plain": [
       "<Figure size 640x480 with 1 Axes>"
      ]
     },
     "metadata": {},
     "output_type": "display_data"
    }
   ],
   "source": [
    "import matplotlib.pyplot as plt\n",
    "\n",
    "plt.plot(loss_history, label=\"Loss\")\n",
    "plt.xlabel('Epochs')\n",
    "plt.ylabel('Train Loss')\n",
    "plt.show()"
   ]
  },
  {
   "cell_type": "code",
   "execution_count": 8,
   "id": "ef8f1424-5f85-47c5-be60-aa8dcf276fee",
   "metadata": {},
   "outputs": [
    {
     "name": "stdout",
     "output_type": "stream",
     "text": [
      "tensor([[400.0302]])\n"
     ]
    }
   ],
   "source": [
    "pred_input = torch.tensor([1.0], dtype=torch.float).unsqueeze(-1) \n",
    "\n",
    "model.eval()\n",
    "with torch.no_grad():\n",
    "    pred = model(pred_input)\n",
    "\n",
    "print(pred)"
   ]
  },
  {
   "cell_type": "markdown",
   "id": "b2dc29c1-fba8-4f16-bc64-dcf0d1c0343d",
   "metadata": {},
   "source": [
    "# Plot of stress–strain curve"
   ]
  },
  {
   "cell_type": "code",
   "execution_count": 9,
   "id": "9767526b-a592-4c2f-9234-16fc25a8fb41",
   "metadata": {},
   "outputs": [
    {
     "data": {
      "image/png": "[encoded data removed]",
      "text/plain": [
       "<Figure size 640x480 with 1 Axes>"
      ]
     },
     "metadata": {},
     "output_type": "display_data"
    }
   ],
   "source": [
    "def plot_result(iterations=20, start_sigma=1, delta_epsilon=0.0005):\n",
    "    oedo_para = {\n",
    "    'max_n': iterations,\n",
    "    'e_0': 1.0,\n",
    "    'C_c': 0.005,\n",
    "    'delta_epsilon' : delta_epsilon,\n",
    "    'sigma_t' : start_sigma,\n",
    "    }\n",
    "\n",
    "    oedo = Oedometer(**oedo_para)\n",
    "    sigma_true = oedo.sigma_t\n",
    "    e_s_true = oedo.e_s\n",
    "    \n",
    "    # print(sigma_true)\n",
    "    # print(e_s_true)\n",
    "    model.eval()\n",
    "    e_s_pred = []\n",
    "    e_s_true_plot = []\n",
    "    sigma_t = start_sigma\n",
    "    sigma_pred = []\n",
    "    with torch.no_grad():\n",
    "        for i in range(iterations):\n",
    "            sigma_true_tensor = torch.tensor(sigma_true[i], dtype=torch.float).unsqueeze(-1) \n",
    "            pred = model(sigma_true_tensor)\n",
    "            e_s_pred.append(pred * sigma_true[i])\n",
    "            e_s_true_plot.append(e_s_true[i] * sigma_true[i])\n",
    "\n",
    "            sigma_t = sigma_t + pred * delta_epsilon\n",
    "            sigma_pred.append(sigma_t)\n",
    "    # Plot der Losskurve\n",
    "    plt.scatter(sigma_true, e_s_pred, label='E_s_pred-sigma_true').set_color(\"red\")\n",
    "    plt.scatter(sigma_pred, e_s_pred, label='E_s_pred-sigma_pred')\n",
    "    plt.plot(sigma_true, e_s_true_plot, label='E_s_true')\n",
    "\n",
    "    plt.gca().invert_yaxis()\n",
    "    plt.xlabel('Sigma_t')\n",
    "    plt.ylabel('Epsilon')\n",
    "    plt.title('True Simga mit Pred E_s')\n",
    "    plt.legend()\n",
    "    plt.show()\n",
    "    \n",
    "plot_result()"
   ]
  }
 ],
 "metadata": {
  "kernelspec": {
   "display_name": "Python 3 (ipykernel)",
   "language": "python",
   "name": "python3"
  },
  "language_info": {
   "codemirror_mode": {
    "name": "ipython",
    "version": 3
   },
   "file_extension": ".py",
   "mimetype": "text/x-python",
   "name": "python",
   "nbconvert_exporter": "python",
   "pygments_lexer": "ipython3",
   "version": "3.12.11"
  }
 },
 "nbformat": 4,
 "nbformat_minor": 5
}
