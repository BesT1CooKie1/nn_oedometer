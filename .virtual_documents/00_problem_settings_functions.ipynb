





import random


class Oedometer:
    def __init__(
        self,
        e_0: float = 1.00,
        C_c: float = 0.05,
        delta_epsilon: float = 0.0005,
        sigma_t: float = 1.00,
        max_n: int = 50,
        rand_epsilon: bool = False,
        **kwargs
    ):
        self.max_n = max_n

        # Standardwerte als Listen setzen
        self.e_0 = [e_0]
        self.C_c = [C_c]
        self.sigma_t = [sigma_t]
        self.delta_epsilon = []
        self.total_epsilon = [0]

        # Initiale Listen für Berechnungen
        self.sigma_t = [sigma_t]
        self.delta_sigma = []
        self.e_s = []
        self.delta_epsilon = [delta_epsilon]

        # Dynamische Zuweisung von kwargs, falls vorhanden
        for key, value in kwargs.items():
            if hasattr(self, key):  # Nur vorhandene Attribute setzen
                setattr(self, key, [value])

        # Berechnungen durchführen
        self.__calc_sigma_t_p1()

        # Listenlängen anpassen
        self.__adjust_list_lengths()
        self.__calc_total_epsilon()

    def __adjust_list_lengths(self):
        """Passt ALLE Listen-Attribute an `max_n` an."""
        attributes = [
            "e_0",
            "C_c",
            "delta_epsilon",
            "sigma_t",
            "sigma_t",
            "delta_sigma",
            "e_s",
        ]
        for attr in attributes:
            value_list = getattr(self, attr, [])
            current_length = len(value_list)

            if current_length > self.max_n:
                setattr(self, attr, value_list[: self.max_n])  # Kürzen
            elif current_length < self.max_n:
                setattr(
                    self,
                    attr,
                    value_list
                    + [value_list[-1] if value_list else 0]
                    * (self.max_n - current_length),
                )  # Auffüllen

    def __calc_total_epsilon(self):
        for i in range(len(self.delta_epsilon) - 1):
            self.total_epsilon.append(self.total_epsilon[i] + self.delta_epsilon[i])

    def __calc_e_s(self, sigma_t):
        """Berechnet `e_s` aus `sigma_t`."""
        e_s = (1 + self.e_0[0]) / self.C_c[0] * sigma_t
        self.e_s.append(e_s)
        return e_s

    def __calc_sigma_t_p1(self):
        """Berechnet `sigma_t` und `delta_sigma` für die nächsten Schritte."""
        for i in range(self.max_n):  # -1, weil sigma_t bereits gesetzt ist
            e_s = self.__calc_e_s(self.sigma_t[i])
            delta_sigma = e_s * self.delta_epsilon[0] * -1 if e_s * self.delta_epsilon[0] >= 1000 else 1
            sigma = self.sigma_t[i] + delta_sigma
            self.sigma_t.append(sigma)
            self.delta_sigma.append(delta_sigma)


class Oedometer_simple(Oedometer):
    pass

class Oedometer_improved(Oedometer):
    def __calc_total_epsilon(self):
        for i in range(len(self.delta_epsilon) - 1):
            self.total_epsilon.append(self.total_epsilon[i] + self.delta_epsilon[i])

    def __calc_e_s(self, sigma_t):
        """Berechnet `e_s` aus `sigma_t`."""
        e_s = (1 + self.e_0[0]) / self.C_c[0] * sigma_t
        self.e_s.append(e_s)
        return e_s

    def __calc_sigma_t_p1(self):
        """Berechnet `sigma_t` und `delta_sigma` für die nächsten Schritte."""
        for i in range(self.max_n):  # -1, weil sigma_t bereits gesetzt ist
            e_s = self.__calc_e_s(self.sigma_t[i])
            delta_sigma = e_s * self.delta_epsilon[0]
            sigma = self.sigma_t[i] + delta_sigma
            self.sigma_t.append(sigma)
            self.delta_sigma.append(delta_sigma)





def show_data():
    oedo_para = {
        "max_n": 100,
        "e_0": 1,
        "C_c": 0.005,
        "delta_epsilon": 0.0005,
    }
    oedo = Oedometer_improved(**oedo_para)

    for i in range(len((oedo.delta_sigma)):
        





# Data preparation for Oedometer class
def generate_data():
    oedo_para = {
        "max_n": 1,
        "e_0": e_0,
        "C_c": C_c,
        "delta_epsilon": delta_epsilon,
    }
    
    list_output = []
    list_input = []
    print(amount_trainings_data)
    for i in range(amount_trainings_data):
        oedo_para["sigma_t"] = randint(1, 50)
        if oedo_model == 0:
            oedo_output = Oedometer_simple(**oedo_para)
        elif oedo_model == 1:
            oedo_output = Oedometer_improved(**oedo_para)
        list_output.append(oedo_output.e_s[0])
        list_input.append(oedo_output.sigma_t[0])
    tensor_input, tensor_output = create_tensor(list_input, list_output)
    return list_input, list_output, tensor_input, tensor_output


# oedo_para = {
#     'max_n': 50,
#     'e_0': 1,
#     'C_c': 0.005,
#     'delta_epsilon' : .0005,
# }

# print(Oedometer(**oedo_para).e_s)
# print(Oedometer(**oedo_para).sigma_t)
# print(Oedometer(**oedo_para).delta_sigma)


import torch
from torch import tensor


def create_tensor(list_input, list_output):
    tensor_input = torch.tensor(list_input, dtype=torch.float).unsqueeze(-1)
    tensor_output = torch.tensor(list_output, dtype=torch.float).unsqueeze(-1)
    return tensor_input, tensor_output


def plot_result_graph(iterations=48, start_sigma=1, delta_epsilon=0.0005):
    oedo_para = {
        "max_n": iterations,
        "e_0": 1.0,
        "C_c": 0.005,
        "delta_epsilon": delta_epsilon,
        "sigma_t": start_sigma,
    }

    oedo = Oedometer(**oedo_para)
    sigma_true = oedo.sigma_t
    delta_sigma = oedo.delta_sigma
    total_epsilon = oedo.total_epsilon
    e_s_true = oedo.e_s

    # print(sigma_true)
    # print(e_s_true)
    model.eval()
    delta_sigma_pred = []
    e_s_true_plot = []

    sigma_pred = []
    e_s_pred_list = []
    total_strain = []
    delta_sigma_pred_prop = []
    with torch.no_grad():
        for i in range(iterations):
            # Konvertierung sigma zu Tensor
            sigma_true_tensor = torch.tensor(
                sigma_true[i], dtype=torch.float
            ).unsqueeze(-1)

            # Schätzung des E_s Wertes mit wahrem sigma Wert
            e_s_pred = model(sigma_true_tensor)

            # Ermittlung delta_sigma mit geschätztem Wert
            delta_sigma_pred_val = e_s_pred * oedo.delta_epsilon[i]

            # Ermittlung sigma mit geschätztem Wert
            sigma_pred = e_s_pred / ((1 + oedo.e_0[0]) / oedo.C_c[0])

            # Ermittlung neues E_s,i+1 mit geschätztem Wert 
            e_s_pred_prop = model(sigma_pred)

            # Ermittlung Delta_Sigma mit geschätztem Wert
            delta_sigma_pred_val = e_s_pred_prop * oedo.delta_epsilon[i]

            # Zusammenführung in Listen
            delta_sigma_pred.append(delta_sigma_pred_val)
            delta_sigma_pred_prop.append(delta_sigma_pred_val)
            total_strain.append(-total_epsilon[i])
            e_s_pred_list.append(e_s_pred)

    # Plot der Losskurve
    plt.scatter(
        delta_sigma_pred, total_strain, label="$\Delta\sigma_{pred}$"
    ).set_color("red")
    plt.scatter(
        delta_sigma_pred_prop, total_strain, marker="x", label="$\Delta\sigma_{pred,propagated}$"
    ).set_color("green")
    plt.plot(delta_sigma, total_strain, linewidth=1, label="$\Delta\sigma_{true}$")

    plt.grid(color='grey', linestyle='-', linewidth=.5)
    plt.xlabel("$\Delta\sigma$ [kPa]")
    plt.ylabel("$\epsilon$ [-]")
    plt.title(
        f"Spannungsdehnungs Verlauf mit $\sigma_0={start_sigma}$ und $\Delta\epsilon=0.0005$"
    )
    
    plt.legend()
    plt.rcParams['figure.figsize'] = [10, 10]
    plt.show()

    return [e_s_true, e_s_pred_list], [delta_sigma, delta_sigma_pred]


def plot_result_dataframe():
    key_1 = "$E_{s,i,true}$"
    key_2 = "$E_{s,i,pred}$"
    key_3 = "$\Delta\sigma_{true}$"
    key_4 = "$\Delta\sigma_{pred}$"
    key_34 = "$\Delta \sigma$"
    key_12 = "$\Delta E_s$"
    
    dict_diff = {
        key_1: [],
        key_2: [],
        key_12: [],
        "|" : ["|"] * len(e_s_list[0]), 
        key_3: [],
        key_4: [],
        key_34: [],
    }
    
    for e_s_true, e_s_pred, d_sigma_true, d_sigma_pred in zip(e_s_list[0], e_s_list[0], delta_sigma_list[0], delta_sigma_list[1]):
        dict_diff[key_1].append(e_s_true)
        dict_diff[key_2].append(e_s_pred)
        dict_diff[key_12].append(e_s_true - e_s_pred)
        dict_diff[key_3].append(d_sigma_true)
        dict_diff[key_4].append(d_sigma_pred.item())
        dict_diff[key_34].append(d_sigma_true - d_sigma_pred.item())
    
    return pd.DataFrame(dict_diff)
