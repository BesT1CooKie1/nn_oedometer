{
 "cells": [
  {
   "cell_type": "markdown",
   "id": "9e46cd1278d60cf1",
   "metadata": {},
   "source": [
    "# Tutorial: Die `Equation` Klasse\n",
    "Source: [PINA-Equation](https://mathlab.github.io/PINA/_rst/tutorials/tutorial12/tutorial.html) <br>\n",
    "\n",
    "## Definitionen\n",
    "\n",
    "## Problemdefinition\n",
    "<strong>Annahme:</strong>\n",
    "$$\n",
    "\\begin{cases}\n",
    "  \\frac{\\partial u}{\\partial t} + u \\frac{\\partial u}{\\partial x} &=v\\frac{\\partial^2 u}{\\partial x^2} \\quad &\\text{mit} \\quad x \\in (0,1) \\quad t>0\\\\\n",
    "  u(x,0) &=-\\sin(\\pi x)\\\\\n",
    "  u(x,t) &=0 \\quad &\\text{mit} \\quad x=\\pm1 \\\\ \\\\\n",
    "  \\text{mit} \\quad v &=\\frac{0.01}{\\pi}\n",
    "\\end{cases}\n",
    "$$"
   ]
  },
  {
   "cell_type": "code",
   "execution_count": null,
   "id": "f500587c95d60f68",
   "metadata": {},
   "outputs": [],
   "source": [
    "#useful imports\n",
    "from pina.problem import SpatialProblem, TimeDependentProblem\n",
    "from pina.equation import Equation, FixedValue, FixedGradient, FixedFlux\n",
    "from pina.geometry import CartesianDomain\n",
    "import torch\n",
    "from pina.operators import grad, laplacian\n",
    "from pina import Condition"
   ]
  },
  {
   "cell_type": "code",
   "execution_count": null,
   "id": "b8c1056237488d40",
   "metadata": {},
   "outputs": [],
   "source": [
    "class Burgers1D(TimeDependentProblem, SpatialProblem):\n",
    "\n",
    "    # define the burger equation\n",
    "    def burger_equation(input_, output_):\n",
    "        du = grad(output_, input_)\n",
    "        ddu = grad(du, input_, components=['dudx'])\n",
    "        return (\n",
    "            du.extract(['dudt']) +\n",
    "            output_.extract(['u'])*du.extract(['dudx']) -\n",
    "            (0.01/torch.pi)*ddu.extract(['ddudxdx'])\n",
    "        )\n",
    "\n",
    "    # define initial condition\n",
    "    def initial_condition(input_, output_):\n",
    "        u_expected = -torch.sin(torch.pi*input_.extract(['x']))\n",
    "        return output_.extract(['u']) - u_expected\n",
    "\n",
    "    # assign output/ spatial and temporal variables\n",
    "    output_variables = ['u']\n",
    "    spatial_domain = CartesianDomain({'x': [-1, 1]})\n",
    "    temporal_domain = CartesianDomain({'t': [0, 1]})\n",
    "\n",
    "    # problem condition statement\n",
    "    conditions = {\n",
    "        'gamma1': Condition(location=CartesianDomain({'x': -1, 't': [0, 1]}), equation=FixedValue(0.)),\n",
    "        'gamma2': Condition(location=CartesianDomain({'x':  1, 't': [0, 1]}), equation=FixedValue(0.)),\n",
    "        't0': Condition(location=CartesianDomain({'x': [-1, 1], 't': 0}), equation=Equation(initial_condition)),\n",
    "        'D': Condition(location=CartesianDomain({'x': [-1, 1], 't': [0, 1]}), equation=Equation(burger_equation)),\n",
    "    }"
   ]
  }
 ],
 "metadata": {
  "kernelspec": {
   "display_name": "Python 3 (ipykernel)",
   "language": "python",
   "name": "python3"
  },
  "language_info": {
   "codemirror_mode": {
    "name": "ipython",
    "version": 3
   },
   "file_extension": ".py",
   "mimetype": "text/x-python",
   "name": "python",
   "nbconvert_exporter": "python",
   "pygments_lexer": "ipython3",
   "version": "3.12.9"
  }
 },
 "nbformat": 4,
 "nbformat_minor": 5
}
