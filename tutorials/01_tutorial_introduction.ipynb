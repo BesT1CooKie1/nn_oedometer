{
 "cells": [
  {
   "cell_type": "markdown",
   "id": "8a27148642b126f3",
   "metadata": {},
   "source": [
    "# Einleitung PINA\n",
    "Source: [PINA-Introduction](https://mathlab.github.io/PINA/_rst/tutorials/tutorial1/tutorial.html) <br>\n",
    "\n",
    "In diesem Tutorial werden wir nach dem Standard -API -Verfahren einen typischen Anwendungsfall von Pina für ein Spielzeugproblem demonstrieren.<br>\n",
    "\n",
    "Insbesondere zielt das Tutorial darauf ab, die folgenden Themen einzuführen:<br>\n",
    "\n",
    "- Erklären, wie man <strong>PINA</strong> Probleme aufbaut,\n",
    "- Zeigen, wie Daten für das `PINN` Training generiert werden\n",
    "\n",
    "Dies sind die beiden Hauptschritte, die vor Beginn der Modellierungsoptimierung benötigt werden (Model und Löser und Zug). Wir werden jeden Schritt ausführlich zeigen und am Ende ein einfaches Problem mit der normalen Differentialgleichung (ODE) unter Verwendung des Pinn -Solvers lösen.\n",
    "\n",
    "## Variablendeklaration\n",
    "- `SpatialProblem`: Differentialgleichung mit Spatialen Variablen `spatial_domain`<br>\n",
    "- `TimeDependentProblem`: Zeitabhängige Differentialgleichung mit zeitabhängigen Variablen `temporal_domain`<br>\n",
    "- `ParametricProblem`: Parametrisierte Differentialgleichung mit parametrischen Variablen`parameter_domain`<br>\n",
    "- `AbstractProblem`: Sonstige <strong>PINA</strong> Problemerben<br><br>\n",
    "\n",
    "## Definitionen\n",
    "- `Residual` : Differenz zwischen der linken und rechten Seite einer Differentialgleichung<br>\n",
    "- `truth_solution` : Funktion, die die wahre Lösung der Differentialgleichung berechnet. <br>\n",
    "$\\rightarrow$ Hilfreich um die Vergleichbarkeit darzustellen<br>\n",
    "\n",
    "## Problemdefinition\n",
    "<strong>Annahme:</strong>\n",
    "$$\n",
    "\\begin{cases}\n",
    "  \\frac{d}{dx}u(x) &= u(x) \\quad \\text{mit} \\quad u(0) \\in 1\\\\\n",
    "  u(x=0) &=1\\\\\n",
    "\\end{cases}\n",
    "$$\n",
    "<strong>Analytische Lösung:</strong>\n",
    "$$\n",
    "u(x) = e^x \\quad x \\in (0,1)\n",
    "$$"
   ]
  },
  {
   "cell_type": "code",
   "execution_count": 2,
   "id": "fbc121e30a2defb3",
   "metadata": {
    "ExecuteTime": {
     "end_time": "2025-03-11T16:02:51.656532Z",
     "start_time": "2025-03-11T16:02:43.790179Z"
    }
   },
   "outputs": [],
   "source": [
    "from pina.problem import SpatialProblem\n",
    "from pina.operators import grad\n",
    "from pina import Condition\n",
    "from pina.geometry import CartesianDomain\n",
    "from pina.equation import Equation, FixedValue\n",
    "\n",
    "import torch\n",
    "\n",
    "class SimpleODE(SpatialProblem): # Problem Class\n",
    "\n",
    "    output_variables = ['u']\n",
    "    spatial_domain = CartesianDomain({'x': [0,1]})\n",
    "\n",
    "    # defining the ode equation\n",
    "    def ode_equation(input_, output_):\n",
    "\n",
    "        # computing the derivative\n",
    "        u_x = grad(output_, input_, components=['u'], d=['x'])\n",
    "\n",
    "        #extracting the u input variable\n",
    "        u = output_.extract(['u'])\n",
    "\n",
    "        # calculate the residual and return it\n",
    "        return u_x - u\n",
    "\n",
    "    # conditions to hold\n",
    "    conditions = {\n",
    "        # We fix initial condition to value 1\n",
    "        'x0': Condition(location=CartesianDomain({'x': 0.}), equation=FixedValue(1)),\n",
    "        # We wrap the python equation using Equation\n",
    "        'D': Condition(location=CartesianDomain({'x': [0,1]}), equation=Equation(ode_equation)),\n",
    "    }\n",
    "\n",
    "    # sample points (see below)labels\n",
    "    input_pts = None\n",
    "\n",
    "    # defining the true solution\n",
    "    def truth_solution(self, pts):\n",
    "        return torch.exp(pts.extract(['x']))\n",
    "\n",
    "problem = SimpleODE()"
   ]
  },
  {
   "cell_type": "markdown",
   "id": "a788830c34c79313",
   "metadata": {},
   "source": [
    "## Datengenerierung (Trainingsdaten)\n",
    "Daten für das Training können in Form von direkten numerischen Simulationsergebnissen oder Punkten in den Domänen vorliegen. Im Falle von unüberwachtem Lernen benötigen wir nur die Kollokationspunkte für das Training, d.h. Punkte, an denen wir das neuronale Netzwerk auswerten möchten.\n",
    "\n",
    "### Erläuterung\n",
    "- <strong>Direkte numerische Simulationsergebnisse:</strong> Dies sind Ergebnisse, die durch numerische Simulationen generiert wurden.\n",
    "- <strong>Manuell definierte Punkte:</strong> Diese können unabhängig von Simulationsergebnissen festgelegt werden, um das Modell an bestimmten Stellen zu trainieren oder zu evaluieren.\n",
    "\n",
    "### Beispiel\n",
    "Drei Beispiele der Datengenerierung sind im folgenden Code dargestellt."
   ]
  },
  {
   "cell_type": "code",
   "execution_count": null,
   "id": "fe885e9e1b84ffe0",
   "metadata": {
    "ExecuteTime": {
     "end_time": "2025-03-11T16:02:51.681038Z",
     "start_time": "2025-03-11T16:02:51.666552Z"
    }
   },
   "outputs": [],
   "source": [
    "# sampling 20 points in [0, 1] through discretization in all locations\n",
    "problem.discretise_domain(n=20, mode='grid', variables=['x'], locations='all')\n",
    "\n",
    "# sampling 20 points in (0, 1) through latin hypercube sampling in D, and 1 point in x0\n",
    "problem.discretise_domain(n=20, mode='latin', variables=['x'], locations=['D'])\n",
    "problem.discretise_domain(n=1, mode='random', variables=['x'], locations=['x0'])\n",
    "\n",
    "# sampling 20 points in (0, 1) randomly\n",
    "problem.discretise_domain(n=20, mode='random', variables=['x'])"
   ]
  },
  {
   "cell_type": "markdown",
   "id": "ffbde801b966d866",
   "metadata": {},
   "source": [
    "## Latin Hypercube Sampling (LHS)\n",
    "Latin Hypercube Sampling ist eine Methode zur gleichmäßigen und effizienten Stichprobenentnahme aus einem mehrdimensionalen Raum. Dabei wird jede Dimension in gleich große Intervalle unterteilt, aus denen je ein Wert zufällig gewählt wird, sodass eine möglichst gleichmäßige Verteilung der Punkte entsteht. In PINA wird LHS genutzt, um die Eingabepunkte für das neuronale Netz optimal über den Definitionsbereich der Differentialgleichung zu verteilen und die Lösungsgüte zu verbessern.\n",
    "\n",
    "### Beispiel"
   ]
  },
  {
   "cell_type": "code",
   "execution_count": 3,
   "id": "3a78169ef5c0e4b4",
   "metadata": {
    "ExecuteTime": {
     "end_time": "2025-03-11T16:02:52.035662Z",
     "start_time": "2025-03-11T16:02:52.020458Z"
    }
   },
   "outputs": [],
   "source": [
    "# sampling for training\n",
    "problem.discretise_domain(1, 'random', locations=['x0'])\n",
    "problem.discretise_domain(20, 'lh', locations=['D'])"
   ]
  },
  {
   "cell_type": "markdown",
   "id": "443f1f9a0bc0efff",
   "metadata": {},
   "source": [
    "### Abrufen der Daten\n",
    "Mithilfe von `dict` `input_pts`"
   ]
  },
  {
   "cell_type": "code",
   "execution_count": 4,
   "id": "666004908481c06",
   "metadata": {
    "ExecuteTime": {
     "end_time": "2025-03-11T16:02:52.072210Z",
     "start_time": "2025-03-11T16:02:52.057743Z"
    }
   },
   "outputs": [
    {
     "name": "stdout",
     "output_type": "stream",
     "text": [
      "Input points: {'x0': LabelTensor([[[0.]]]), 'D': LabelTensor([[[0.5957]],\n",
      "             [[0.9689]],\n",
      "             [[0.4208]],\n",
      "             [[0.2270]],\n",
      "             [[0.0843]],\n",
      "             [[0.6168]],\n",
      "             [[0.3718]],\n",
      "             [[0.6594]],\n",
      "             [[0.9442]],\n",
      "             [[0.8778]],\n",
      "             [[0.8382]],\n",
      "             [[0.1483]],\n",
      "             [[0.3195]],\n",
      "             [[0.2575]],\n",
      "             [[0.1910]],\n",
      "             [[0.0387]],\n",
      "             [[0.7852]],\n",
      "             [[0.7163]],\n",
      "             [[0.4979]],\n",
      "             [[0.5414]]])}\n",
      "Input points labels: ['x']\n"
     ]
    }
   ],
   "source": [
    "print('Input points:', problem.input_pts)\n",
    "print('Input points labels:', problem.input_pts['D'].labels)"
   ]
  },
  {
   "cell_type": "markdown",
   "id": "a2f6ef6532809501",
   "metadata": {},
   "source": [
    "## Visualisierung\n",
    "Mithilfe von `.plot_samples` `Plotter`"
   ]
  },
  {
   "cell_type": "code",
   "execution_count": null,
   "id": "cb1b1b06463b6045",
   "metadata": {
    "ExecuteTime": {
     "end_time": "2025-03-11T16:02:52.312449Z",
     "start_time": "2025-03-11T16:02:52.113491Z"
    }
   },
   "outputs": [],
   "source": [
    "from pina import Plotter\n",
    "\n",
    "pl = Plotter()\n",
    "pl.plot_samples(problem=problem)"
   ]
  },
  {
   "cell_type": "markdown",
   "id": "cff9a49f420f9daf",
   "metadata": {},
   "source": [
    "## Beispiel Training\n",
    "Anhand eines sehr einfachen Beispiels"
   ]
  },
  {
   "cell_type": "code",
   "execution_count": null,
   "id": "e7129fa22ed6cc37",
   "metadata": {
    "ExecuteTime": {
     "end_time": "2025-03-11T16:03:09.384927Z",
     "start_time": "2025-03-11T16:02:52.328860Z"
    }
   },
   "outputs": [],
   "source": [
    "from pina import Trainer\n",
    "from pina.solvers import PINN\n",
    "from pina.model import FeedForward\n",
    "from pina.callbacks import MetricTracker\n",
    "import torch\n",
    "\n",
    "# build the model\n",
    "model = FeedForward(\n",
    "    layers=[10, 10],\n",
    "    func=torch.nn.Tanh,\n",
    "    output_dimensions=len(problem.output_variables),\n",
    "    input_dimensions=len(problem.input_variables)\n",
    ")\n",
    "\n",
    "# create the PINN object\n",
    "pinn = PINN(problem, model)\n",
    "\n",
    "# create the trainer\n",
    "trainer = Trainer(solver=pinn,\n",
    "                  max_epochs=1500,\n",
    "                  callbacks=[MetricTracker()],\n",
    "                  accelerator='cpu',\n",
    "                  enable_model_summary=False) # we train on CPU and avoid model summary at beginning of training (optional)\n",
    "\n",
    "# train\n",
    "trainer.train()"
   ]
  },
  {
   "cell_type": "markdown",
   "id": "d5f2f48d2775e953",
   "metadata": {},
   "source": [
    "## Ergebnisse der Modellierung\n",
    "`trainer.logged_metrics` enthält den finalen Verlust und weitere Metriken, die während des Trainings protokolliert wurden. Standardmäßig wird der Verlust als `mean square error` gespeichert."
   ]
  },
  {
   "cell_type": "code",
   "execution_count": null,
   "id": "88eaea1faec01114",
   "metadata": {
    "ExecuteTime": {
     "end_time": "2025-03-11T16:03:09.394471200Z",
     "start_time": "2025-03-11T14:40:05.907827Z"
    }
   },
   "outputs": [],
   "source": [
    "# inspecting final loss\n",
    "trainer.logged_metrics"
   ]
  },
  {
   "cell_type": "markdown",
   "id": "4462bc758f885d63",
   "metadata": {},
   "source": [
    "## Visualisierung der Ergebnisse"
   ]
  },
  {
   "cell_type": "code",
   "execution_count": null,
   "id": "e49852a4f6c062cb",
   "metadata": {
    "ExecuteTime": {
     "end_time": "2025-03-11T16:03:09.397479100Z",
     "start_time": "2025-03-11T14:40:05.970455Z"
    }
   },
   "outputs": [],
   "source": [
    "# plotting the solution\n",
    "pl.plot(solver=pinn)"
   ]
  },
  {
   "cell_type": "markdown",
   "id": "9f560922eb1ab2d2",
   "metadata": {},
   "source": [
    "## Visualisierung der Loss-Kurve"
   ]
  },
  {
   "cell_type": "code",
   "execution_count": null,
   "id": "dc266779797f9d04",
   "metadata": {
    "ExecuteTime": {
     "end_time": "2025-03-11T16:03:09.434271800Z",
     "start_time": "2025-03-11T14:40:06.345203Z"
    }
   },
   "outputs": [],
   "source": [
    "pl.plot_loss(trainer=trainer, label='mean_loss', logy=True)"
   ]
  },
  {
   "cell_type": "markdown",
   "id": "a3673ef18ba689f1",
   "metadata": {},
   "source": [
    "### Erkenntnis\n",
    "- Der Verlust hat nicht das Minimum erreicht. Man könnte länger trainieren.\n",
    "\n",
    "## Weitere Optimierungsmöglichkeiten\n",
    "1. Das Netzwerk länger Trainieren mit unterschiedlichen Layergrößen und Verbesserung der finalen Genauigkeit\n",
    "2. Das netzwerk mit anderen Modeltypen testen\n",
    "3. GPU Training und Speed Benchmarking"
   ]
  }
 ],
 "metadata": {
  "kernelspec": {
   "display_name": "Python (venv)",
   "language": "python",
   "name": "venv"
  },
  "language_info": {
   "codemirror_mode": {
    "name": "ipython",
    "version": 3
   },
   "file_extension": ".py",
   "mimetype": "text/x-python",
   "name": "python",
   "nbconvert_exporter": "python",
   "pygments_lexer": "ipython3",
   "version": "3.12.9"
  }
 },
 "nbformat": 4,
 "nbformat_minor": 5
}
