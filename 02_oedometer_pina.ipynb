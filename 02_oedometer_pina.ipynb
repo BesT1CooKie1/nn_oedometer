{
 "cells": [
  {
   "cell_type": "markdown",
   "id": "bd4234fe-cb15-4585-b611-a30f5273ba4a",
   "metadata": {
    "jp-MarkdownHeadingCollapsed": true
   },
   "source": [
    "# MODUL PINA (Python 3.12)"
   ]
  },
  {
   "cell_type": "markdown",
   "id": "202376a2a307e3c2",
   "metadata": {},
   "source": [
    "# Vorhersage des Ödometerversuches implementiert\n",
    "Ziel war die Implementierung eines neuronalen Netzwerks zur Modellierung des Ödometerversuchs. Dabei wurden gegebene Input-Parameter verarbeitet, um Output-Parameter vorherzusagen. Die physikalischen Rahmenbedingungen wurden zunächst auf Null gesetzt, sodass das Modell ausschließlich auf der KI-basierten Struktur arbeitet, ohne physikalische Optimierungen durch Physical Informed Neural Networks (PINNs).\n",
    "<br>\n",
    "Diese grundlegende Umsetzung bildet die Basis für weiterführende Optimierungen, wie die Integration physikalischer Gesetzmäßigkeiten, die jedoch nicht Teil des initialen Arbeitsauftrags waren.\n",
    "\n",
    "#### Das Problem ist wie folgt definiert:\n",
    "$$\n",
    "\\begin{array}{rcl}\n",
    "    \\sigma_{t+1} & = & \\sigma_{t}+\\Delta\\sigma \\\\ \\\\\n",
    "    \\Delta\\sigma & = & E_s\\cdot \\Delta\\epsilon \\\\ \n",
    "    E_s & = & \\frac{1+e_0}{C_c} \\cdot \\sigma_t\n",
    "\\end{array}\n",
    "\\hspace{2cm}\n",
    "\\begin{array}{l}\n",
    "    \\textbf{Annahmen:} \\\\ \\\\\n",
    "    \\text{Startwert d. Iteration: } \\sigma_t = 1,00 \\\\ \n",
    "    e_0 = 1,00 \\\\ \n",
    "    C_c = 0,005 \\\\\n",
    "    \\Delta\\epsilon = 0,0005\n",
    "\\end{array}\n",
    "$$\n",
    "\n",
    "<br> \n",
    "\n",
    "Um das PINA-Model zu testen werden wir folgende vorberechnete Werte verwenden: `Input` { $\\sigma_t$ }, `Output` { $E_s$ }.\n",
    "<br>\n",
    "### Variablendeklaration\n",
    "- $\\sigma_t$ = `sigma_t`\n",
    "- $\\Delta\\epsilon$ = `delta_epsilon`\n",
    "- $\\sigma_{t+1}$ = `delta_sigma\n",
    "- $E_s$ = `e_s`"
   ]
  },
  {
   "cell_type": "markdown",
   "id": "3bbd3131-62f6-40f6-b958-c754762a0cc2",
   "metadata": {},
   "source": [
    "# Generating random trainings data"
   ]
  },
  {
   "cell_type": "code",
   "id": "ac98733d-04f5-48fc-b5bb-cba3ef36aa6d",
   "metadata": {
    "ExecuteTime": {
     "end_time": "2025-07-15T15:20:22.122249Z",
     "start_time": "2025-07-15T15:20:22.119096Z"
    }
   },
   "source": [
    "from random import randint\n",
    "\n",
    "# Define input and output parameters\n",
    "input_str = \"sigma_t\"\n",
    "output_str = \"e_s\"\n",
    "\n",
    "# 0 : simple, 1 : improved\n",
    "oedo_model = 0\n",
    "\n",
    "# Defining problem parameters\n",
    "delta_epsilon = 0.0005\n",
    "C_c = 0.005\n",
    "e_0 = 1.0\n",
    "amount_trainings_data = 100\n",
    "\n",
    "# Data preparation for\n",
    "oedo_para = {\n",
    "    \"max_n\": 1,\n",
    "    \"e_0\": e_0,\n",
    "    \"C_c\": C_c,\n",
    "    \"delta_epsilon\": delta_epsilon,\n",
    "}"
   ],
   "outputs": [],
   "execution_count": 1
  },
  {
   "cell_type": "markdown",
   "id": "9d30b3a0-9795-41db-8597-73cfdfb2b2fd",
   "metadata": {},
   "source": [
    "# Load problem and generate  data from 00_problem_settings_functions.ipynb\n",
    "\n",
    "Available classes: `Oedometer` <br>\n",
    "Returns `list_input` and `list_output` as type `list` <br>\n",
    "Returns `tensor_input` and `tensor_output` as type `tensor`"
   ]
  },
  {
   "cell_type": "code",
   "id": "adbe58bc-3ade-4457-906c-12b400bbc81a",
   "metadata": {
    "ExecuteTime": {
     "end_time": "2025-07-15T15:20:23.687574Z",
     "start_time": "2025-07-15T15:20:22.258285Z"
    }
   },
   "source": [
    "from handler.handleData import generate_data\n",
    "from random import sample\n",
    "\n",
    "if oedo_model == 0:\n",
    "    from classes.classOedometerSimple import Oedometer\n",
    "else:\n",
    "    from classes.classOedometerSimple import Oedometer\n",
    "\n",
    "sigma_t_train = [1] + sample(range(0, amount_trainings_data * 2), amount_trainings_data)\n",
    "\n",
    "list_input, list_output, tensor_input, tensor_output = generate_data(oedo=oedo_para, oedo_class=Oedometer, sigma_t=sigma_t_train, amount_trainings_data=amount_trainings_data)"
   ],
   "outputs": [],
   "execution_count": 2
  },
  {
   "cell_type": "markdown",
   "id": "33a6bd84-0106-4c29-b1c6-31f507288ce7",
   "metadata": {},
   "source": [
    "# Show trainingsdata (List) as DataFrame\n",
    "Type `list`: `list_input` and `list_output`"
   ]
  },
  {
   "cell_type": "code",
   "id": "01edcc12-68ad-4017-b12f-e6fb1b4132f8",
   "metadata": {
    "ExecuteTime": {
     "end_time": "2025-07-15T15:20:23.882187Z",
     "start_time": "2025-07-15T15:20:23.702515Z"
    }
   },
   "source": [
    "import pandas as pd\n",
    "from pandas import DataFrame\n",
    "\n",
    "pd.DataFrame([[input_str] + list_input, [output_str] + list_output])"
   ],
   "outputs": [
    {
     "data": {
      "text/plain": [
       "       0      1        2        3       4        5        6        7    \\\n",
       "0  sigma_t    1.0    139.0     81.0    15.0    112.0     64.0    193.0   \n",
       "1      e_s  400.0  55600.0  32400.0  6000.0  44800.0  25600.0  77200.0   \n",
       "\n",
       "       8        9    ...      91       92       93       94       95   \\\n",
       "0     57.0     45.0  ...    136.0    138.0     40.0     33.0    186.0   \n",
       "1  22800.0  18000.0  ...  54400.0  55200.0  16000.0  13200.0  74400.0   \n",
       "\n",
       "       96       97     98       99       100  \n",
       "0     78.0     48.0    2.0     85.0     59.0  \n",
       "1  31200.0  19200.0  800.0  34000.0  23600.0  \n",
       "\n",
       "[2 rows x 101 columns]"
      ],
      "text/html": [
       "<div>\n",
       "<style scoped>\n",
       "    .dataframe tbody tr th:only-of-type {\n",
       "        vertical-align: middle;\n",
       "    }\n",
       "\n",
       "    .dataframe tbody tr th {\n",
       "        vertical-align: top;\n",
       "    }\n",
       "\n",
       "    .dataframe thead th {\n",
       "        text-align: right;\n",
       "    }\n",
       "</style>\n",
       "<table border=\"1\" class=\"dataframe\">\n",
       "  <thead>\n",
       "    <tr style=\"text-align: right;\">\n",
       "      <th></th>\n",
       "      <th>0</th>\n",
       "      <th>1</th>\n",
       "      <th>2</th>\n",
       "      <th>3</th>\n",
       "      <th>4</th>\n",
       "      <th>5</th>\n",
       "      <th>6</th>\n",
       "      <th>7</th>\n",
       "      <th>8</th>\n",
       "      <th>9</th>\n",
       "      <th>...</th>\n",
       "      <th>91</th>\n",
       "      <th>92</th>\n",
       "      <th>93</th>\n",
       "      <th>94</th>\n",
       "      <th>95</th>\n",
       "      <th>96</th>\n",
       "      <th>97</th>\n",
       "      <th>98</th>\n",
       "      <th>99</th>\n",
       "      <th>100</th>\n",
       "    </tr>\n",
       "  </thead>\n",
       "  <tbody>\n",
       "    <tr>\n",
       "      <th>0</th>\n",
       "      <td>sigma_t</td>\n",
       "      <td>1.0</td>\n",
       "      <td>139.0</td>\n",
       "      <td>81.0</td>\n",
       "      <td>15.0</td>\n",
       "      <td>112.0</td>\n",
       "      <td>64.0</td>\n",
       "      <td>193.0</td>\n",
       "      <td>57.0</td>\n",
       "      <td>45.0</td>\n",
       "      <td>...</td>\n",
       "      <td>136.0</td>\n",
       "      <td>138.0</td>\n",
       "      <td>40.0</td>\n",
       "      <td>33.0</td>\n",
       "      <td>186.0</td>\n",
       "      <td>78.0</td>\n",
       "      <td>48.0</td>\n",
       "      <td>2.0</td>\n",
       "      <td>85.0</td>\n",
       "      <td>59.0</td>\n",
       "    </tr>\n",
       "    <tr>\n",
       "      <th>1</th>\n",
       "      <td>e_s</td>\n",
       "      <td>400.0</td>\n",
       "      <td>55600.0</td>\n",
       "      <td>32400.0</td>\n",
       "      <td>6000.0</td>\n",
       "      <td>44800.0</td>\n",
       "      <td>25600.0</td>\n",
       "      <td>77200.0</td>\n",
       "      <td>22800.0</td>\n",
       "      <td>18000.0</td>\n",
       "      <td>...</td>\n",
       "      <td>54400.0</td>\n",
       "      <td>55200.0</td>\n",
       "      <td>16000.0</td>\n",
       "      <td>13200.0</td>\n",
       "      <td>74400.0</td>\n",
       "      <td>31200.0</td>\n",
       "      <td>19200.0</td>\n",
       "      <td>800.0</td>\n",
       "      <td>34000.0</td>\n",
       "      <td>23600.0</td>\n",
       "    </tr>\n",
       "  </tbody>\n",
       "</table>\n",
       "<p>2 rows × 101 columns</p>\n",
       "</div>"
      ]
     },
     "execution_count": 3,
     "metadata": {},
     "output_type": "execute_result"
    }
   ],
   "execution_count": 3
  },
  {
   "cell_type": "markdown",
   "id": "b6a61f16-a650-4480-a491-87de94d4201f",
   "metadata": {},
   "source": [
    "# Show trainingsdata (Tensor) as DataFrame\n",
    "Type `tensor`: `tensor_input` and `tensor_output`"
   ]
  },
  {
   "cell_type": "code",
   "id": "fda839bb-d79a-40a3-80b1-5ea4480a936f",
   "metadata": {
    "ExecuteTime": {
     "end_time": "2025-07-15T15:20:24.187070Z",
     "start_time": "2025-07-15T15:20:23.943638Z"
    }
   },
   "source": [
    "tensor_data_df = pd.DataFrame(torch.cat((tensor_input, tensor_output), dim=1), columns = [input_str, output_str])\n",
    "tensor_data_df"
   ],
   "outputs": [
    {
     "ename": "NameError",
     "evalue": "name 'torch' is not defined",
     "output_type": "error",
     "traceback": [
      "\u001B[31m---------------------------------------------------------------------------\u001B[39m",
      "\u001B[31mNameError\u001B[39m                                 Traceback (most recent call last)",
      "\u001B[36mCell\u001B[39m\u001B[36m \u001B[39m\u001B[32mIn[4]\u001B[39m\u001B[32m, line 1\u001B[39m\n\u001B[32m----> \u001B[39m\u001B[32m1\u001B[39m tensor_data_df = pd.DataFrame(\u001B[43mtorch\u001B[49m.cat((tensor_input, tensor_output), dim=\u001B[32m1\u001B[39m), columns = [input_str, output_str])\n\u001B[32m      2\u001B[39m tensor_data_df\n",
      "\u001B[31mNameError\u001B[39m: name 'torch' is not defined"
     ]
    }
   ],
   "execution_count": 4
  },
  {
   "cell_type": "markdown",
   "id": "2d182c1ff77877a1",
   "metadata": {},
   "source": [
    "## Tensor to LabelTensor for PINA"
   ]
  },
  {
   "cell_type": "code",
   "execution_count": 5,
   "id": "506469cd2477431e",
   "metadata": {
    "ExecuteTime": {
     "end_time": "2025-07-15T15:20:24.235495775Z",
     "start_time": "2025-03-12T08:30:31.125143Z"
    }
   },
   "outputs": [],
   "source": [
    "from pina.utils import LabelTensor\n",
    "\n",
    "label_tensor_input = LabelTensor(tensor_input,[input_str])\n",
    "label_tensor_output = LabelTensor(tensor_output, [output_str])"
   ]
  },
  {
   "cell_type": "markdown",
   "id": "0c16d8f5-3615-4098-a1fd-277455c71843",
   "metadata": {},
   "source": [
    "# Show trainingsdata (LabelTensor) as DataFrame\n",
    "Type `LabelTensor`: `label_tensor_input` and `label_tensor_output`"
   ]
  },
  {
   "cell_type": "code",
   "execution_count": 6,
   "id": "9cf9f450-08be-44bf-93d5-13afef796e66",
   "metadata": {},
   "outputs": [
    {
     "name": "stdout",
     "output_type": "stream",
     "text": [
      "Input Size:  torch.Size([100, 1])\n",
      "Output Size:  torch.Size([100, 1]) \n",
      "\n"
     ]
    },
    {
     "data": {
      "text/html": [
       "<div>\n",
       "<style scoped>\n",
       "    .dataframe tbody tr th:only-of-type {\n",
       "        vertical-align: middle;\n",
       "    }\n",
       "\n",
       "    .dataframe tbody tr th {\n",
       "        vertical-align: top;\n",
       "    }\n",
       "\n",
       "    .dataframe thead th {\n",
       "        text-align: right;\n",
       "    }\n",
       "</style>\n",
       "<table border=\"1\" class=\"dataframe\">\n",
       "  <thead>\n",
       "    <tr style=\"text-align: right;\">\n",
       "      <th></th>\n",
       "      <th>sigma_t</th>\n",
       "      <th>e_s</th>\n",
       "    </tr>\n",
       "  </thead>\n",
       "  <tbody>\n",
       "    <tr>\n",
       "      <th>0</th>\n",
       "      <td>30.0</td>\n",
       "      <td>12000.0</td>\n",
       "    </tr>\n",
       "    <tr>\n",
       "      <th>1</th>\n",
       "      <td>43.0</td>\n",
       "      <td>17200.0</td>\n",
       "    </tr>\n",
       "    <tr>\n",
       "      <th>2</th>\n",
       "      <td>22.0</td>\n",
       "      <td>8800.0</td>\n",
       "    </tr>\n",
       "    <tr>\n",
       "      <th>3</th>\n",
       "      <td>48.0</td>\n",
       "      <td>19200.0</td>\n",
       "    </tr>\n",
       "    <tr>\n",
       "      <th>4</th>\n",
       "      <td>14.0</td>\n",
       "      <td>5600.0</td>\n",
       "    </tr>\n",
       "    <tr>\n",
       "      <th>...</th>\n",
       "      <td>...</td>\n",
       "      <td>...</td>\n",
       "    </tr>\n",
       "    <tr>\n",
       "      <th>95</th>\n",
       "      <td>25.0</td>\n",
       "      <td>10000.0</td>\n",
       "    </tr>\n",
       "    <tr>\n",
       "      <th>96</th>\n",
       "      <td>43.0</td>\n",
       "      <td>17200.0</td>\n",
       "    </tr>\n",
       "    <tr>\n",
       "      <th>97</th>\n",
       "      <td>27.0</td>\n",
       "      <td>10800.0</td>\n",
       "    </tr>\n",
       "    <tr>\n",
       "      <th>98</th>\n",
       "      <td>24.0</td>\n",
       "      <td>9600.0</td>\n",
       "    </tr>\n",
       "    <tr>\n",
       "      <th>99</th>\n",
       "      <td>45.0</td>\n",
       "      <td>18000.0</td>\n",
       "    </tr>\n",
       "  </tbody>\n",
       "</table>\n",
       "<p>100 rows × 2 columns</p>\n",
       "</div>"
      ],
      "text/plain": [
       "    sigma_t      e_s\n",
       "0      30.0  12000.0\n",
       "1      43.0  17200.0\n",
       "2      22.0   8800.0\n",
       "3      48.0  19200.0\n",
       "4      14.0   5600.0\n",
       "..      ...      ...\n",
       "95     25.0  10000.0\n",
       "96     43.0  17200.0\n",
       "97     27.0  10800.0\n",
       "98     24.0   9600.0\n",
       "99     45.0  18000.0\n",
       "\n",
       "[100 rows x 2 columns]"
      ]
     },
     "execution_count": 6,
     "metadata": {},
     "output_type": "execute_result"
    }
   ],
   "source": [
    "tensor_input_df = pd.DataFrame(torch.cat((label_tensor_input, label_tensor_output), dim=1), columns = [input_str, output_str])\n",
    "\n",
    "print('Input Size: ', label_tensor_input.size())\n",
    "print('Output Size: ', label_tensor_output.size(), '\\n')\n",
    "tensor_input_df"
   ]
  },
  {
   "cell_type": "markdown",
   "id": "30c8c6ec-bac1-4d00-83cb-63b178a72be6",
   "metadata": {},
   "source": [
    "### **Definition eines PINN-Problems in PINA**  "
   ]
  },
  {
   "cell_type": "code",
   "execution_count": 7,
   "id": "c2de5194c7f49fbf",
   "metadata": {
    "ExecuteTime": {
     "end_time": "2025-07-15T15:20:24.252923556Z",
     "start_time": "2025-03-12T08:30:31.590633Z"
    }
   },
   "outputs": [
    {
     "name": "stdout",
     "output_type": "stream",
     "text": [
      "Input:  ['sigma_t']\n",
      "Output:  ['e_s']\n"
     ]
    }
   ],
   "source": [
    "from pina.problem import AbstractProblem\n",
    "from pina.domain import CartesianDomain\n",
    "from pina import Condition\n",
    "\n",
    "input_conditions = {'data': Condition(input=label_tensor_input, target=label_tensor_output),}\n",
    "\n",
    "class SimpleODE(AbstractProblem):\n",
    "\n",
    "    # Definition der Eingabe- und Ausgabevariablen basierend auf LabelTensor\n",
    "    input_variables = label_tensor_input.labels\n",
    "    output_variables = label_tensor_output.labels\n",
    "\n",
    "    # Wertebereich\n",
    "    domain = CartesianDomain({label_tensor_input: [0, 1]})#, 'delta_epsilon': [0, 1]})  # Wertebereich immer definieren!\n",
    "\n",
    "    # Definition der Randbedingungen und (hier: nur) vorberechnetet Punkte\n",
    "    conditions = input_conditions\n",
    "\n",
    "    label_tensor_output=label_tensor_output\n",
    "\n",
    "    # Methode zur Definition der \"wahren Lösung\" des Problems\n",
    "    def truth_solution(self, pts):\n",
    "        return torch.exp(pts.extract(label_tensor_input))\n",
    "\n",
    "# Problem-Instanz erzeugen\n",
    "problem = SimpleODE()\n",
    "\n",
    "print('Input: ', problem.input_variables)\n",
    "print('Output: ', problem.output_variables)"
   ]
  },
  {
   "cell_type": "markdown",
   "id": "98b78c6b-22bf-4a9a-8d00-be05b47deb71",
   "metadata": {},
   "source": [
    "# Training eines Physics-Informed Neural Networks (PINN) mit PINA"
   ]
  },
  {
   "cell_type": "code",
   "execution_count": 12,
   "id": "aeb7ce50b0b515f4",
   "metadata": {
    "ExecuteTime": {
     "end_time": "2025-07-15T15:20:24.253782620Z",
     "start_time": "2025-03-12T08:30:34.000486Z"
    },
    "jupyter": {
     "is_executing": true
    }
   },
   "outputs": [
    {
     "ename": "TypeError",
     "evalue": "empty() received an invalid combination of arguments - got (tuple, dtype=NoneType, device=NoneType), but expected one of:\n * (tuple of ints size, *, tuple of names names, torch.memory_format memory_format = None, torch.dtype dtype = None, torch.layout layout = None, torch.device device = None, bool pin_memory = False, bool requires_grad = False)\n * (tuple of ints size, *, torch.memory_format memory_format = None, Tensor out = None, torch.dtype dtype = None, torch.layout layout = None, torch.device device = None, bool pin_memory = False, bool requires_grad = False)\n",
     "output_type": "error",
     "traceback": [
      "\u001B[31m---------------------------------------------------------------------------\u001B[39m",
      "\u001B[31mTypeError\u001B[39m                                 Traceback (most recent call last)",
      "\u001B[36mCell\u001B[39m\u001B[36m \u001B[39m\u001B[32mIn[12]\u001B[39m\u001B[32m, line 9\u001B[39m\n\u001B[32m      5\u001B[39m \u001B[38;5;28;01mimport\u001B[39;00m\u001B[38;5;250m \u001B[39m\u001B[34;01mtorch\u001B[39;00m\u001B[34;01m.\u001B[39;00m\u001B[34;01mnn\u001B[39;00m\u001B[38;5;250m \u001B[39m\u001B[38;5;28;01mas\u001B[39;00m\u001B[38;5;250m \u001B[39m\u001B[34;01mnn\u001B[39;00m\n\u001B[32m      6\u001B[39m \u001B[38;5;66;03m# Model erstellen\u001B[39;00m\n\u001B[32m      7\u001B[39m model = FeedForward(\n\u001B[32m      8\u001B[39m     layers=[\u001B[32m1\u001B[39m,\u001B[32m2\u001B[39m,\u001B[32m1\u001B[39m],\n\u001B[32m----> \u001B[39m\u001B[32m9\u001B[39m     func=\u001B[43mnn\u001B[49m\u001B[43m.\u001B[49m\u001B[43mLinear\u001B[49m\u001B[43m(\u001B[49m\u001B[43mtensor_input\u001B[49m\u001B[43m,\u001B[49m\u001B[43m \u001B[49m\u001B[43mtensor_output\u001B[49m\u001B[43m)\u001B[49m,\n\u001B[32m     10\u001B[39m     output_dimensions=\u001B[38;5;28mlen\u001B[39m(problem.output_variables),\n\u001B[32m     11\u001B[39m     input_dimensions=\u001B[38;5;28mlen\u001B[39m(problem.input_variables)\n\u001B[32m     12\u001B[39m )\n\u001B[32m     14\u001B[39m \u001B[38;5;66;03m# PINN-Objekt erstellen\u001B[39;00m\n\u001B[32m     15\u001B[39m pinn = PINN(problem, model)\n",
      "\u001B[36mFile \u001B[39m\u001B[32m~/Dokumente/git_projects/nn_oedometer_lstm/venv/lib/python3.12/site-packages/torch/nn/modules/linear.py:106\u001B[39m, in \u001B[36mLinear.__init__\u001B[39m\u001B[34m(self, in_features, out_features, bias, device, dtype)\u001B[39m\n\u001B[32m    103\u001B[39m \u001B[38;5;28mself\u001B[39m.in_features = in_features\n\u001B[32m    104\u001B[39m \u001B[38;5;28mself\u001B[39m.out_features = out_features\n\u001B[32m    105\u001B[39m \u001B[38;5;28mself\u001B[39m.weight = Parameter(\n\u001B[32m--> \u001B[39m\u001B[32m106\u001B[39m     \u001B[43mtorch\u001B[49m\u001B[43m.\u001B[49m\u001B[43mempty\u001B[49m\u001B[43m(\u001B[49m\u001B[43m(\u001B[49m\u001B[43mout_features\u001B[49m\u001B[43m,\u001B[49m\u001B[43m \u001B[49m\u001B[43min_features\u001B[49m\u001B[43m)\u001B[49m\u001B[43m,\u001B[49m\u001B[43m \u001B[49m\u001B[43m*\u001B[49m\u001B[43m*\u001B[49m\u001B[43mfactory_kwargs\u001B[49m\u001B[43m)\u001B[49m\n\u001B[32m    107\u001B[39m )\n\u001B[32m    108\u001B[39m \u001B[38;5;28;01mif\u001B[39;00m bias:\n\u001B[32m    109\u001B[39m     \u001B[38;5;28mself\u001B[39m.bias = Parameter(torch.empty(out_features, **factory_kwargs))\n",
      "\u001B[31mTypeError\u001B[39m: empty() received an invalid combination of arguments - got (tuple, dtype=NoneType, device=NoneType), but expected one of:\n * (tuple of ints size, *, tuple of names names, torch.memory_format memory_format = None, torch.dtype dtype = None, torch.layout layout = None, torch.device device = None, bool pin_memory = False, bool requires_grad = False)\n * (tuple of ints size, *, torch.memory_format memory_format = None, Tensor out = None, torch.dtype dtype = None, torch.layout layout = None, torch.device device = None, bool pin_memory = False, bool requires_grad = False)\n"
     ]
    }
   ],
   "source": [
    "from pina import Trainer\n",
    "from pina.solver import PINN\n",
    "from pina.model import FeedForward\n",
    "from pina.callback import MetricTracker\n",
    "import torch.nn as nn\n",
    "# Model erstellen\n",
    "model = FeedForward(\n",
    "    layers=[1,2,1],\n",
    "    func=nn.ReLU,\n",
    "    output_dimensions=len(problem.output_variables),\n",
    "    input_dimensions=len(problem.input_variables)\n",
    ")\n",
    "\n",
    "# PINN-Objekt erstellen\n",
    "pinn = PINN(problem, model)\n",
    "\n",
    "# Trainer erstellen mit TensorBoard-Logger\n",
    "trainer = Trainer(\n",
    "    solver=pinn,\n",
    "    max_epochs=1000,\n",
    "    callbacks=[MetricTracker()],\n",
    "    batch_size=16,\n",
    "    accelerator='cpu',\n",
    "    enable_model_summary=False,\n",
    ")\n",
    "\n",
    "\n",
    "# Training starten\n",
    "trainer.train()\n",
    "\n",
    "print('\\nFinale Loss Werte')\n",
    "# Inspect final loss\n",
    "trainer.logged_metrics"
   ]
  },
  {
   "cell_type": "code",
   "execution_count": null,
   "id": "b45eb32a-d90b-4532-ad50-d46eb598309b",
   "metadata": {},
   "outputs": [],
   "source": [
    "import matplotlib.pyplot as plt\n",
    "\n",
    "data_loss = trainer.callbacks[0].metrics[\"train_loss_epoch\"].tolist()\n",
    "\n",
    "plt.plot(data_loss, label=\"Loss\")\n",
    "plt.xlabel('Epochs')\n",
    "plt.ylabel('Train Loss')\n",
    "plt.show()"
   ]
  },
  {
   "cell_type": "markdown",
   "id": "9d68de8c-a91f-4a8c-bcd5-3c3bfdd1ad2e",
   "metadata": {},
   "source": [
    "# Plot of stress–strain curve"
   ]
  },
  {
   "cell_type": "code",
   "execution_count": null,
   "id": "76091b86-4f44-41cc-8b5a-6f9391e888ac",
   "metadata": {},
   "outputs": [],
   "source": [
    "from handler.handleVisuals import plot_result_graph\n",
    "\n",
    "oedo_para = {\n",
    "        \"max_n\": 50,\n",
    "        \"e_0\": e_0,\n",
    "        \"C_c\": C_c,\n",
    "        \"delta_epsilon\": delta_epsilon,\n",
    "        \"sigma_t\": 1,\n",
    "    }\n",
    "\n",
    "oedo = Oedometer(**oedo_para)\n",
    "e_s_list, delta_sigma_list = plot_result_graph(model=model, oedo=oedo,iterations=oedo_para[\"max_n\"], start_sigma=1,delta_epsilon=0.0005)"
   ]
  },
  {
   "cell_type": "code",
   "execution_count": null,
   "id": "9915b527-3276-42d8-a75d-ef11ae0124ff",
   "metadata": {},
   "outputs": [],
   "source": [
    "from handler.handleVisuals import plot_result_dataframe\n",
    "from IPython.display import Markdown, display\n",
    "\n",
    "plot_result_dataframe(pd, e_s_list, delta_sigma_list)"
   ]
  }
 ],
 "metadata": {
  "kernelspec": {
   "display_name": "Python 3 (ipykernel)",
   "language": "python",
   "name": "python3"
  },
  "language_info": {
   "codemirror_mode": {
    "name": "ipython",
    "version": 3
   },
   "file_extension": ".py",
   "mimetype": "text/x-python",
   "name": "python",
   "nbconvert_exporter": "python",
   "pygments_lexer": "ipython3",
   "version": "3.12.11"
  }
 },
 "nbformat": 4,
 "nbformat_minor": 5
}
