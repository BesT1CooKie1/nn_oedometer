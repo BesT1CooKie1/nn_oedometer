{
 "cells": [
  {
   "cell_type": "markdown",
   "id": "bd4234fe-cb15-4585-b611-a30f5273ba4a",
   "metadata": {
    "jp-MarkdownHeadingCollapsed": true
   },
   "source": [
    "# MODUL PINA (Python 3.12)"
   ]
  },
  {
   "cell_type": "markdown",
   "id": "202376a2a307e3c2",
   "metadata": {},
   "source": [
    "# Vorhersage des Ödometerversuches implementiert\n",
    "Ziel war die Implementierung eines neuronalen Netzwerks zur Modellierung des Ödometerversuchs. Dabei wurden gegebene Input-Parameter verarbeitet, um Output-Parameter vorherzusagen. Die physikalischen Rahmenbedingungen wurden zunächst auf Null gesetzt, sodass das Modell ausschließlich auf der KI-basierten Struktur arbeitet, ohne physikalische Optimierungen durch Physical Informed Neural Networks (PINNs).\n",
    "<br>\n",
    "Diese grundlegende Umsetzung bildet die Basis für weiterführende Optimierungen, wie die Integration physikalischer Gesetzmäßigkeiten, die jedoch nicht Teil des initialen Arbeitsauftrags waren.\n",
    "\n",
    "#### Das Problem ist wie folgt definiert:\n",
    "$$\n",
    "\\begin{array}{rcl}\n",
    "    \\sigma_{t+1} & = & \\sigma_{t}+\\Delta\\sigma \\\\ \\\\\n",
    "    \\Delta\\sigma & = & E_s\\cdot \\Delta\\epsilon \\\\ \n",
    "    E_s & = & \\frac{1+e_0}{C_c} \\cdot \\sigma_t\n",
    "\\end{array}\n",
    "\\hspace{2cm}\n",
    "\\begin{array}{l}\n",
    "    \\textbf{Annahmen:} \\\\ \\\\\n",
    "    \\text{Startwert d. Iteration: } \\sigma_t = 1,00 \\\\ \n",
    "    e_0 = 1,00 \\\\ \n",
    "    C_c = 0,005 \\\\\n",
    "    \\Delta\\epsilon = 0,0005\n",
    "\\end{array}\n",
    "$$\n",
    "\n",
    "<br> \n",
    "\n",
    "Um das PINA-Model zu testen werden wir folgende vorberechnete Werte verwenden: `Input` { $\\sigma_t$ }, `Output` { $E_s$ }.\n",
    "<br>\n",
    "### Variablendeklaration\n",
    "- $\\sigma_t$ = `sigma_t`\n",
    "- $\\Delta\\epsilon$ = `delta_epsilon`\n",
    "- $\\sigma_{t+1}$ = `delta_sigma\n",
    "- $E_s$ = `e_s`"
   ]
  },
  {
   "cell_type": "markdown",
   "id": "3bbd3131-62f6-40f6-b958-c754762a0cc2",
   "metadata": {},
   "source": [
    "# Generating random trainings data"
   ]
  },
  {
   "cell_type": "code",
   "execution_count": 1,
   "id": "ac98733d-04f5-48fc-b5bb-cba3ef36aa6d",
   "metadata": {},
   "outputs": [],
   "source": [
    "from random import randint\n",
    "\n",
    "# Define input and output parameters\n",
    "input_str = \"sigma_t\"\n",
    "output_str = \"e_s\"\n",
    "\n",
    "# Defining problem parameters\n",
    "delta_epsilon=0.0005\n",
    "C_c = 0.005\n",
    "e_0 = 1.0\n",
    "amount_trainings_data = 100\n",
    "\n",
    "# Data preparation for \n",
    "oedo_para = {\n",
    "    'max_n': 1,\n",
    "    'e_0': e_0,\n",
    "    'C_c': C_c,\n",
    "    'delta_epsilon' : delta_epsilon,\n",
    "}"
   ]
  },
  {
   "cell_type": "markdown",
   "id": "9d30b3a0-9795-41db-8597-73cfdfb2b2fd",
   "metadata": {},
   "source": [
    "# Load problem and generate  data from 00_problem_settings_functions.ipynb\n",
    "\n",
    "Available classes: `Oedometer` <br>\n",
    "Returns `list_input` and `list_output` as type `list` <br>\n",
    "Returns `tensor_input` and `tensor_output` as type `tensor`"
   ]
  },
  {
   "cell_type": "code",
   "execution_count": 2,
   "id": "adbe58bc-3ade-4457-906c-12b400bbc81a",
   "metadata": {},
   "outputs": [],
   "source": [
    "%run 00_problem_settings_functions.ipynb\n",
    "\n",
    "# Loads:\n",
    "# Oedometer class\n",
    "\n",
    "# Returns\n",
    "# list_input: list\n",
    "# list_output: list\n",
    "\n",
    "# tensor_input: tensor\n",
    "# tensor_output: tensor"
   ]
  },
  {
   "cell_type": "markdown",
   "id": "33a6bd84-0106-4c29-b1c6-31f507288ce7",
   "metadata": {},
   "source": [
    "# Show trainingsdata (List) as DataFrame\n",
    "Type `list`: `list_input` and `list_output`"
   ]
  },
  {
   "cell_type": "code",
   "execution_count": 3,
   "id": "01edcc12-68ad-4017-b12f-e6fb1b4132f8",
   "metadata": {},
   "outputs": [
    {
     "data": {
      "text/html": [
       "<div>\n",
       "<style scoped>\n",
       "    .dataframe tbody tr th:only-of-type {\n",
       "        vertical-align: middle;\n",
       "    }\n",
       "\n",
       "    .dataframe tbody tr th {\n",
       "        vertical-align: top;\n",
       "    }\n",
       "\n",
       "    .dataframe thead th {\n",
       "        text-align: right;\n",
       "    }\n",
       "</style>\n",
       "<table border=\"1\" class=\"dataframe\">\n",
       "  <thead>\n",
       "    <tr style=\"text-align: right;\">\n",
       "      <th></th>\n",
       "      <th>0</th>\n",
       "      <th>1</th>\n",
       "      <th>2</th>\n",
       "      <th>3</th>\n",
       "      <th>4</th>\n",
       "      <th>5</th>\n",
       "      <th>6</th>\n",
       "      <th>7</th>\n",
       "      <th>8</th>\n",
       "      <th>9</th>\n",
       "      <th>...</th>\n",
       "      <th>91</th>\n",
       "      <th>92</th>\n",
       "      <th>93</th>\n",
       "      <th>94</th>\n",
       "      <th>95</th>\n",
       "      <th>96</th>\n",
       "      <th>97</th>\n",
       "      <th>98</th>\n",
       "      <th>99</th>\n",
       "      <th>100</th>\n",
       "    </tr>\n",
       "  </thead>\n",
       "  <tbody>\n",
       "    <tr>\n",
       "      <th>0</th>\n",
       "      <td>sigma_t</td>\n",
       "      <td>20.0</td>\n",
       "      <td>30.0</td>\n",
       "      <td>15.0</td>\n",
       "      <td>20.0</td>\n",
       "      <td>18.0</td>\n",
       "      <td>4.0</td>\n",
       "      <td>33.0</td>\n",
       "      <td>25.0</td>\n",
       "      <td>6.0</td>\n",
       "      <td>...</td>\n",
       "      <td>44.0</td>\n",
       "      <td>39.0</td>\n",
       "      <td>50.0</td>\n",
       "      <td>14.0</td>\n",
       "      <td>5.0</td>\n",
       "      <td>26.0</td>\n",
       "      <td>16.0</td>\n",
       "      <td>4.0</td>\n",
       "      <td>24.0</td>\n",
       "      <td>20.0</td>\n",
       "    </tr>\n",
       "    <tr>\n",
       "      <th>1</th>\n",
       "      <td>e_s</td>\n",
       "      <td>8000.0</td>\n",
       "      <td>12000.0</td>\n",
       "      <td>6000.0</td>\n",
       "      <td>8000.0</td>\n",
       "      <td>7200.0</td>\n",
       "      <td>1600.0</td>\n",
       "      <td>13200.0</td>\n",
       "      <td>10000.0</td>\n",
       "      <td>2400.0</td>\n",
       "      <td>...</td>\n",
       "      <td>17600.0</td>\n",
       "      <td>15600.0</td>\n",
       "      <td>20000.0</td>\n",
       "      <td>5600.0</td>\n",
       "      <td>2000.0</td>\n",
       "      <td>10400.0</td>\n",
       "      <td>6400.0</td>\n",
       "      <td>1600.0</td>\n",
       "      <td>9600.0</td>\n",
       "      <td>8000.0</td>\n",
       "    </tr>\n",
       "  </tbody>\n",
       "</table>\n",
       "<p>2 rows × 101 columns</p>\n",
       "</div>"
      ],
      "text/plain": [
       "       0       1        2       3       4       5       6        7        8    \\\n",
       "0  sigma_t    20.0     30.0    15.0    20.0    18.0     4.0     33.0     25.0   \n",
       "1      e_s  8000.0  12000.0  6000.0  8000.0  7200.0  1600.0  13200.0  10000.0   \n",
       "\n",
       "      9    ...      91       92       93      94      95       96      97   \\\n",
       "0     6.0  ...     44.0     39.0     50.0    14.0     5.0     26.0    16.0   \n",
       "1  2400.0  ...  17600.0  15600.0  20000.0  5600.0  2000.0  10400.0  6400.0   \n",
       "\n",
       "      98      99      100  \n",
       "0     4.0    24.0    20.0  \n",
       "1  1600.0  9600.0  8000.0  \n",
       "\n",
       "[2 rows x 101 columns]"
      ]
     },
     "execution_count": 3,
     "metadata": {},
     "output_type": "execute_result"
    }
   ],
   "source": [
    "import pandas as pd\n",
    "from pandas import DataFrame\n",
    "\n",
    "pd.DataFrame([[input_str] + list_input, [output_str] + list_output])"
   ]
  },
  {
   "cell_type": "markdown",
   "id": "b6a61f16-a650-4480-a491-87de94d4201f",
   "metadata": {},
   "source": [
    "# Show trainingsdata (Tensor) as DataFrame\n",
    "Type `tensor`: `tensor_input` and `tensor_output`"
   ]
  },
  {
   "cell_type": "code",
   "execution_count": 4,
   "id": "fda839bb-d79a-40a3-80b1-5ea4480a936f",
   "metadata": {},
   "outputs": [
    {
     "data": {
      "text/html": [
       "<div>\n",
       "<style scoped>\n",
       "    .dataframe tbody tr th:only-of-type {\n",
       "        vertical-align: middle;\n",
       "    }\n",
       "\n",
       "    .dataframe tbody tr th {\n",
       "        vertical-align: top;\n",
       "    }\n",
       "\n",
       "    .dataframe thead th {\n",
       "        text-align: right;\n",
       "    }\n",
       "</style>\n",
       "<table border=\"1\" class=\"dataframe\">\n",
       "  <thead>\n",
       "    <tr style=\"text-align: right;\">\n",
       "      <th></th>\n",
       "      <th>sigma_t</th>\n",
       "      <th>e_s</th>\n",
       "    </tr>\n",
       "  </thead>\n",
       "  <tbody>\n",
       "    <tr>\n",
       "      <th>0</th>\n",
       "      <td>20.0</td>\n",
       "      <td>8000.0</td>\n",
       "    </tr>\n",
       "    <tr>\n",
       "      <th>1</th>\n",
       "      <td>30.0</td>\n",
       "      <td>12000.0</td>\n",
       "    </tr>\n",
       "    <tr>\n",
       "      <th>2</th>\n",
       "      <td>15.0</td>\n",
       "      <td>6000.0</td>\n",
       "    </tr>\n",
       "    <tr>\n",
       "      <th>3</th>\n",
       "      <td>20.0</td>\n",
       "      <td>8000.0</td>\n",
       "    </tr>\n",
       "    <tr>\n",
       "      <th>4</th>\n",
       "      <td>18.0</td>\n",
       "      <td>7200.0</td>\n",
       "    </tr>\n",
       "    <tr>\n",
       "      <th>...</th>\n",
       "      <td>...</td>\n",
       "      <td>...</td>\n",
       "    </tr>\n",
       "    <tr>\n",
       "      <th>95</th>\n",
       "      <td>26.0</td>\n",
       "      <td>10400.0</td>\n",
       "    </tr>\n",
       "    <tr>\n",
       "      <th>96</th>\n",
       "      <td>16.0</td>\n",
       "      <td>6400.0</td>\n",
       "    </tr>\n",
       "    <tr>\n",
       "      <th>97</th>\n",
       "      <td>4.0</td>\n",
       "      <td>1600.0</td>\n",
       "    </tr>\n",
       "    <tr>\n",
       "      <th>98</th>\n",
       "      <td>24.0</td>\n",
       "      <td>9600.0</td>\n",
       "    </tr>\n",
       "    <tr>\n",
       "      <th>99</th>\n",
       "      <td>20.0</td>\n",
       "      <td>8000.0</td>\n",
       "    </tr>\n",
       "  </tbody>\n",
       "</table>\n",
       "<p>100 rows × 2 columns</p>\n",
       "</div>"
      ],
      "text/plain": [
       "    sigma_t      e_s\n",
       "0      20.0   8000.0\n",
       "1      30.0  12000.0\n",
       "2      15.0   6000.0\n",
       "3      20.0   8000.0\n",
       "4      18.0   7200.0\n",
       "..      ...      ...\n",
       "95     26.0  10400.0\n",
       "96     16.0   6400.0\n",
       "97      4.0   1600.0\n",
       "98     24.0   9600.0\n",
       "99     20.0   8000.0\n",
       "\n",
       "[100 rows x 2 columns]"
      ]
     },
     "execution_count": 4,
     "metadata": {},
     "output_type": "execute_result"
    }
   ],
   "source": [
    "tensor_data_df = pd.DataFrame(torch.cat((tensor_input, tensor_output), dim=1), columns = [input_str, output_str])\n",
    "tensor_data_df"
   ]
  },
  {
   "cell_type": "markdown",
   "id": "2d182c1ff77877a1",
   "metadata": {},
   "source": [
    "## Tensor to LabelTensor for PINA"
   ]
  },
  {
   "cell_type": "code",
   "execution_count": 5,
   "id": "506469cd2477431e",
   "metadata": {
    "ExecuteTime": {
     "end_time": "2025-03-12T08:30:31.150519Z",
     "start_time": "2025-03-12T08:30:31.125143Z"
    }
   },
   "outputs": [],
   "source": [
    "from pina.utils import LabelTensor\n",
    "\n",
    "label_tensor_input = LabelTensor(tensor_input,[input_str])\n",
    "label_tensor_output = LabelTensor(tensor_output, [output_str])"
   ]
  },
  {
   "cell_type": "markdown",
   "id": "0c16d8f5-3615-4098-a1fd-277455c71843",
   "metadata": {},
   "source": [
    "# Show trainingsdata (LabelTensor) as DataFrame\n",
    "Type `LabelTensor`: `label_tensor_input` and `label_tensor_output`"
   ]
  },
  {
   "cell_type": "code",
   "execution_count": 6,
   "id": "9cf9f450-08be-44bf-93d5-13afef796e66",
   "metadata": {},
   "outputs": [
    {
     "name": "stdout",
     "output_type": "stream",
     "text": [
      "Input Size:  torch.Size([100, 1])\n",
      "Output Size:  torch.Size([100, 1]) \n",
      "\n"
     ]
    },
    {
     "data": {
      "text/html": [
       "<div>\n",
       "<style scoped>\n",
       "    .dataframe tbody tr th:only-of-type {\n",
       "        vertical-align: middle;\n",
       "    }\n",
       "\n",
       "    .dataframe tbody tr th {\n",
       "        vertical-align: top;\n",
       "    }\n",
       "\n",
       "    .dataframe thead th {\n",
       "        text-align: right;\n",
       "    }\n",
       "</style>\n",
       "<table border=\"1\" class=\"dataframe\">\n",
       "  <thead>\n",
       "    <tr style=\"text-align: right;\">\n",
       "      <th></th>\n",
       "      <th>sigma_t</th>\n",
       "      <th>e_s</th>\n",
       "    </tr>\n",
       "  </thead>\n",
       "  <tbody>\n",
       "    <tr>\n",
       "      <th>0</th>\n",
       "      <td>20.0</td>\n",
       "      <td>8000.0</td>\n",
       "    </tr>\n",
       "    <tr>\n",
       "      <th>1</th>\n",
       "      <td>30.0</td>\n",
       "      <td>12000.0</td>\n",
       "    </tr>\n",
       "    <tr>\n",
       "      <th>2</th>\n",
       "      <td>15.0</td>\n",
       "      <td>6000.0</td>\n",
       "    </tr>\n",
       "    <tr>\n",
       "      <th>3</th>\n",
       "      <td>20.0</td>\n",
       "      <td>8000.0</td>\n",
       "    </tr>\n",
       "    <tr>\n",
       "      <th>4</th>\n",
       "      <td>18.0</td>\n",
       "      <td>7200.0</td>\n",
       "    </tr>\n",
       "    <tr>\n",
       "      <th>...</th>\n",
       "      <td>...</td>\n",
       "      <td>...</td>\n",
       "    </tr>\n",
       "    <tr>\n",
       "      <th>95</th>\n",
       "      <td>26.0</td>\n",
       "      <td>10400.0</td>\n",
       "    </tr>\n",
       "    <tr>\n",
       "      <th>96</th>\n",
       "      <td>16.0</td>\n",
       "      <td>6400.0</td>\n",
       "    </tr>\n",
       "    <tr>\n",
       "      <th>97</th>\n",
       "      <td>4.0</td>\n",
       "      <td>1600.0</td>\n",
       "    </tr>\n",
       "    <tr>\n",
       "      <th>98</th>\n",
       "      <td>24.0</td>\n",
       "      <td>9600.0</td>\n",
       "    </tr>\n",
       "    <tr>\n",
       "      <th>99</th>\n",
       "      <td>20.0</td>\n",
       "      <td>8000.0</td>\n",
       "    </tr>\n",
       "  </tbody>\n",
       "</table>\n",
       "<p>100 rows × 2 columns</p>\n",
       "</div>"
      ],
      "text/plain": [
       "    sigma_t      e_s\n",
       "0      20.0   8000.0\n",
       "1      30.0  12000.0\n",
       "2      15.0   6000.0\n",
       "3      20.0   8000.0\n",
       "4      18.0   7200.0\n",
       "..      ...      ...\n",
       "95     26.0  10400.0\n",
       "96     16.0   6400.0\n",
       "97      4.0   1600.0\n",
       "98     24.0   9600.0\n",
       "99     20.0   8000.0\n",
       "\n",
       "[100 rows x 2 columns]"
      ]
     },
     "execution_count": 6,
     "metadata": {},
     "output_type": "execute_result"
    }
   ],
   "source": [
    "tensor_input_df = pd.DataFrame(torch.cat((label_tensor_input, label_tensor_output), dim=1), columns = [input_str, output_str])\n",
    "\n",
    "print('Input Size: ', label_tensor_input.size())\n",
    "print('Output Size: ', label_tensor_output.size(), '\\n')\n",
    "tensor_input_df"
   ]
  },
  {
   "cell_type": "markdown",
   "id": "30c8c6ec-bac1-4d00-83cb-63b178a72be6",
   "metadata": {},
   "source": [
    "### **Definition eines PINN-Problems in PINA**  "
   ]
  },
  {
   "cell_type": "code",
   "execution_count": 7,
   "id": "c2de5194c7f49fbf",
   "metadata": {
    "ExecuteTime": {
     "end_time": "2025-03-12T08:30:31.712233Z",
     "start_time": "2025-03-12T08:30:31.590633Z"
    }
   },
   "outputs": [
    {
     "name": "stdout",
     "output_type": "stream",
     "text": [
      "Input:  ['sigma_t']\n",
      "Output:  ['e_s']\n"
     ]
    }
   ],
   "source": [
    "from pina.problem import AbstractProblem\n",
    "from pina.domain import CartesianDomain\n",
    "from pina import Condition\n",
    "\n",
    "input_conditions = {'data': Condition(input=label_tensor_input, target=label_tensor_output),}\n",
    "\n",
    "class SimpleODE(AbstractProblem):\n",
    "\n",
    "    # Definition der Eingabe- und Ausgabevariablen basierend auf LabelTensor\n",
    "    input_variables = label_tensor_input.labels\n",
    "    output_variables = label_tensor_output.labels\n",
    "\n",
    "    # Wertebereich\n",
    "    domain = CartesianDomain({label_tensor_input: [0, 1]})#, 'delta_epsilon': [0, 1]})  # Wertebereich immer definieren!\n",
    "\n",
    "    # Definition der Randbedingungen und (hier: nur) vorberechnetet Punkte\n",
    "    conditions = input_conditions\n",
    "\n",
    "    label_tensor_output=label_tensor_output\n",
    "\n",
    "    # Methode zur Definition der \"wahren Lösung\" des Problems\n",
    "    def truth_solution(self, pts):\n",
    "        return torch.exp(pts.extract(label_tensor_input))\n",
    "\n",
    "# Problem-Instanz erzeugen\n",
    "problem = SimpleODE()\n",
    "\n",
    "print('Input: ', problem.input_variables)\n",
    "print('Output: ', problem.output_variables)"
   ]
  },
  {
   "cell_type": "markdown",
   "id": "98b78c6b-22bf-4a9a-8d00-be05b47deb71",
   "metadata": {},
   "source": [
    "# Training eines Physics-Informed Neural Networks (PINN) mit PINA"
   ]
  },
  {
   "cell_type": "code",
   "execution_count": 8,
   "id": "aeb7ce50b0b515f4",
   "metadata": {
    "ExecuteTime": {
     "start_time": "2025-03-12T08:30:34.000486Z"
    },
    "jupyter": {
     "is_executing": true
    }
   },
   "outputs": [
    {
     "name": "stderr",
     "output_type": "stream",
     "text": [
      "💡 Tip: For seamless cloud uploads and versioning, try installing [litmodels](https://pypi.org/project/litmodels/) to enable LitModelCheckpoint, which syncs automatically with the Lightning model registry.\n",
      "GPU available: True (cuda), used: False\n",
      "TPU available: False, using: 0 TPU cores\n",
      "HPU available: False, using: 0 HPUs\n",
      "/home/mrschiller/Dokumente/git_projects/nn_oedometer_lstm/venv/lib/python3.12/site-packages/lightning/pytorch/trainer/setup.py: PossibleUserWarning: GPU available but not used. You can set it by doing `Trainer(accelerator='gpu')`.\n",
      "/home/mrschiller/Dokumente/git_projects/nn_oedometer_lstm/venv/lib/python3.12/site-packages/lightning/pytorch/trainer/connectors/logger_connector/logger_connector.py: UserWarning: Starting from v1.9.0, `tensorboardX` has been removed as a dependency of the `lightning.pytorch` package, due to potential conflicts with other packages in the ML ecosystem. For this reason, `logger=True` will use `CSVLogger` as the default logger, unless the `tensorboard` or `tensorboardX` packages are found. Please `pip install lightning[extra]` or one of them to enable TensorBoard support by default\n",
      "/home/mrschiller/Dokumente/git_projects/nn_oedometer_lstm/venv/lib/python3.12/site-packages/lightning/pytorch/trainer/configuration_validator.py: PossibleUserWarning: You defined a `validation_step` but have no `val_dataloader`. Skipping val loop.\n",
      "/home/mrschiller/Dokumente/git_projects/nn_oedometer_lstm/venv/lib/python3.12/site-packages/lightning/pytorch/loops/fit_loop.py: PossibleUserWarning: The number of training batches (7) is smaller than the logging interval Trainer(log_every_n_steps=50). Set a lower value for log_every_n_steps if you want to see logs for the training epoch.\n"
     ]
    },
    {
     "name": "stdout",
     "output_type": "stream",
     "text": [
      "Epoch 999: 100%|█| 7/7 [00:00<00:00, 126.66it/s, v_num=0, data_loss_step=0.446, "
     ]
    },
    {
     "name": "stderr",
     "output_type": "stream",
     "text": [
      "`Trainer.fit` stopped: `max_epochs=1000` reached.\n"
     ]
    },
    {
     "name": "stdout",
     "output_type": "stream",
     "text": [
      "Epoch 999: 100%|█| 7/7 [00:00<00:00, 113.17it/s, v_num=0, data_loss_step=0.446, \n",
      "\n",
      "Finale Loss Werte\n"
     ]
    },
    {
     "data": {
      "text/plain": [
       "{'data_loss_step': tensor(0.4465),\n",
       " 'train_loss_step': tensor(0.4465),\n",
       " 'data_loss_epoch': tensor(0.3878),\n",
       " 'train_loss_epoch': tensor(0.3878)}"
      ]
     },
     "execution_count": 8,
     "metadata": {},
     "output_type": "execute_result"
    }
   ],
   "source": [
    "from pina import Trainer\n",
    "from pina.solver import PINN\n",
    "from pina.model import FeedForward\n",
    "from pina.callback import MetricTracker\n",
    "import torch.nn as nn\n",
    "# Model erstellen\n",
    "model = FeedForward(\n",
    "    layers=[50,50,50],\n",
    "    func=nn.ReLU,\n",
    "    output_dimensions=len(problem.output_variables),\n",
    "    input_dimensions=len(problem.input_variables)\n",
    ")\n",
    "\n",
    "# PINN-Objekt erstellen\n",
    "pinn = PINN(problem, model)\n",
    "\n",
    "# Trainer erstellen mit TensorBoard-Logger\n",
    "trainer = Trainer(\n",
    "    solver=pinn,\n",
    "    max_epochs=1000,\n",
    "    callbacks=[MetricTracker()],\n",
    "    batch_size=16,\n",
    "    accelerator='cpu',\n",
    "    enable_model_summary=False,\n",
    ")\n",
    "\n",
    "\n",
    "# Training starten\n",
    "trainer.train()\n",
    "\n",
    "print('\\nFinale Loss Werte')\n",
    "# Inspect final loss\n",
    "trainer.logged_metrics"
   ]
  },
  {
   "cell_type": "code",
   "execution_count": 9,
   "id": "b45eb32a-d90b-4532-ad50-d46eb598309b",
   "metadata": {},
   "outputs": [
    {
     "data": {
      "image/png": "[encoded data removed]",
      "text/plain": [
       "<Figure size 640x480 with 1 Axes>"
      ]
     },
     "metadata": {},
     "output_type": "display_data"
    }
   ],
   "source": [
    "import matplotlib.pyplot as plt\n",
    "\n",
    "data_loss = trainer.callbacks[0].metrics[\"train_loss_epoch\"].tolist()\n",
    "\n",
    "plt.plot(data_loss, label=\"Loss\")\n",
    "plt.xlabel('Epochs')\n",
    "plt.ylabel('Train Loss')\n",
    "plt.show()"
   ]
  },
  {
   "cell_type": "markdown",
   "id": "9d68de8c-a91f-4a8c-bcd5-3c3bfdd1ad2e",
   "metadata": {},
   "source": [
    "# Plot of stress–strain curve"
   ]
  },
  {
   "cell_type": "code",
   "execution_count": 28,
   "id": "76091b86-4f44-41cc-8b5a-6f9391e888ac",
   "metadata": {},
   "outputs": [
    {
     "name": "stderr",
     "output_type": "stream",
     "text": [
      "<>: SyntaxWarning: invalid escape sequence '\\s'\n",
      "<>: SyntaxWarning: invalid escape sequence '\\s'\n",
      "<>: SyntaxWarning: invalid escape sequence '\\s'\n",
      "<>: SyntaxWarning: invalid escape sequence '\\s'\n",
      "<>: SyntaxWarning: invalid escape sequence '\\e'\n",
      "<>: SyntaxWarning: invalid escape sequence '\\s'\n",
      "<>: SyntaxWarning: invalid escape sequence '\\D'\n",
      "<>: SyntaxWarning: invalid escape sequence '\\s'\n",
      "<>: SyntaxWarning: invalid escape sequence '\\s'\n",
      "<>: SyntaxWarning: invalid escape sequence '\\s'\n",
      "<>: SyntaxWarning: invalid escape sequence '\\s'\n",
      "<>: SyntaxWarning: invalid escape sequence '\\e'\n",
      "<>: SyntaxWarning: invalid escape sequence '\\s'\n",
      "<>: SyntaxWarning: invalid escape sequence '\\D'\n",
      "/tmp/ipykernel_6718/4087567800.py: SyntaxWarning: invalid escape sequence '\\s'\n",
      "/tmp/ipykernel_6718/4087567800.py: SyntaxWarning: invalid escape sequence '\\s'\n",
      "/tmp/ipykernel_6718/4087567800.py: SyntaxWarning: invalid escape sequence '\\s'\n",
      "/tmp/ipykernel_6718/4087567800.py: SyntaxWarning: invalid escape sequence '\\s'\n",
      "/tmp/ipykernel_6718/4087567800.py: SyntaxWarning: invalid escape sequence '\\e'\n",
      "/tmp/ipykernel_6718/4087567800.py: SyntaxWarning: invalid escape sequence '\\s'\n",
      "/tmp/ipykernel_6718/4087567800.py: SyntaxWarning: invalid escape sequence '\\D'\n"
     ]
    },
    {
     "data": {
      "image/png": "[encoded data removed]",
      "text/plain": [
       "<Figure size 640x480 with 1 Axes>"
      ]
     },
     "metadata": {},
     "output_type": "display_data"
    }
   ],
   "source": [
    "def plot_result(iterations=20, start_sigma=1, delta_epsilon=0.0005):\n",
    "    oedo_para = {\n",
    "    'max_n': iterations,\n",
    "    'e_0': 1.0,\n",
    "    'C_c': 0.005,\n",
    "    'delta_epsilon' : delta_epsilon,\n",
    "    'sigma_t' : start_sigma,\n",
    "    }\n",
    "\n",
    "    oedo = Oedometer(**oedo_para)\n",
    "    sigma_true = oedo.sigma_t\n",
    "    e_s_true = oedo.e_s\n",
    "    \n",
    "    # print(sigma_true)\n",
    "    # print(e_s_true)\n",
    "    model.eval()\n",
    "    e_s_pred = []\n",
    "    e_s_true_plot = []\n",
    "    sigma_t = start_sigma\n",
    "    sigma_pred = []\n",
    "    with torch.no_grad():\n",
    "        for i in range(iterations):\n",
    "            sigma_true_tensor = torch.tensor(sigma_true[i], dtype=torch.float).unsqueeze(-1) \n",
    "            pred = model(sigma_true_tensor)\n",
    "            e_s_pred.append(pred * sigma_true[i])\n",
    "            e_s_true_plot.append(e_s_true[i] * sigma_true[i])\n",
    "            sigma_t = sigma_t + pred * delta_epsilon\n",
    "            sigma_pred.append(sigma_t)\n",
    "            \n",
    "    # Plot der Losskurve\n",
    "    plt.scatter(sigma_true, e_s_pred, label='$E_{s,pred}$, $\\sigma_{true}$').set_color(\"red\")\n",
    "    plt.scatter(sigma_pred, e_s_pred, label='$E_{s,pred}$, $\\sigma_{pred}$')\n",
    "    plt.plot(sigma_true, e_s_true_plot, label='$E_{s,true}$, $\\sigma_{true}$')\n",
    "\n",
    "    plt.gca().invert_yaxis()\n",
    "    plt.xlabel('$\\sigma_t$')\n",
    "    plt.ylabel('$\\epsilon$')\n",
    "    plt.title(f'Spannungsdehnungs Verlauf mit $\\sigma_0={start_sigma}$ und $\\Delta\\epsilon=0.0005$')\n",
    "    plt.legend()\n",
    "    plt.show()\n",
    "plot_result()"
   ]
  },
  {
   "cell_type": "code",
   "execution_count": null,
   "id": "9915b527-3276-42d8-a75d-ef11ae0124ff",
   "metadata": {},
   "outputs": [],
   "source": []
  }
 ],
 "metadata": {
  "kernelspec": {
   "display_name": "Python 3 (ipykernel)",
   "language": "python",
   "name": "python3"
  },
  "language_info": {
   "codemirror_mode": {
    "name": "ipython",
    "version": 3
   },
   "file_extension": ".py",
   "mimetype": "text/x-python",
   "name": "python",
   "nbconvert_exporter": "python",
   "pygments_lexer": "ipython3",
   "version": "3.12.11"
  }
 },
 "nbformat": 4,
 "nbformat_minor": 5
}
