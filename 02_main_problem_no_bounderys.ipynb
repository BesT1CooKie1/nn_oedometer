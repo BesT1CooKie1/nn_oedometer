{
 "cells": [
  {
   "cell_type": "markdown",
   "id": "202376a2a307e3c2",
   "metadata": {},
   "source": [
    "# Ödometerversuch Input/Output mit Punkten\n",
    "## Grundlagen\n",
    "In diesem Notebook wird der Ödometerversuch <strong>mit</strong> Randbedingungen betrachtet. Die Daten werden mithilfe der vorgegebenen Formeln in PINA berechnet.<br>\n",
    "Das Problem ist wie folgt definiert:\n",
    "#### Das Problem ist wie folgt definiert:\n",
    "$$\n",
    "\\begin{array}{rcl}\n",
    "    \\sigma_{t+1} & = & \\sigma_{t}+\\Delta\\sigma \\\\ \\\\\n",
    "    \\Delta\\sigma & = & E_s\\cdot \\Delta\\epsilon \\\\ \n",
    "    E_s & = & \\frac{1+e_0}{C_c} \\cdot \\sigma\n",
    "\\end{array}\n",
    "\\hspace{2cm}\n",
    "\\begin{array}{l}\n",
    "    \\textbf{Annahmen:} \\\\ \\\\\n",
    "    \\text{Startwert d. Iteration: } \\sigma_0 = 1,00 \\\\ \n",
    "    \\Delta\\epsilon = 0,0005 \\\\\n",
    "    e_0 = 1,00 \\\\ \n",
    "    C_c = 0,005\n",
    "\\end{array}\n",
    "$$\n",
    "\n",
    "<div = style=\"text-align: center;\">\n",
    "    <img alt=\"Problem Oedometer Preview\" src=\"./files/oedometer/problem_preview.png\" width=\"50%\" height=auto>\n",
    "</div>\n",
    "\n",
    "<br> \n",
    "\n",
    "Um das PINA-Model zu testen werden wir folgende vorberechnete Werte verwenden: `Input` {$\\sigma_t$; $\\Delta\\epsilon$; $E_s$; $e_0$; $C_c$}, `Output` {$\\sigma_{t+1}$}.\n",
    "\n",
    "## Einstellungen"
   ]
  },
  {
   "cell_type": "code",
   "execution_count": 7,
   "id": "e8ab565a-fc02-41df-89e3-9888204d845d",
   "metadata": {},
   "outputs": [
    {
     "data": {
      "application/vnd.jupyter.widget-view+json": {
       "model_id": "46ecf36f8d9a4b95b31601e55a9cc4c7",
       "version_major": 2,
       "version_minor": 0
      },
      "text/plain": [
       "Checkbox(value=True, description='Debug Mode aktivieren')"
      ]
     },
     "metadata": {},
     "output_type": "display_data"
    },
    {
     "data": {
      "application/vnd.jupyter.widget-view+json": {
       "model_id": "882f540b419b4d35a9f8cdbb9cf9792a",
       "version_major": 2,
       "version_minor": 0
      },
      "text/plain": [
       "Checkbox(value=False, description='Daten normalisieren')"
      ]
     },
     "metadata": {},
     "output_type": "display_data"
    }
   ],
   "source": [
    "import ipywidgets as widgets\n",
    "from IPython.display import display\n",
    "\n",
    "# Checkbox erstellen\n",
    "debug_mode = widgets.Checkbox(\n",
    "    value=True,  # Standard: Ausgeschaltet\n",
    "    description=\"Debug Mode aktivieren\",\n",
    "    disabled=False\n",
    ")\n",
    "\n",
    "normalize_data = widgets.Checkbox(\n",
    "    value=False,  # Standard: Ausgeschaltet\n",
    "    description=\"Daten normalisieren\",\n",
    "    disabled=False\n",
    ")\n",
    "\n",
    "# Checkbox anzeigen\n",
    "display(debug_mode)\n",
    "display(normalize_data)\n"
   ]
  },
  {
   "cell_type": "markdown",
   "id": "30c8c6ec-bac1-4d00-83cb-63b178a72be6",
   "metadata": {},
   "source": [
    "## Problemdefinition\n",
    "\n",
    "### Hinweise\n",
    "- Input und Output Werte müssen aus der Excel als Condition übergeben werden.\n",
    "- Auch wenn die `domain` nicht verwendet wird, muss diese definiert sein und darf nicht leer sein! Generell ist dieses Attribut notwendig um den Wertebereich für die Datengenerierung zu bestimmen.\n",
    "  - Siehe Kommentar `problem.discretise_domain`. "
   ]
  },
  {
   "cell_type": "code",
   "execution_count": 17,
   "id": "c2de5194c7f49fbf",
   "metadata": {
    "ExecuteTime": {
     "end_time": "2025-03-12T08:30:31.712233Z",
     "start_time": "2025-03-12T08:30:31.590633Z"
    }
   },
   "outputs": [
    {
     "name": "stdout",
     "output_type": "stream",
     "text": [
      "Geladene Input Variablen:  ['sigma_t', 'C_c', 'delta_epsilon', 'e_0']\n",
      "Geladene Output Variablen:  ['sigma_t_p1']\n",
      "Input points: {'fix_e_0': LabelTensor([[[0.]]]), 'fix_C_c': LabelTensor([[[0.]]]), 'fix_delta_epsilon': LabelTensor([[[0.]]]), 'data_sigma_t_p1': LabelTensor([[[0.0301]],\n",
      "             [[0.2496]],\n",
      "             [[0.8264]],\n",
      "             [[0.4011]],\n",
      "             [[0.3892]],\n",
      "             [[0.7895]],\n",
      "             [[0.3216]],\n",
      "             [[0.7588]],\n",
      "             [[0.7048]],\n",
      "             [[0.0802]],\n",
      "             [[0.1189]],\n",
      "             [[0.7084]],\n",
      "             [[0.2564]],\n",
      "             [[0.1389]],\n",
      "             [[0.5334]],\n",
      "             [[0.1421]],\n",
      "             [[0.1614]],\n",
      "             [[0.3667]],\n",
      "             [[0.6571]],\n",
      "             [[0.1773]],\n",
      "             [[0.6628]],\n",
      "             [[0.0531]],\n",
      "             [[0.6288]],\n",
      "             [[0.5903]],\n",
      "             [[0.8231]],\n",
      "             [[0.6918]],\n",
      "             [[0.8396]],\n",
      "             [[0.7127]],\n",
      "             [[0.3954]],\n",
      "             [[0.8481]],\n",
      "             [[0.6570]],\n",
      "             [[0.8896]],\n",
      "             [[0.1525]],\n",
      "             [[0.7364]],\n",
      "             [[0.3789]],\n",
      "             [[0.8927]],\n",
      "             [[0.3903]],\n",
      "             [[0.0371]],\n",
      "             [[0.9074]],\n",
      "             [[0.4413]],\n",
      "             [[0.5654]],\n",
      "             [[0.0704]],\n",
      "             [[0.1415]],\n",
      "             [[0.8364]],\n",
      "             [[0.1813]],\n",
      "             [[0.7190]],\n",
      "             [[0.1592]],\n",
      "             [[0.6490]],\n",
      "             [[0.2394]],\n",
      "             [[0.0344]]])}\n"
     ]
    }
   ],
   "source": [
    "from pina.problem import AbstractProblem\n",
    "from pina.geometry import CartesianDomain\n",
    "from pina.equation import Equation, FixedValue\n",
    "from pina import Condition\n",
    "class SimpleODE(AbstractProblem):\n",
    "\n",
    "    # Definition der Eingabe- und Ausgabevariablen basierend auf LabelTensor\n",
    "    input_variables = ['sigma_t', 'C_c', 'delta_epsilon', 'e_0']\n",
    "    output_variables = ['sigma_t_p1']\n",
    "\n",
    "    # Wertebereich\n",
    "    # Fix values [delta_epsilon, e_0, C_c]\n",
    "    domain = CartesianDomain({'e_0': [0, 1], 'C_c' : [0, 1], 'sigma_t': [1, 1], 'delta_epsilon' : [0, 1]})  # Wertebereich immer definieren!\n",
    "\n",
    "    def calc_sigma_t_p1(input_, output_):      \n",
    "        \n",
    "        def elastity():\n",
    "            e_0 = input_.extract(['e_0'])\n",
    "            C_c = input_.extract(['C_c'])\n",
    "            sigma_t = input_extract(['sigma_t'])\n",
    "            return (1 + e_0) / C_c * sigma_t\n",
    "    \n",
    "        def additional_stress():\n",
    "            return elastity() * input_.extract(['delta_epsilon'])      \n",
    "\n",
    "        return input_extract(['sigma_t']) + additional_stress()\n",
    "\n",
    "        \n",
    "    \n",
    "    # Definition der Randbedingungen und vorberechnetet Punkte\n",
    "    conditions = {\n",
    "        # We fix initial condition to value 1\n",
    "        'fix_e_0': Condition(location=CartesianDomain({'e_0': 0.}), equation=FixedValue(1.)),\n",
    "        'fix_C_c': Condition(location=CartesianDomain({'C_c': 0.}), equation=FixedValue(0.005)),\n",
    "        'fix_delta_epsilon': Condition(location=CartesianDomain({'delta_epsilon': 0.}), equation=FixedValue(0.0005)),\n",
    "        'fix_start_sigma': Condition(location=CartesianDomain({'sigma_t': 0.}), equation=FixedValue(1.)),\n",
    "        # We wrap the python equation using Equation\n",
    "        'data_sigma_t_p1': Condition(location=CartesianDomain({'e_0': [0,1], 'C_c': [0,1], 'sigma_t': [0,1], 'delta_epsilon': [0, 1]}), equation=Equation(calc_sigma_t_p1)), \n",
    "    }\n",
    "\n",
    "    # Methode zur Definition der \"wahren Lösung\" des Problems\n",
    "    def truth_solution(self, pts):\n",
    "        return torch.exp(pts.extract(['sigma_0']))\n",
    "\n",
    "# Problem-Instanz erzeugen\n",
    "problem = SimpleODE()\n",
    "\n",
    "# Datengenerierung, falls Randbedingungen definiert\n",
    "problem.discretise_domain(1, 'random', locations=['fix_e_0'])\n",
    "problem.discretise_domain(1, 'random', locations=['fix_C_c'])\n",
    "problem.discretise_domain(1, 'random', locations=['fix_delta_epsilon'])\n",
    "problem.discretise_domain(n=50, mode='random', variables=['sigma_t'], locations=['data_sigma_t_p1'])\n",
    "\n",
    "if debug_mode.value:\n",
    "    # Debugging-Ausgaben\n",
    "    print(\"Geladene Input Variablen: \", problem.input_variables)\n",
    "    print(\"Geladene Output Variablen: \", problem.output_variables)\n",
    "    print('Input points:', problem.input_pts)"
   ]
  },
  {
   "cell_type": "markdown",
   "id": "b017454f5732f1b5",
   "metadata": {},
   "source": [
    "## Visualisierung Sampling\n",
    "Darstellung Input: `sigma_0` und `delta_epsilon`"
   ]
  },
  {
   "cell_type": "code",
   "execution_count": 16,
   "id": "8177115081d371bf",
   "metadata": {
    "ExecuteTime": {
     "end_time": "2025-03-12T08:30:33.410973Z",
     "start_time": "2025-03-12T08:30:32.818773Z"
    }
   },
   "outputs": [
    {
     "ename": "ValueError",
     "evalue": "`delta_epsilon` not in the labels list",
     "output_type": "error",
     "traceback": [
      "\u001b[31m---------------------------------------------------------------------------\u001b[39m",
      "\u001b[31mValueError\u001b[39m                                Traceback (most recent call last)",
      "\u001b[36mFile \u001b[39m\u001b[32m~\\Documents\\00_Tim\\01_Implementierung\\pina_oedometer\\venv\\Lib\\site-packages\\pina\\label_tensor.py:213\u001b[39m, in \u001b[36mLabelTensor.extract\u001b[39m\u001b[34m(self, label_to_extract)\u001b[39m\n\u001b[32m    212\u001b[39m \u001b[38;5;28;01mtry\u001b[39;00m:\n\u001b[32m--> \u001b[39m\u001b[32m213\u001b[39m     indeces.append(\u001b[38;5;28;43mself\u001b[39;49m\u001b[43m.\u001b[49m\u001b[43mlabels\u001b[49m\u001b[43m.\u001b[49m\u001b[43mindex\u001b[49m\u001b[43m(\u001b[49m\u001b[43mf\u001b[49m\u001b[43m)\u001b[49m)\n\u001b[32m    214\u001b[39m \u001b[38;5;28;01mexcept\u001b[39;00m \u001b[38;5;167;01mValueError\u001b[39;00m:\n",
      "\u001b[31mValueError\u001b[39m: 'delta_epsilon' is not in list",
      "\nDuring handling of the above exception, another exception occurred:\n",
      "\u001b[31mValueError\u001b[39m                                Traceback (most recent call last)",
      "\u001b[36mCell\u001b[39m\u001b[36m \u001b[39m\u001b[32mIn[16]\u001b[39m\u001b[32m, line 4\u001b[39m\n\u001b[32m      1\u001b[39m \u001b[38;5;28;01mfrom\u001b[39;00m\u001b[38;5;250m \u001b[39m\u001b[34;01mpina\u001b[39;00m\u001b[38;5;250m \u001b[39m\u001b[38;5;28;01mimport\u001b[39;00m Plotter\n\u001b[32m      3\u001b[39m pl = Plotter()\n\u001b[32m----> \u001b[39m\u001b[32m4\u001b[39m \u001b[43mpl\u001b[49m\u001b[43m.\u001b[49m\u001b[43mplot_samples\u001b[49m\u001b[43m(\u001b[49m\u001b[43mproblem\u001b[49m\u001b[43m=\u001b[49m\u001b[43mproblem\u001b[49m\u001b[43m,\u001b[49m\u001b[43m \u001b[49m\u001b[43mvariables\u001b[49m\u001b[43m=\u001b[49m\u001b[43m[\u001b[49m\u001b[33;43m'\u001b[39;49m\u001b[33;43mdelta_epsilon\u001b[39;49m\u001b[33;43m'\u001b[39;49m\u001b[43m,\u001b[49m\u001b[33;43m'\u001b[39;49m\u001b[33;43msigma_0\u001b[39;49m\u001b[33;43m'\u001b[39;49m\u001b[43m]\u001b[49m\u001b[43m)\u001b[49m\n",
      "\u001b[36mFile \u001b[39m\u001b[32m~\\Documents\\00_Tim\\01_Implementierung\\pina_oedometer\\venv\\Lib\\site-packages\\pina\\plotter.py:51\u001b[39m, in \u001b[36mPlotter.plot_samples\u001b[39m\u001b[34m(self, problem, variables, filename, **kwargs)\u001b[39m\n\u001b[32m     49\u001b[39m ax = fig.add_subplot(projection=proj)\n\u001b[32m     50\u001b[39m \u001b[38;5;28;01mfor\u001b[39;00m location \u001b[38;5;129;01min\u001b[39;00m problem.input_pts:\n\u001b[32m---> \u001b[39m\u001b[32m51\u001b[39m     coords = \u001b[43mproblem\u001b[49m\u001b[43m.\u001b[49m\u001b[43minput_pts\u001b[49m\u001b[43m[\u001b[49m\u001b[43mlocation\u001b[49m\u001b[43m]\u001b[49m\u001b[43m.\u001b[49m\u001b[43mextract\u001b[49m\u001b[43m(\u001b[49m\u001b[43mvariables\u001b[49m\u001b[43m)\u001b[49m.T.detach()\n\u001b[32m     52\u001b[39m     \u001b[38;5;28;01mif\u001b[39;00m \u001b[38;5;28mlen\u001b[39m(variables) == \u001b[32m1\u001b[39m:  \u001b[38;5;66;03m# 1D samples\u001b[39;00m\n\u001b[32m     53\u001b[39m         ax.plot(\n\u001b[32m     54\u001b[39m             coords.flatten(),\n\u001b[32m     55\u001b[39m             torch.zeros(coords.flatten().shape),\n\u001b[32m   (...)\u001b[39m\u001b[32m     58\u001b[39m             **kwargs,\n\u001b[32m     59\u001b[39m         )\n",
      "\u001b[36mFile \u001b[39m\u001b[32m~\\Documents\\00_Tim\\01_Implementierung\\pina_oedometer\\venv\\Lib\\site-packages\\pina\\label_tensor.py:215\u001b[39m, in \u001b[36mLabelTensor.extract\u001b[39m\u001b[34m(self, label_to_extract)\u001b[39m\n\u001b[32m    213\u001b[39m         indeces.append(\u001b[38;5;28mself\u001b[39m.labels.index(f))\n\u001b[32m    214\u001b[39m     \u001b[38;5;28;01mexcept\u001b[39;00m \u001b[38;5;167;01mValueError\u001b[39;00m:\n\u001b[32m--> \u001b[39m\u001b[32m215\u001b[39m         \u001b[38;5;28;01mraise\u001b[39;00m \u001b[38;5;167;01mValueError\u001b[39;00m(\u001b[33mf\u001b[39m\u001b[33m\"\u001b[39m\u001b[33m`\u001b[39m\u001b[38;5;132;01m{\u001b[39;00mf\u001b[38;5;132;01m}\u001b[39;00m\u001b[33m` not in the labels list\u001b[39m\u001b[33m\"\u001b[39m)\n\u001b[32m    217\u001b[39m new_data = \u001b[38;5;28msuper\u001b[39m(Tensor, \u001b[38;5;28mself\u001b[39m.T).\u001b[34m__getitem__\u001b[39m(indeces).T\n\u001b[32m    218\u001b[39m new_labels = [\u001b[38;5;28mself\u001b[39m.labels[idx] \u001b[38;5;28;01mfor\u001b[39;00m idx \u001b[38;5;129;01min\u001b[39;00m indeces]\n",
      "\u001b[31mValueError\u001b[39m: `delta_epsilon` not in the labels list"
     ]
    },
    {
     "data": {
      "image/png": "[encoded data removed]",
      "text/plain": [
       "<Figure size 640x480 with 1 Axes>"
      ]
     },
     "metadata": {},
     "output_type": "display_data"
    }
   ],
   "source": [
    "from pina import Plotter\n",
    "\n",
    "pl = Plotter()\n",
    "pl.plot_samples(problem=problem, variables=['delta_epsilon','sigma_0'])"
   ]
  },
  {
   "cell_type": "code",
   "execution_count": null,
   "id": "aeb7ce50b0b515f4",
   "metadata": {
    "ExecuteTime": {
     "start_time": "2025-03-12T08:30:34.000486Z"
    },
    "jupyter": {
     "is_executing": true
    }
   },
   "outputs": [],
   "source": [
    "from pina import Trainer\n",
    "from pina.solvers import PINN\n",
    "from pina.model import FeedForward\n",
    "from pina.callbacks import MetricTracker\n",
    "import torch\n",
    "from pytorch_lightning.loggers import TensorBoardLogger  # Import TensorBoard Logger\n",
    "\n",
    "# Überprüfen der Größe der Eingabepunkte und Ausgabepunkte\n",
    "print(\"Länge der Eingabepunkte (input_pts):\", len(problem.input_pts['data']))\n",
    "print(\"Länge der Ausgabepunkte (output_pts):\", len(problem.output_pts))\n",
    "\n",
    "# Model erstellen\n",
    "model = FeedForward(\n",
    "    layers=[50, 50, 50],\n",
    "    func=torch.nn.ReLU,\n",
    "    output_dimensions=len(problem.output_variables),\n",
    "    input_dimensions=len(problem.input_variables)\n",
    ")\n",
    "\n",
    "# PINN-Objekt erstellen\n",
    "pinn = PINN(problem, model)\n",
    "\n",
    "# TensorBoard-Logger einrichten\n",
    "logger = TensorBoardLogger(\"tensorboard_logs\", name=\"pina_experiment\")\n",
    "\n",
    "# Trainer erstellen mit TensorBoard-Logger\n",
    "trainer = Trainer(\n",
    "    solver=pinn,\n",
    "    max_epochs=200,\n",
    "    callbacks=[MetricTracker()],\n",
    "    batch_size=1,\n",
    "    accelerator='cpu',\n",
    "    logger=logger,\n",
    "    enable_model_summary=False,\n",
    ")\n",
    "\n",
    "\n",
    "# Training starten\n",
    "trainer.train()\n",
    "\n",
    "# Inspect final loss\n",
    "trainer.logged_metrics\n"
   ]
  },
  {
   "cell_type": "code",
   "execution_count": null,
   "id": "de070fe2-16f3-40f1-8602-36aebfb3818a",
   "metadata": {},
   "outputs": [],
   "source": [
    "import matplotlib.pyplot as plt\n",
    "import torch\n",
    "\n",
    "# Erstelle die Eingabedaten als LabelTensor für das trainierte Modell\n",
    "input_data = LabelTensor(torch.tensor(\n",
    "    np.column_stack((data_dict['sigma_0'], data_dict['delta_epsilon'])), dtype=torch.float\n",
    "), ['sigma_0', 'delta_epsilon'])\n",
    "\n",
    "# Model-Vorhersage für sigma_1 berechnen\n",
    "sigma_1_pred = pinn(input_data).detach().numpy()\n",
    "\n",
    "# Plot der wahren vs. vorhergesagten Werte\n",
    "plt.figure(figsize=(8, 5))\n",
    "\n",
    "plt.plot(data_dict['sigma_0'], data_dict['sigma_1'], label=\"True Solution (sigma_1)\", linestyle='dashed', color='blue')\n",
    "plt.plot(data_dict['sigma_0'], sigma_1_pred, label=\"NN Prediction (sigma_1)\", linestyle='solid', color='red')\n",
    "\n",
    "plt.xlabel(\"sigma_0\")\n",
    "plt.ylabel(\"sigma_1\")\n",
    "plt.title(\"Prediction vs. True Solution (delta_epsilon=0.0005)\")\n",
    "plt.legend()\n",
    "plt.grid()\n",
    "plt.show()\n"
   ]
  },
  {
   "cell_type": "code",
   "execution_count": null,
   "id": "367434e3c1076341",
   "metadata": {
    "ExecuteTime": {
     "end_time": "2025-03-12T08:26:45.282465Z",
     "start_time": "2025-03-12T08:26:44.026059Z"
    }
   },
   "outputs": [],
   "source": [
    "pl.plot(solver=pinn)"
   ]
  },
  {
   "cell_type": "markdown",
   "id": "f875cc14cf077767",
   "metadata": {},
   "source": [
    "## Visualisierung Loss-Kurve\n"
   ]
  },
  {
   "cell_type": "code",
   "execution_count": null,
   "id": "2cc792fe16f92e4b",
   "metadata": {
    "ExecuteTime": {
     "end_time": "2025-03-12T08:21:28.768753Z",
     "start_time": "2025-03-12T08:21:26.295329Z"
    }
   },
   "outputs": [],
   "source": [
    "# plotting the solution\n",
    "pl.plot_loss(trainer, label='mean_loss', logy=True)"
   ]
  },
  {
   "cell_type": "code",
   "execution_count": null,
   "id": "c7c1202a-1ca4-4f0b-90ee-cb0c8d7c252d",
   "metadata": {},
   "outputs": [],
   "source": []
  }
 ],
 "metadata": {
  "kernelspec": {
   "display_name": "Python (venv)",
   "language": "python",
   "name": "venv"
  },
  "language_info": {
   "codemirror_mode": {
    "name": "ipython",
    "version": 3
   },
   "file_extension": ".py",
   "mimetype": "text/x-python",
   "name": "python",
   "nbconvert_exporter": "python",
   "pygments_lexer": "ipython3",
   "version": "3.12.9"
  }
 },
 "nbformat": 4,
 "nbformat_minor": 5
}
