{
 "cells": [
  {
   "cell_type": "markdown",
   "id": "264fe172-f439-4b13-bcab-81502136be48",
   "metadata": {},
   "source": [
    "# Import and global variables"
   ]
  },
  {
   "cell_type": "code",
   "execution_count": 2,
   "id": "eceabc72-4feb-4f33-a43b-4c7b14297a69",
   "metadata": {},
   "outputs": [],
   "source": [
    "import matplotlib.pyplot as plt\n",
    "\n",
    "input_pts_label = \"sigma_t\"\n",
    "output_pts_label = \"e_s\"\n",
    "delta_epsilon=0.0005"
   ]
  },
  {
   "cell_type": "markdown",
   "id": "40e56ab4-38b1-41a4-9bb1-4f3bc7662578",
   "metadata": {},
   "source": [
    "# Problem definition"
   ]
  },
  {
   "cell_type": "code",
   "execution_count": 3,
   "id": "7b235bd1-39ff-4ebe-b819-6d8ed52d1895",
   "metadata": {},
   "outputs": [],
   "source": [
    "import random\n",
    "\n",
    "class Oedometer:\n",
    "    def __init__(self, e_0: float = 1.00, C_c: float = 0.005, delta_epsilon: float = 0.0005,\n",
    "                 sigma_t: float = 1.00, max_n: int = 50, rand_epsilon:bool=False, **kwargs):\n",
    "        self.max_n = max_n\n",
    "\n",
    "        # Standardwerte als Listen setzen\n",
    "        self.e_0 = [e_0]\n",
    "        self.C_c = [C_c]\n",
    "        self.sigma_t = [sigma_t]\n",
    "        self.delta_epsilon = []\n",
    "        self.total_epsilon = [0]\n",
    "\n",
    "        # Initiale Listen für Berechnungen\n",
    "        self.sigma_t = [sigma_t]\n",
    "        self.delta_sigma = []\n",
    "        self.e_s = []\n",
    "        self.delta_epsilon = [delta_epsilon]\n",
    "\n",
    "        # Dynamische Zuweisung von kwargs, falls vorhanden\n",
    "        for key, value in kwargs.items():\n",
    "            if hasattr(self, key):  # Nur vorhandene Attribute setzen\n",
    "                setattr(self, key, [value])\n",
    "\n",
    "        # Berechnungen durchführen\n",
    "        self.__calc_sigma_t_p1()\n",
    "\n",
    "        # Listenlängen anpassen\n",
    "        self.__adjust_list_lengths()\n",
    "        self.__calc_total_epsilon()\n",
    "\n",
    "    def __adjust_list_lengths(self):\n",
    "        \"\"\" Passt ALLE Listen-Attribute an `max_n` an. \"\"\"\n",
    "        attributes = ['e_0', 'C_c', 'delta_epsilon', 'sigma_t', 'sigma_t', 'delta_sigma', 'e_s']\n",
    "        for attr in attributes:\n",
    "            value_list = getattr(self, attr, [])\n",
    "            current_length = len(value_list)\n",
    "\n",
    "            if current_length > self.max_n:\n",
    "                setattr(self, attr, value_list[:self.max_n])  # Kürzen\n",
    "            elif current_length < self.max_n:\n",
    "                setattr(self, attr, value_list + [value_list[-1] if value_list else 0] * (self.max_n - current_length))  # Auffüllen\n",
    "\n",
    "    def __calc_total_epsilon(self):\n",
    "        for i in range(len(self.delta_epsilon)-1):\n",
    "            self.total_epsilon.append(self.total_epsilon[i] + self.delta_epsilon[i])\n",
    "\n",
    "    def __calc_e_s(self, sigma_t):\n",
    "        \"\"\" Berechnet `e_s` aus `sigma_t`. \"\"\"\n",
    "        e_s = (1 + self.e_0[0]) / self.C_c[0] * sigma_t\n",
    "        self.e_s.append(e_s)\n",
    "        return e_s\n",
    "\n",
    "    def __calc_sigma_t_p1(self):\n",
    "        \"\"\" Berechnet `sigma_t` und `delta_sigma` für die nächsten Schritte. \"\"\"\n",
    "        for i in range(self.max_n):  # -1, weil sigma_t bereits gesetzt ist\n",
    "            e_s = self.__calc_e_s(self.sigma_t[i])\n",
    "            delta_sigma = e_s * self.delta_epsilon[0]\n",
    "            sigma = self.sigma_t[i] + delta_sigma\n",
    "            self.sigma_t.append(sigma)\n",
    "            self.delta_sigma.append(delta_sigma)"
   ]
  },
  {
   "cell_type": "markdown",
   "id": "13b26b83-3c36-4097-a772-773e737fa8ee",
   "metadata": {},
   "source": [
    "# Generate random trainingsdata"
   ]
  },
  {
   "cell_type": "code",
   "execution_count": 4,
   "id": "7717f27f-02b2-4dec-9483-21bdf8ae74cd",
   "metadata": {},
   "outputs": [],
   "source": [
    "from random import randint\n",
    "\n",
    "oedo_para = {\n",
    "    'max_n': 100,\n",
    "    'e_0': 1.0,\n",
    "    'C_c': 0.005,\n",
    "    'delta_epsilon' : delta_epsilon,\n",
    "}\n",
    "list_output = []\n",
    "list_input = []\n",
    "n = oedo_para['max_n']\n",
    "oedo_para['max_n'] = 1\n",
    "for i in range(n):\n",
    "    oedo_para['sigma_t'] = randint(1,50)\n",
    "    oedo_output = Oedometer(**oedo_para)\n",
    "    list_output.append(oedo_output.e_s[0])\n",
    "    list_input.append(oedo_output.sigma_t[0])"
   ]
  },
  {
   "cell_type": "markdown",
   "id": "7a7a9e84-c70a-4eee-995f-b7fc3a50366a",
   "metadata": {},
   "source": [
    "# Show trainingsdata"
   ]
  },
  {
   "cell_type": "code",
   "execution_count": 5,
   "id": "5f31c502-6c2a-44a0-965f-a64951a6bde2",
   "metadata": {},
   "outputs": [
    {
     "data": {
      "text/html": [
       "<div>\n",
       "<style scoped>\n",
       "    .dataframe tbody tr th:only-of-type {\n",
       "        vertical-align: middle;\n",
       "    }\n",
       "\n",
       "    .dataframe tbody tr th {\n",
       "        vertical-align: top;\n",
       "    }\n",
       "\n",
       "    .dataframe thead th {\n",
       "        text-align: right;\n",
       "    }\n",
       "</style>\n",
       "<table border=\"1\" class=\"dataframe\">\n",
       "  <thead>\n",
       "    <tr style=\"text-align: right;\">\n",
       "      <th></th>\n",
       "      <th>0</th>\n",
       "      <th>1</th>\n",
       "      <th>2</th>\n",
       "      <th>3</th>\n",
       "      <th>4</th>\n",
       "      <th>5</th>\n",
       "      <th>6</th>\n",
       "      <th>7</th>\n",
       "      <th>8</th>\n",
       "      <th>9</th>\n",
       "      <th>...</th>\n",
       "      <th>90</th>\n",
       "      <th>91</th>\n",
       "      <th>92</th>\n",
       "      <th>93</th>\n",
       "      <th>94</th>\n",
       "      <th>95</th>\n",
       "      <th>96</th>\n",
       "      <th>97</th>\n",
       "      <th>98</th>\n",
       "      <th>99</th>\n",
       "    </tr>\n",
       "  </thead>\n",
       "  <tbody>\n",
       "    <tr>\n",
       "      <th>0</th>\n",
       "      <td>25.0</td>\n",
       "      <td>47.0</td>\n",
       "      <td>1.0</td>\n",
       "      <td>3.0</td>\n",
       "      <td>6.0</td>\n",
       "      <td>36.0</td>\n",
       "      <td>37.0</td>\n",
       "      <td>15.0</td>\n",
       "      <td>37.0</td>\n",
       "      <td>6.0</td>\n",
       "      <td>...</td>\n",
       "      <td>34.0</td>\n",
       "      <td>45.0</td>\n",
       "      <td>37.0</td>\n",
       "      <td>12.0</td>\n",
       "      <td>13.0</td>\n",
       "      <td>11.0</td>\n",
       "      <td>34.0</td>\n",
       "      <td>2.0</td>\n",
       "      <td>15.0</td>\n",
       "      <td>46.0</td>\n",
       "    </tr>\n",
       "    <tr>\n",
       "      <th>1</th>\n",
       "      <td>10000.0</td>\n",
       "      <td>18800.0</td>\n",
       "      <td>400.0</td>\n",
       "      <td>1200.0</td>\n",
       "      <td>2400.0</td>\n",
       "      <td>14400.0</td>\n",
       "      <td>14800.0</td>\n",
       "      <td>6000.0</td>\n",
       "      <td>14800.0</td>\n",
       "      <td>2400.0</td>\n",
       "      <td>...</td>\n",
       "      <td>13600.0</td>\n",
       "      <td>18000.0</td>\n",
       "      <td>14800.0</td>\n",
       "      <td>4800.0</td>\n",
       "      <td>5200.0</td>\n",
       "      <td>4400.0</td>\n",
       "      <td>13600.0</td>\n",
       "      <td>800.0</td>\n",
       "      <td>6000.0</td>\n",
       "      <td>18400.0</td>\n",
       "    </tr>\n",
       "  </tbody>\n",
       "</table>\n",
       "<p>2 rows × 100 columns</p>\n",
       "</div>"
      ],
      "text/plain": [
       "        0        1      2       3       4        5        6       7        8   \\\n",
       "0     25.0     47.0    1.0     3.0     6.0     36.0     37.0    15.0     37.0   \n",
       "1  10000.0  18800.0  400.0  1200.0  2400.0  14400.0  14800.0  6000.0  14800.0   \n",
       "\n",
       "       9   ...       90       91       92      93      94      95       96  \\\n",
       "0     6.0  ...     34.0     45.0     37.0    12.0    13.0    11.0     34.0   \n",
       "1  2400.0  ...  13600.0  18000.0  14800.0  4800.0  5200.0  4400.0  13600.0   \n",
       "\n",
       "      97      98       99  \n",
       "0    2.0    15.0     46.0  \n",
       "1  800.0  6000.0  18400.0  \n",
       "\n",
       "[2 rows x 100 columns]"
      ]
     },
     "execution_count": 5,
     "metadata": {},
     "output_type": "execute_result"
    }
   ],
   "source": [
    "import pandas as pd\n",
    "from pandas import DataFrame\n",
    "\n",
    "pd.DataFrame([list_input, list_output])"
   ]
  },
  {
   "cell_type": "markdown",
   "id": "0e341f22-dcb6-4cc4-aefe-20626a6550e0",
   "metadata": {},
   "source": [
    "# Convert list to tensor"
   ]
  },
  {
   "cell_type": "code",
   "execution_count": 6,
   "id": "dace0de3-cf3f-4c1b-9a4c-e65f76ba5424",
   "metadata": {},
   "outputs": [],
   "source": [
    "from torch import tensor\n",
    "import torch\n",
    "\n",
    "sigma_t_tensor = torch.tensor(list_input, dtype=torch.float).unsqueeze(-1)\n",
    "e_s_tensor = torch.tensor(list_output, dtype=torch.float).unsqueeze(-1)"
   ]
  },
  {
   "cell_type": "markdown",
   "id": "d654e274-693b-4421-a96b-15e63d4944da",
   "metadata": {},
   "source": [
    "# Einfaches Feedforward-Netz"
   ]
  },
  {
   "cell_type": "markdown",
   "id": "e2731ce5-ce2a-4736-8c76-ef4b2d026425",
   "metadata": {},
   "source": [
    "# Define SimpleRegressor Model"
   ]
  },
  {
   "cell_type": "code",
   "execution_count": 7,
   "id": "72bd6fd0-9fb6-43a1-81b4-02a12102da6e",
   "metadata": {},
   "outputs": [],
   "source": [
    "import torch\n",
    "import torch.nn as nn\n",
    "import torch.optim as optim\n",
    "import matplotlib.pyplot as plt\n",
    "\n",
    "class SimpleRegressor(nn.Module):\n",
    "    def __init__(self):\n",
    "        super(SimpleRegressor, self).__init__()\n",
    "        self.model = nn.Sequential(\n",
    "            nn.Linear(1, 16),\n",
    "            nn.ReLU(),\n",
    "            nn.Linear(16, 16),\n",
    "            nn.ReLU(),\n",
    "            nn.Linear(16, 1)\n",
    "        )\n",
    "\n",
    "    def forward(self, x):\n",
    "        return self.model(x)\n",
    "\n",
    "model = SimpleRegressor()"
   ]
  },
  {
   "cell_type": "markdown",
   "id": "2f3eb6e7-a76f-4f1f-9df3-c3d1a500b181",
   "metadata": {},
   "source": [
    "# Training"
   ]
  },
  {
   "cell_type": "code",
   "execution_count": null,
   "id": "3ae2b132-a2fc-4653-bf5e-fc09ac2d2954",
   "metadata": {},
   "outputs": [],
   "source": [
    "loss_fn = nn.MSELoss()\n",
    "optimizer = optim.Adam(model.parameters(), lr=0.01)\n",
    "\n",
    "epochs = 5000\n",
    "loss_history = []\n",
    "for epoch in range(epochs):\n",
    "    model.train()\n",
    "    optimizer.zero_grad()\n",
    "    pred = model(sigma_t_tensor)\n",
    "    loss = loss_fn(pred, e_s_tensor)\n",
    "    loss.backward()\n",
    "    loss_history.append(loss.item())\n",
    "    optimizer.step()\n",
    "\n",
    "    if epoch % 100 == 0:\n",
    "        print(f\"Epoch {epoch}: Loss = {loss.item():.6f}\")"
   ]
  },
  {
   "cell_type": "markdown",
   "id": "c931e624-e472-4885-b82d-8699ea4393a4",
   "metadata": {},
   "source": [
    "# Loss function"
   ]
  },
  {
   "cell_type": "code",
   "execution_count": null,
   "id": "c2db9924-e24e-45ad-9e6e-e61fbef2ad3e",
   "metadata": {},
   "outputs": [],
   "source": [
    "plt.plot(loss_history, label=\"Loss\")\n",
    "plt.show()"
   ]
  },
  {
   "cell_type": "code",
   "execution_count": null,
   "id": "ef8f1424-5f85-47c5-be60-aa8dcf276fee",
   "metadata": {},
   "outputs": [],
   "source": [
    "pred_input = torch.tensor([1.0], dtype=torch.float).unsqueeze(-1) \n",
    "\n",
    "model.eval()\n",
    "with torch.no_grad():\n",
    "    pred = model(pred_input)\n",
    "\n",
    "print(pred)"
   ]
  },
  {
   "cell_type": "markdown",
   "id": "b2dc29c1-fba8-4f16-bc64-dcf0d1c0343d",
   "metadata": {},
   "source": [
    "# Plot of stress–strain curve"
   ]
  },
  {
   "cell_type": "code",
   "execution_count": null,
   "id": "9767526b-a592-4c2f-9234-16fc25a8fb41",
   "metadata": {},
   "outputs": [],
   "source": [
    "def plot_result(iterations=20, start_sigma=1, delta_epsilon=0.0005):\n",
    "    oedo_para = {\n",
    "    'max_n': iterations,\n",
    "    'e_0': 1.0,\n",
    "    'C_c': 0.005,\n",
    "    'delta_epsilon' : delta_epsilon,\n",
    "    'sigma_t' : start_sigma,\n",
    "    }\n",
    "\n",
    "    oedo = Oedometer(**oedo_para)\n",
    "    sigma_true = oedo.sigma_t\n",
    "    e_s_true = oedo.e_s\n",
    "    \n",
    "    # print(sigma_true)\n",
    "    # print(e_s_true)\n",
    "    model.eval()\n",
    "    e_s_pred = []\n",
    "    e_s_true_plot = []\n",
    "    sigma_t = start_sigma\n",
    "    sigma_pred = []\n",
    "    with torch.no_grad():\n",
    "        for i in range(iterations):\n",
    "            sigma_true_tensor = torch.tensor(sigma_true[i], dtype=torch.float).unsqueeze(-1) \n",
    "            pred = model(sigma_true_tensor)\n",
    "            e_s_pred.append(pred * sigma_true[i])\n",
    "            e_s_true_plot.append(e_s_true[i] * sigma_true[i])\n",
    "\n",
    "            sigma_t = sigma_t + pred * delta_epsilon\n",
    "            sigma_pred.append(sigma_t)\n",
    "    # Plot der Losskurve\n",
    "    plt.scatter(sigma_true, e_s_pred, label='E_s_pred-sigma_true').set_color(\"red\")\n",
    "    plt.scatter(sigma_pred, e_s_pred, label='E_s_pred-sigma_pred')\n",
    "    plt.plot(sigma_true, e_s_true_plot, label='E_s_true')\n",
    "\n",
    "    plt.gca().invert_yaxis()\n",
    "    plt.xlabel('Sigma_t')\n",
    "    plt.ylabel('Epsilon')\n",
    "    plt.title('True Simga mit Pred E_s')\n",
    "    plt.legend()\n",
    "    plt.show()\n",
    "    \n",
    "plot_result()"
   ]
  }
 ],
 "metadata": {
  "kernelspec": {
   "display_name": "Python (venv)",
   "language": "python",
   "name": "venv"
  },
  "language_info": {
   "codemirror_mode": {
    "name": "ipython",
    "version": 3
   },
   "file_extension": ".py",
   "mimetype": "text/x-python",
   "name": "python",
   "nbconvert_exporter": "python",
   "pygments_lexer": "ipython3",
   "version": "3.12.9"
  }
 },
 "nbformat": 4,
 "nbformat_minor": 5
}
