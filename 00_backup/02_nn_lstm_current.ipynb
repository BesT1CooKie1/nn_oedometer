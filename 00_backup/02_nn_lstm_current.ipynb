{
 "cells": [
  {
   "cell_type": "markdown",
   "id": "8eed3593-c200-4353-96ac-b4508e0aafea",
   "metadata": {
    "id": "8eed3593-c200-4353-96ac-b4508e0aafea"
   },
   "source": [
    "# LSTM Model for Oedometer Data Prediction\n",
    "This code implements an LSTM model to predict future values based on time-series data for a geotechnical engineering problem. The goal is to predict `delta_sigma` values from the given inputs `sigma_t` (stress) and `delta_epsilon` (strain). Below are the code blocks with explanations.\n",
    "\n",
    "\n",
    "---\n",
    "\n",
    "\n",
    "## Importing Necessary Libraries"
   ]
  },
  {
   "cell_type": "code",
   "execution_count": 1,
   "id": "3e4c446a-ed81-46b4-a5e4-90f6a55c1afd",
   "metadata": {
    "id": "3e4c446a-ed81-46b4-a5e4-90f6a55c1afd"
   },
   "outputs": [],
   "source": [
    "import torch\n",
    "import torch.nn as nn\n",
    "import torch.optim as optim\n",
    "from torch.utils.data import DataLoader, TensorDataset\n",
    "from IPython.display import Markdown, display\n",
    "import pandas as pd\n",
    "import random as r\n",
    "from sys import exit\n",
    "import numpy as np\n",
    "import matplotlib.pyplot as plt"
   ]
  },
  {
   "cell_type": "markdown",
   "id": "aeb68479-e6da-4410-ae64-a823e686dc13",
   "metadata": {
    "id": "aeb68479-e6da-4410-ae64-a823e686dc13"
   },
   "source": [
    "This section imports all the necessary libraries, including PyTorch, pandas, and matplotlib, which are used for neural network operations, data handling, and visualization.\n",
    "\n",
    "\n",
    "---\n",
    "\n",
    "\n",
    "## Setting Parameters"
   ]
  },
  {
   "cell_type": "code",
   "execution_count": 2,
   "id": "1db9fdfa-2bdf-425b-a34f-517b7608404b",
   "metadata": {
    "id": "1db9fdfa-2bdf-425b-a34f-517b7608404b"
   },
   "outputs": [],
   "source": [
    "# Debugger: Aktiviert\n",
    "debug_mode = True\n",
    "normalize = False"
   ]
  },
  {
   "cell_type": "markdown",
   "id": "caec504e-2c5c-452e-bc33-0883ac04dc72",
   "metadata": {
    "id": "caec504e-2c5c-452e-bc33-0883ac04dc72"
   },
   "source": [
    "Here, we define two key parameters:\n",
    "\n",
    "*   `debug_mode`: Used to toggle debugging functionalities.\n",
    "*   `normalize`: A flag to enable or disable data normalization.\n",
    "\n",
    "\n",
    "---\n",
    "\n",
    "\n",
    "## Preloaded Helper Functions"
   ]
  },
  {
   "cell_type": "code",
   "execution_count": 3,
   "id": "464f85c5-4347-47b8-a999-876c3405ab38",
   "metadata": {
    "id": "464f85c5-4347-47b8-a999-876c3405ab38"
   },
   "outputs": [],
   "source": [
    "def dict_to_markdown_table(data: dict, title: str = \"Datenübersicht\", include_index: bool = True, round_digits: int = 4):\n",
    "    \"\"\"\n",
    "    Wandelt ein Dictionary mit Listenwerten in eine Markdown-Tabelle für Jupyter Notebooks um.\n",
    "\n",
    "    - Schlüssel werden als Header genutzt\n",
    "    - Erste Spalte ist ein Index, falls `include_index=True`\n",
    "    - Einzelwerte werden als separate Tabelle unterhalb dargestellt\n",
    "    - Zahlenwerte werden auf eine einstellbare Anzahl an Nachkommastellen gerundet\n",
    "\n",
    "    :param data: Dictionary mit Key-Value-Paaren\n",
    "    :param title: Überschrift für die Tabelle\n",
    "    :param include_index: Falls True, wird eine Index-Spalte erstellt\n",
    "    :param round_digits: Anzahl der Nachkommastellen, auf die Werte gerundet werden sollen\n",
    "    :return: Markdown-String zur Anzeige in Jupyter\n",
    "    \"\"\"\n",
    "\n",
    "    # Hilfsfunktion zum Runden von Zahlen\n",
    "    def round_value(val):\n",
    "        if isinstance(val, (int, float)):\n",
    "            return round(val, round_digits)\n",
    "        return val\n",
    "\n",
    "    # Listen und einzelne Werte trennen\n",
    "    list_data = {k: v for k, v in data.items() if isinstance(v, list)}\n",
    "    single_values = {k: v for k, v in data.items() if not isinstance(v, list)}\n",
    "\n",
    "    # Falls es Listen gibt, erstelle eine Tabelle mit Index\n",
    "    if list_data:\n",
    "        max_len = max(len(v) for v in list_data.values())  # Längste Liste bestimmen\n",
    "\n",
    "        # Tabellenkopf\n",
    "        md_table = f\"### {title}\\n\\n\"\n",
    "        md_table += \"| \" + (\"Index | \" if include_index else \"\") + \" | \".join(list_data.keys()) + \" |\\n\"\n",
    "        md_table += \"|-\" + (\"-|\" if include_index else \"\") + \"-|\".join([\"-\" * len(k) for k in list_data.keys()]) + \"-|\\n\"\n",
    "\n",
    "        # Datenzeilen\n",
    "        for i in range(max_len):\n",
    "            row = [str(i)] if include_index else []  # Index hinzufügen (optional)\n",
    "            for key in list_data:\n",
    "                if i < len(list_data[key]):\n",
    "                    row.append(str(round_value(list_data[key][i])))\n",
    "                else:\n",
    "                    row.append(\"\")  # Leere Werte für ungleich lange Listen\n",
    "            md_table += \"| \" + \" | \".join(row) + \" |\\n\"\n",
    "\n",
    "    else:\n",
    "        md_table = \"\"\n",
    "\n",
    "    # Einzelwerte als extra Tabelle darstellen\n",
    "    if single_values:\n",
    "        md_table += \"\\n\\n#### Einzelwerte\\n\\n\"\n",
    "        md_table += \"| \" + \" | \".join(single_values.keys()) + \" |\\n\"\n",
    "        md_table += \"|-\" + \"-|\".join([\"-\" * len(k) for k in single_values.keys()]) + \"-|\\n\"\n",
    "        md_table += \"| \" + \" | \".join(map(lambda v: str(round_value(v)), single_values.values())) + \" |\\n\"\n",
    "\n",
    "    return Markdown(md_table)\n",
    "\n",
    "\n",
    "def display_data_loss_table(data_dict, delta_sigma_pred, max_i):\n",
    "    \"\"\"\n",
    "    Erstellt eine Markdown-Tabelle zur übersichtlichen Darstellung von Datenverlust.\n",
    "\n",
    "    Unterstützt sowohl Python-Listen als auch NumPy-Arrays.\n",
    "\n",
    "    :param data_dict: Dictionary mit `sigma_t` und `delta_sigma` (Listen oder np.arrays)\n",
    "    :param delta_sigma_pred: Vorhergesagte Werte für `delta_sigma` (Liste oder np.array)\n",
    "    :param max_i: Anzahl der Werte, die in der Tabelle angezeigt werden sollen\n",
    "    \"\"\"\n",
    "\n",
    "    # Sicherstellen, dass `sigma_t` und `delta_sigma` existieren\n",
    "    if \"sigma_t\" not in data_dict or \"delta_sigma\" not in data_dict or delta_sigma_pred is None:\n",
    "        print(\"Fehler: `data_dict` oder `delta_sigma_pred` ist nicht korrekt definiert!\")\n",
    "        return\n",
    "\n",
    "    # Konvertiere alle Werte zu Listen (falls sie NumPy-Arrays sind)\n",
    "    def to_list(arr):\n",
    "        return arr.tolist() if isinstance(arr, np.ndarray) else arr\n",
    "\n",
    "    total_epsilon = to_list(data_dict[\"total_epsilon\"])\n",
    "    delta_epsilon = to_list(data_dict[\"delta_epsilon\"])\n",
    "    sigma_t = to_list(data_dict[\"sigma_t\"])\n",
    "    delta_sigma_true = to_list(data_dict[\"delta_sigma\"])\n",
    "    delta_sigma_pred = to_list(delta_sigma_pred)  # Falls `delta_sigma_pred` ein 2D-Array ist\n",
    "\n",
    "    # Überprüfen, ob die Längen konsistent sind\n",
    "    min_len = min(len(total_epsilon), len(sigma_t), len(delta_epsilon), len(delta_sigma_true), len(delta_sigma_pred), max_i)\n",
    "\n",
    "    # Erstelle eine Tabelle für die übersichtliche Darstellung\n",
    "    data_loss_table = {\n",
    "        \"total_epsilon\" : list(total_epsilon[:min_len]),\n",
    "        \"delta_epsilon\" : list(delta_epsilon[:min_len]),\n",
    "        \"sigma_t\" : list(sigma_t[:min_len]),\n",
    "        \"True delta_sigma\": list(delta_sigma_true[:min_len]),\n",
    "        \"Predicted delta_sigma\": list(delta_sigma_pred[:min_len]),\n",
    "        \"Test-Loss (True - Predicted)\": list(np.round(np.array(delta_sigma_true[:min_len]) - np.array(delta_sigma_pred[:min_len]), 5))\n",
    "    }\n",
    "\n",
    "    # Markdown-Tabelle für bessere Darstellung in Jupyter\n",
    "    display(dict_to_markdown_table(data_loss_table, title=f\"Data-Loss bis sigma_{min_len-1}\", include_index=True))"
   ]
  },
  {
   "cell_type": "markdown",
   "id": "23dbada5-603e-41c4-a741-932497c15772",
   "metadata": {
    "id": "23dbada5-603e-41c4-a741-932497c15772"
   },
   "source": [
    "This function converts a dictionary of lists into a Markdown table for easy visualization in Jupyter Notebooks. It helps in presenting data in a clear and structured way during debugging and analysis.\n",
    "\n",
    "\n",
    "---\n",
    "\n",
    "\n",
    "## Check for use of CONDA if available"
   ]
  },
  {
   "cell_type": "code",
   "execution_count": 4,
   "id": "45429180-216e-482f-be87-1702b19c8890",
   "metadata": {
    "colab": {
     "base_uri": "https://localhost:8080/"
    },
    "id": "45429180-216e-482f-be87-1702b19c8890",
    "outputId": "5331237b-753c-496d-e8bd-dc98973cfd80"
   },
   "outputs": [
    {
     "name": "stdout",
     "output_type": "stream",
     "text": [
      "No GPU available.\n"
     ]
    }
   ],
   "source": [
    "use_cuda = torch.cuda.is_available()\n",
    "device = torch.device(\"cuda:0\" if use_cuda else \"cpu\")\n",
    "\n",
    "if device.type == 'cpu':\n",
    "    device_num = 0\n",
    "    print('No GPU available.')\n",
    "else:\n",
    "    device_num = torch.cuda.device_count()\n",
    "    print('Device:', device, '-- Number of devices:', device_num)"
   ]
  },
  {
   "cell_type": "markdown",
   "id": "aee5e68d-54d7-40dd-bd8c-91f6c7349e3a",
   "metadata": {
    "id": "aee5e68d-54d7-40dd-bd8c-91f6c7349e3a"
   },
   "source": [
    "\n",
    "\n",
    "---\n",
    "\n",
    "\n",
    "## Defining the Oedometer Class"
   ]
  },
  {
   "cell_type": "code",
   "execution_count": 5,
   "id": "c80cbec0-a5d5-4310-88a0-db99ec043b36",
   "metadata": {
    "id": "c80cbec0-a5d5-4310-88a0-db99ec043b36"
   },
   "outputs": [],
   "source": [
    "import random\n",
    "\n",
    "class Oedometer:\n",
    "    def __init__(self, e_0: float = 1.00, C_c: float = 0.005, delta_epsilon: float = 0.0005,\n",
    "                 sigma_t: float = 1.00, max_n: int = 50, rand_epsilon:bool=False, **kwargs):\n",
    "        self.max_n = max_n\n",
    "\n",
    "        # Standardwerte als Listen setzen\n",
    "        self.e_0 = [e_0]\n",
    "        self.C_c = [C_c]\n",
    "        self.sigma_t = [sigma_t]\n",
    "        self.delta_epsilon = []\n",
    "        self.total_epsilon = [0]\n",
    "\n",
    "        # Initiale Listen für Berechnungen\n",
    "        self.sigma_t = [sigma_t]\n",
    "        self.delta_sigma = []\n",
    "        self.e_s = []\n",
    "        self.delta_epsilon = [delta_epsilon]\n",
    "\n",
    "        # Dynamische Zuweisung von kwargs, falls vorhanden\n",
    "        for key, value in kwargs.items():\n",
    "            if hasattr(self, key):  # Nur vorhandene Attribute setzen\n",
    "                setattr(self, key, [value])\n",
    "\n",
    "        # Berechnungen durchführen\n",
    "        self.__calc_sigma_t_p1()\n",
    "\n",
    "        # Listenlängen anpassen\n",
    "        self.__adjust_list_lengths()\n",
    "        self.__calc_total_epsilon()\n",
    "\n",
    "    def __adjust_list_lengths(self):\n",
    "        \"\"\" Passt ALLE Listen-Attribute an `max_n` an. \"\"\"\n",
    "        attributes = ['e_0', 'C_c', 'delta_epsilon', 'sigma_t', 'sigma_t', 'delta_sigma', 'e_s']\n",
    "        for attr in attributes:\n",
    "            value_list = getattr(self, attr, [])\n",
    "            current_length = len(value_list)\n",
    "\n",
    "            if current_length > self.max_n:\n",
    "                setattr(self, attr, value_list[:self.max_n])  # Kürzen\n",
    "            elif current_length < self.max_n:\n",
    "                setattr(self, attr, value_list + [value_list[-1] if value_list else 0] * (self.max_n - current_length))  # Auffüllen\n",
    "\n",
    "    def __calc_total_epsilon(self):\n",
    "        for i in range(len(self.delta_epsilon)-1):\n",
    "            self.total_epsilon.append(self.total_epsilon[i] + self.delta_epsilon[i])\n",
    "\n",
    "    def __calc_e_s(self, sigma_t):\n",
    "        \"\"\" Berechnet `e_s` aus `sigma_t`. \"\"\"\n",
    "        e_s = (1 + self.e_0[0]) / self.C_c[0] * sigma_t\n",
    "        self.e_s.append(e_s)\n",
    "        return e_s\n",
    "\n",
    "    def __calc_sigma_t_p1(self):\n",
    "        \"\"\" Berechnet `sigma_t` und `delta_sigma` für die nächsten Schritte. \"\"\"\n",
    "        for i in range(self.max_n):  # -1, weil sigma_t bereits gesetzt ist\n",
    "            e_s = self.__calc_e_s(self.sigma_t[i])\n",
    "            delta_sigma = e_s * self.delta_epsilon[0]\n",
    "            sigma = self.sigma_t[i] + delta_sigma\n",
    "            self.sigma_t.append(sigma)\n",
    "            self.delta_sigma.append(delta_sigma)\n",
    "\n",
    "def plot_input():\n",
    "    # Plot\n",
    "    plt.figure(figsize=(10, 5))\n",
    "    plt.plot(data_dict_raw['sigma_t'], data_dict_raw['delta_sigma'], marker='o', linestyle='-', label='Sigma_0 = 1')\n",
    "\n",
    "    # Formatting\n",
    "    plt.xlabel('sigma_t')\n",
    "    plt.ylabel('delta_simga')\n",
    "    plt.title('Sigma_0 in relation to Sigma_1')\n",
    "    plt.xticks(rotation=45)\n",
    "    plt.grid(True)\n",
    "    plt.legend()\n",
    "    plt.tight_layout()\n",
    "    plt.show()"
   ]
  },
  {
   "cell_type": "markdown",
   "id": "P4zh-pBwwQSK",
   "metadata": {
    "id": "P4zh-pBwwQSK"
   },
   "source": [
    "The `Oedometer` class simulates the calculation of `delta_sigma` values based on various material parameters such as `sigma_t` (stress), `delta_epsilon` (strain), and others. The class provides methods to adjust list lengths and perform calculations that simulate geotechnical behavior.\n",
    "\n",
    "\n",
    "---\n",
    "\n",
    "\n",
    "## Data Generation and Processing"
   ]
  },
  {
   "cell_type": "code",
   "execution_count": 6,
   "id": "f9fb2661-f310-4b18-ab78-d819b4c9376b",
   "metadata": {
    "colab": {
     "base_uri": "https://localhost:8080/"
    },
    "id": "f9fb2661-f310-4b18-ab78-d819b4c9376b",
    "outputId": "4f21b8f0-7df7-4be9-e6be-18fec9b4713e"
   },
   "outputs": [
    {
     "name": "stdout",
     "output_type": "stream",
     "text": [
      "Anzahl Elemente delta_epsilon: 100\n",
      "Anzahl Elemente sigma_t: 100\n",
      "Anzahl Elemente delta_sigma: 100\n"
     ]
    }
   ],
   "source": [
    "i = 100\n",
    "\n",
    "oedo_para = {\n",
    "    'max_n': 1,\n",
    "    'e_0': 1.0,\n",
    "    'C_c': 0.005,\n",
    "    'total_epsilon': 0,\n",
    "    'e_s': 400.0\n",
    "}\n",
    "\n",
    "# Vorbereitung Tensoren\n",
    "sigma_t = np.random.choice(range(1, 1000), size=i, replace=False)\n",
    "delta_sigma = []\n",
    "delta_epsilon = np.repeat(np.array(np.float64(0.0005)), i)\n",
    "# delta_epsilon = np.random.uniform(0.0001, 0.001, size=i)\n",
    "\n",
    "for i in range(i):\n",
    "    oedo_para['sigma_t'] = sigma_t[i]\n",
    "    oedo_para['e_s'] = delta_epsilon[i]\n",
    "    oedo = Oedometer(**oedo_para)\n",
    "    delta_sigma.append(round(oedo.delta_sigma[0], 2))\n",
    "\n",
    "\n",
    "print('Anzahl Elemente delta_epsilon: ' + str(len(delta_epsilon)))\n",
    "print('Anzahl Elemente sigma_t: ' + str(len(sigma_t)))\n",
    "print('Anzahl Elemente delta_sigma: ' + str(len(delta_sigma)))"
   ]
  },
  {
   "cell_type": "markdown",
   "id": "Pmfuh71rwZYg",
   "metadata": {
    "id": "Pmfuh71rwZYg"
   },
   "source": [
    "This part generates synthetic data for `sigma_t` (stress) and `delta_epsilon` (strain) to simulate the inputs. The class Oedometer is used to compute `delta_sigma` values from the generated data.\n",
    "\n",
    "---\n",
    "\n",
    "\n",
    "## Visualizing the Data"
   ]
  },
  {
   "cell_type": "code",
   "execution_count": 7,
   "id": "f05dca2c-7485-48cd-ba46-c46330373129",
   "metadata": {
    "colab": {
     "base_uri": "https://localhost:8080/",
     "height": 204
    },
    "id": "f05dca2c-7485-48cd-ba46-c46330373129",
    "outputId": "cb67a5c3-77a5-4780-beac-84da94cbd0be"
   },
   "outputs": [
    {
     "data": {
      "text/markdown": [
       "### RawData"
      ],
      "text/plain": [
       "<IPython.core.display.Markdown object>"
      ]
     },
     "metadata": {},
     "output_type": "display_data"
    },
    {
     "data": {
      "text/markdown": [
       "|    |   sigma_t |   e_s |\n",
       "|---:|----------:|------:|\n",
       "|  0 |       664 | 132.8 |\n",
       "|  1 |       486 |  97.2 |\n",
       "|  2 |       201 |  40.2 |\n",
       "|  3 |       871 | 174.2 |\n",
       "|  4 |       811 | 162.2 |\n",
       "|  5 |        71 |  14.2 |\n",
       "|  6 |       476 |  95.2 |\n",
       "|  7 |        94 |  18.8 |\n",
       "|  8 |       460 |  92   |\n",
       "|  9 |        54 |  10.8 |\n",
       "| 10 |       228 |  45.6 |\n",
       "| 11 |       861 | 172.2 |\n",
       "| 12 |       266 |  53.2 |\n",
       "| 13 |       751 | 150.2 |\n",
       "| 14 |       208 |  41.6 |\n",
       "| 15 |       641 | 128.2 |\n",
       "| 16 |       643 | 128.6 |\n",
       "| 17 |       989 | 197.8 |\n",
       "| 18 |       719 | 143.8 |\n",
       "| 19 |       718 | 143.6 |\n",
       "| 20 |       222 |  44.4 |\n",
       "| 21 |       646 | 129.2 |\n",
       "| 22 |       261 |  52.2 |\n",
       "| 23 |       671 | 134.2 |\n",
       "| 24 |       587 | 117.4 |\n",
       "| 25 |       132 |  26.4 |\n",
       "| 26 |       195 |  39   |\n",
       "| 27 |       356 |  71.2 |\n",
       "| 28 |        69 |  13.8 |\n",
       "| 29 |       351 |  70.2 |\n",
       "| 30 |       295 |  59   |\n",
       "| 31 |       254 |  50.8 |\n",
       "| 32 |       923 | 184.6 |\n",
       "| 33 |       591 | 118.2 |\n",
       "| 34 |       942 | 188.4 |\n",
       "| 35 |       499 |  99.8 |\n",
       "| 36 |       684 | 136.8 |\n",
       "| 37 |       972 | 194.4 |\n",
       "| 38 |       473 |  94.6 |\n",
       "| 39 |       639 | 127.8 |\n",
       "| 40 |       534 | 106.8 |\n",
       "| 41 |       683 | 136.6 |\n",
       "| 42 |       877 | 175.4 |\n",
       "| 43 |       726 | 145.2 |\n",
       "| 44 |       961 | 192.2 |\n",
       "| 45 |       613 | 122.6 |\n",
       "| 46 |       695 | 139   |\n",
       "| 47 |       687 | 137.4 |\n",
       "| 48 |       883 | 176.6 |\n",
       "| 49 |       441 |  88.2 |\n",
       "| 50 |        60 |  12   |\n",
       "| 51 |       272 |  54.4 |\n",
       "| 52 |       503 | 100.6 |\n",
       "| 53 |        39 |   7.8 |\n",
       "| 54 |       302 |  60.4 |\n",
       "| 55 |       526 | 105.2 |\n",
       "| 56 |       522 | 104.4 |\n",
       "| 57 |       271 |  54.2 |\n",
       "| 58 |       163 |  32.6 |\n",
       "| 59 |       600 | 120   |\n",
       "| 60 |       822 | 164.4 |\n",
       "| 61 |       798 | 159.6 |\n",
       "| 62 |        48 |   9.6 |\n",
       "| 63 |       186 |  37.2 |\n",
       "| 64 |       994 | 198.8 |\n",
       "| 65 |       197 |  39.4 |\n",
       "| 66 |       471 |  94.2 |\n",
       "| 67 |       860 | 172   |\n",
       "| 68 |       256 |  51.2 |\n",
       "| 69 |       621 | 124.2 |\n",
       "| 70 |       436 |  87.2 |\n",
       "| 71 |       575 | 115   |\n",
       "| 72 |       138 |  27.6 |\n",
       "| 73 |       967 | 193.4 |\n",
       "| 74 |       849 | 169.8 |\n",
       "| 75 |        53 |  10.6 |\n",
       "| 76 |       757 | 151.4 |\n",
       "| 77 |       996 | 199.2 |\n",
       "| 78 |       854 | 170.8 |\n",
       "| 79 |       949 | 189.8 |\n",
       "| 80 |        26 |   5.2 |\n",
       "| 81 |       650 | 130   |\n",
       "| 82 |       358 |  71.6 |\n",
       "| 83 |       953 | 190.6 |\n",
       "| 84 |       632 | 126.4 |\n",
       "| 85 |       593 | 118.6 |\n",
       "| 86 |       383 |  76.6 |\n",
       "| 87 |       470 |  94   |\n",
       "| 88 |       334 |  66.8 |\n",
       "| 89 |       817 | 163.4 |\n",
       "| 90 |       644 | 128.8 |\n",
       "| 91 |       903 | 180.6 |\n",
       "| 92 |       615 | 123   |\n",
       "| 93 |       930 | 186   |\n",
       "| 94 |       640 | 128   |\n",
       "| 95 |       866 | 173.2 |\n",
       "| 96 |       395 |  79   |\n",
       "| 97 |       813 | 162.6 |\n",
       "| 98 |       884 | 176.8 |\n",
       "| 99 |       202 |  40.4 |"
      ],
      "text/plain": [
       "<IPython.core.display.Markdown object>"
      ]
     },
     "metadata": {},
     "output_type": "display_data"
    }
   ],
   "source": [
    "data = {\n",
    "    'sigma_t' : sigma_t.tolist(),\n",
    "    'e_s' : delta_sigma,\n",
    "}\n",
    "\n",
    "# data = {\n",
    "# 'sigma_t' : [1,2,3,4,5],\n",
    "#     'delta_sigma' : [2,3,4,5,6],\n",
    "#     'delta_epsilon' : [3,5,7,9,11]\n",
    "# }\n",
    "\n",
    "df = pd.DataFrame(data)\n",
    "# Markdown Headlin 'RawData'\n",
    "display(Markdown('### RawData'))\n",
    "display(Markdown(df.to_markdown()))"
   ]
  },
  {
   "cell_type": "markdown",
   "id": "cp26_ZYawkq2",
   "metadata": {
    "id": "cp26_ZYawkq2"
   },
   "source": [
    "Here, the raw data is converted into a pandas DataFrame and displayed as a Markdown table. This allows for easy inspection of the data before feeding it into the LSTM model.\n",
    "\n",
    "\n",
    "---\n",
    "\n",
    "\n",
    "## Data Normalization"
   ]
  },
  {
   "cell_type": "code",
   "execution_count": 8,
   "id": "qsjRsF4bDCxI",
   "metadata": {
    "id": "qsjRsF4bDCxI"
   },
   "outputs": [],
   "source": [
    "min_val_in = None\n",
    "max_val_in = None\n",
    "min_val_out = None\n",
    "max_val_out = None\n",
    "\n",
    "def min_max_normalize(tensor, input_tensor=True):\n",
    "    \"\"\"\n",
    "      Normalisiert einen Tensor anhand der globalen min_val und max_val.\n",
    "      \"\"\"\n",
    "    global min_val_in, max_val_in, min_val_out, max_val_out\n",
    "    if min_val_in is None and max_val_in is None and input_tensor:\n",
    "        min_val = torch.min(tensor)\n",
    "        max_val = torch.max(tensor)\n",
    "        min_val_in = min_val\n",
    "        max_val_in = max_val\n",
    "        print(min_val)\n",
    "        print(max_val)\n",
    "    elif min_val_out is None and max_val_out is None and not input_tensor:\n",
    "        min_val = torch.min(tensor)\n",
    "        max_val = torch.max(tensor)\n",
    "        min_val_out = min_val\n",
    "        max_val_out = max_val\n",
    "    elif input_tensor:\n",
    "        min_val = min_val_in\n",
    "        max_val = min_val_in\n",
    "    elif not input_tensor:\n",
    "        min_val = min_val_out\n",
    "        max_val = min_val_out\n",
    "              \n",
    "        \n",
    "    display(Markdown(f'### Skalierungseinheiten für {'Input' if input_tensor else 'Output'}: Min. = {min_val}, Max. = {max_val}'))\n",
    "    return (tensor - min_val) / (max_val - min_val)\n",
    "\n",
    "def min_max_denormalize(tensor, input_tensor=True):\n",
    "    \"\"\"\n",
    "      Denormalisiert einen Tensor anhand der globalen min_val und max_val.\n",
    "      \"\"\"\n",
    "    if min_val_in is None and max_val_in is None and input_tensor:\n",
    "        print(\"Fehler: min_val und/oder max_val sind nicht gesetzt. Normalisierung muss zuerst durchgeführt werden.\")\n",
    "        return tensor # Gibt den ursprünglichen Tensor zurück, wenn nicht normalisiert werden kann\n",
    "    elif min_val_out is None and max_val_out is None and not input_tensor:\n",
    "        print(\"Fehler: min_val und/oder max_val sind nicht gesetzt. Normalisierung muss zuerst durchgeführt werden.\")\n",
    "        return tensor # Gibt den ursprünglichen Tensor zurück, wenn nicht normalisiert werden kann\n",
    "    if input_tensor:\n",
    "        min_val = min_val_in\n",
    "        max_val = max_val_in\n",
    "    else:\n",
    "        min_val = min_val_out\n",
    "        max_val = max_val_out\n",
    "    return tensor * (max_val - min_val) + min_val\n"
   ]
  },
  {
   "cell_type": "markdown",
   "id": "lYOajlZuOb0r",
   "metadata": {
    "id": "lYOajlZuOb0r"
   },
   "source": [
    "This function normalizes input tensors using the Min-Max scaling method. Normalization helps in improving the training stability by ensuring that all features are within the same scale.\n",
    "\n",
    "\n",
    "---\n",
    "\n",
    "## Creating the Dataset for LSTM\n",
    "\n"
   ]
  },
  {
   "cell_type": "code",
   "execution_count": 9,
   "id": "86b39746-e5a5-4ad7-8a2e-941b6539639a",
   "metadata": {
    "colab": {
     "base_uri": "https://localhost:8080/",
     "height": 58
    },
    "id": "86b39746-e5a5-4ad7-8a2e-941b6539639a",
    "outputId": "ce71cbc3-6624-41b5-8afe-07bc7a49da08"
   },
   "outputs": [],
   "source": [
    "def create_dataset(df, lookback=1, input_columns=None, output_columns=None, normalize=True):\n",
    "    \"\"\"\n",
    "    Erzeugt die Eingabe- und Ziel-Datensätze für ein LSTM.\n",
    "\n",
    "    Parameters:\n",
    "    df (DataFrame): Der Eingabedatenrahmen.\n",
    "    lookback (int): Die Anzahl der vergangenen Zeitschritte, die als Eingabe dienen.\n",
    "    input_columns (list): Liste der Spaltennamen, die als Eingabewerte dienen.\n",
    "    output_columns (list): Liste der Spaltennamen, die als Zielwerte dienen.\n",
    "    normalize (bool): Ob die Eingabedaten normalisiert werden sollen.\n",
    "\n",
    "    Returns:\n",
    "    X (Tensor): Eingabedaten im Format (batch_size, seq_length, input_size).\n",
    "    y (Tensor): Zielwerte im Format (batch_size, output_size).\n",
    "    \"\"\"\n",
    "    X, y = [], []\n",
    "\n",
    "    # Falls keine input_columns übergeben wurden, nehmen wir alle Spalten außer der letzten\n",
    "    if input_columns is None:\n",
    "        input_columns = df.columns[:-1].tolist()\n",
    "\n",
    "    # Falls keine output_columns übergeben wurden, nehmen wir die letzte(n) Spalte(n)\n",
    "    if output_columns is None:\n",
    "        output_columns = df.columns[-1:].tolist()  # Eine Liste mit der letzten Spalte\n",
    "\n",
    "    for i in range(len(df) - lookback):\n",
    "        # Wir nehmen 'lookback' Zeilen als eine Sequenz für die Eingabe\n",
    "        seq = df.iloc[i:i+lookback][input_columns].values\n",
    "        X.append(seq)\n",
    "\n",
    "        # Zielwert(e) ist (sind) der Wert(e) der output_columns nach dieser Sequenz\n",
    "        y_values = df.iloc[i+lookback][output_columns].values\n",
    "        y.append(y_values)\n",
    "\n",
    "    # Umwandlung in Tensoren\n",
    "    X_tensor = torch.tensor(np.array(X), dtype=torch.float32)\n",
    "    y_tensor = torch.tensor(np.array(y), dtype=torch.float32)\n",
    "\n",
    "    # Falls Normalisierung gewünscht ist, wenden wir min-max Normalisierung an\n",
    "    if normalize:\n",
    "        X = min_max_normalize(X_tensor)\n",
    "        y = min_max_normalize(y_tensor, False)\n",
    "    else:\n",
    "        X = X_tensor\n",
    "        y = y_tensor\n",
    "    return X, y\n",
    "\n",
    "X, y = create_dataset(df, lookback=1, normalize=normalize, input_columns=['sigma_t'], output_columns=['e_s'])"
   ]
  },
  {
   "cell_type": "markdown",
   "id": "qBsMWCXnxC1L",
   "metadata": {
    "id": "qBsMWCXnxC1L"
   },
   "source": [
    "This function creates the input-output pairs for the LSTM model. The `lookback` parameter determines how many previous time steps are used to predict the next value. The function normalizes the input data if the `normalize` flag is set to `True`."
   ]
  },
  {
   "cell_type": "code",
   "execution_count": 10,
   "id": "0d8133f1-409f-4879-a685-ec141fb4189f",
   "metadata": {
    "colab": {
     "base_uri": "https://localhost:8080/"
    },
    "id": "0d8133f1-409f-4879-a685-ec141fb4189f",
    "outputId": "b9277dad-e1a4-4260-a060-6a922954a17a"
   },
   "outputs": [
    {
     "name": "stdout",
     "output_type": "stream",
     "text": [
      "Shapes:\n",
      "  X_train: torch.Size([66, 1, 1]) y_train: torch.Size([66, 1])\n",
      "  X_test:  torch.Size([33, 1, 1]) y_test:  torch.Size([33, 1])\n"
     ]
    }
   ],
   "source": [
    "# --- Aufteilen in Training (2/3) und Test (1/3) ---\n",
    "train_size = int(X.shape[0] * 2/3)\n",
    "X_train = X[:train_size]\n",
    "y_train = y[:train_size].view(-1, 1)  # als (batch_size, 1)\n",
    "X_test  = X[train_size:]\n",
    "y_test  = y[train_size:].view(-1, 1)\n",
    "\n",
    "print(\"Shapes:\")\n",
    "print(\"  X_train:\", X_train.shape, \"y_train:\", y_train.shape)\n",
    "print(\"  X_test: \", X_test.shape,  \"y_test: \", y_test.shape)"
   ]
  },
  {
   "cell_type": "code",
   "execution_count": 11,
   "id": "MrCd2SbaLZBV",
   "metadata": {
    "colab": {
     "base_uri": "https://localhost:8080/",
     "height": 1000
    },
    "id": "MrCd2SbaLZBV",
    "outputId": "8e99d647-e778-42a4-c448-9db061f21a97"
   },
   "outputs": [
    {
     "data": {
      "text/markdown": [
       "### Trainingsdaten (Normalisierte Input Parameter)\n",
       "\n",
       "| Index | Input (sigma_t) | Output (e_s) |\n",
       "|--|----------------|-------------|\n",
       "| 0 | 664.0 | 97.2 |\n",
       "| 1 | 486.0 | 40.2 |\n",
       "| 2 | 201.0 | 174.2 |\n",
       "| 3 | 871.0 | 162.2 |\n",
       "| 4 | 811.0 | 14.2 |\n",
       "| 5 | 71.0 | 95.2 |\n",
       "| 6 | 476.0 | 18.8 |\n",
       "| 7 | 94.0 | 92.0 |\n",
       "| 8 | 460.0 | 10.8 |\n",
       "| 9 | 54.0 | 45.6 |\n"
      ],
      "text/plain": [
       "<IPython.core.display.Markdown object>"
      ]
     },
     "metadata": {},
     "output_type": "display_data"
    },
    {
     "name": "stdout",
     "output_type": "stream",
     "text": [
      "Fehler: min_val und/oder max_val sind nicht gesetzt. Normalisierung muss zuerst durchgeführt werden.\n",
      "Fehler: min_val und/oder max_val sind nicht gesetzt. Normalisierung muss zuerst durchgeführt werden.\n"
     ]
    },
    {
     "ename": "KeyError",
     "evalue": "'delta_epsilon'",
     "output_type": "error",
     "traceback": [
      "\u001b[31m---------------------------------------------------------------------------\u001b[39m",
      "\u001b[31mKeyError\u001b[39m                                  Traceback (most recent call last)",
      "\u001b[36mCell\u001b[39m\u001b[36m \u001b[39m\u001b[32mIn[11]\u001b[39m\u001b[32m, line 20\u001b[39m\n\u001b[32m     14\u001b[39m \u001b[38;5;66;03m# Rohdaten für den Vergleich extrahieren (entspricht den Trainingsdaten)\u001b[39;00m\n\u001b[32m     15\u001b[39m \u001b[38;5;66;03m# Die Trainingsdaten sind die ersten 'train_size' Samples der Input-Output-Paare.\u001b[39;00m\n\u001b[32m     16\u001b[39m \u001b[38;5;66;03m# Wir müssen die entsprechenden originalen Werte aus dem 'data' Dictionary holen.\u001b[39;00m\n\u001b[32m     17\u001b[39m \n\u001b[32m     18\u001b[39m \u001b[38;5;66;03m# Die Inputs X_train[i] stammen aus den Originaldaten bei Index i.\u001b[39;00m\n\u001b[32m     19\u001b[39m original_sigma_t_input = data[\u001b[33m'\u001b[39m\u001b[33msigma_t\u001b[39m\u001b[33m'\u001b[39m][:train_size]\n\u001b[32m---> \u001b[39m\u001b[32m20\u001b[39m original_delta_epsilon_input = \u001b[43mdata\u001b[49m\u001b[43m[\u001b[49m\u001b[33;43m'\u001b[39;49m\u001b[33;43mdelta_epsilon\u001b[39;49m\u001b[33;43m'\u001b[39;49m\u001b[43m]\u001b[49m[:train_size]\n\u001b[32m     22\u001b[39m \u001b[38;5;66;03m# Die Outputs y_train[i] stammen aus den Originaldaten bei Index i + lookback.\u001b[39;00m\n\u001b[32m     23\u001b[39m original_delta_sigma_output = data[\u001b[33m'\u001b[39m\u001b[33mdelta_sigma\u001b[39m\u001b[33m'\u001b[39m][lookback : train_size + lookback]\n",
      "\u001b[31mKeyError\u001b[39m: 'delta_epsilon'"
     ]
    }
   ],
   "source": [
    "num_rows = 10  # Anzahl der Zeilen, die in den Tabellen angezeigt werden sollen\n",
    "lookback = 1 # Stelle sicher, dass dies deinem tatsächlichen lookback-Wert entspricht\n",
    "\n",
    "# Trainingsdaten anzeigen (Normalisiert) - Hier passen Input und Output zusammen, wie vom create_dataset erstellt\n",
    "display(dict_to_markdown_table({\n",
    "    'Input (sigma_t)': [X_train[i].squeeze().tolist() for i in range(min(num_rows, X_train.shape[0]))],\n",
    "    'Output (e_s)': y_train[:min(num_rows, y_train.shape[0])].squeeze().tolist()\n",
    "}, title=\"Trainingsdaten (Normalisierte Input Parameter)\", include_index=True))\n",
    "\n",
    "# Trainingsdaten denormalisiert anzeigen\n",
    "X_train_denormalized = min_max_denormalize(X_train)\n",
    "y_train_denormalized = min_max_denormalize(y_train, False)\n",
    "\n",
    "# Rohdaten für den Vergleich extrahieren (entspricht den Trainingsdaten)\n",
    "# Die Trainingsdaten sind die ersten 'train_size' Samples der Input-Output-Paare.\n",
    "# Wir müssen die entsprechenden originalen Werte aus dem 'data' Dictionary holen.\n",
    "\n",
    "# Die Inputs X_train[i] stammen aus den Originaldaten bei Index i.\n",
    "original_sigma_t_input = data['sigma_t'][:train_size]\n",
    "original_delta_epsilon_input = data['delta_epsilon'][:train_size]\n",
    "\n",
    "# Die Outputs y_train[i] stammen aus den Originaldaten bei Index i + lookback.\n",
    "original_delta_sigma_output = data['delta_sigma'][lookback : train_size + lookback]\n",
    "\n",
    "\n",
    "# Listen für die detaillierte denormalisierte Tabelle\n",
    "denormalized_inputs_list = []\n",
    "denormalized_outputs_list = []\n",
    "input_original_indices = [] # Um die Rohdaten-Indizes für Inputs zu speichern\n",
    "output_original_indices = [] # Um die Rohdaten-Indizes für Outputs zu speichern\n",
    "input_verification_diff = []\n",
    "output_verification_diff = []\n",
    "\n",
    "for i in range(min(num_rows, X_train_denormalized.shape[0])):\n",
    "    # Denormalisierte Werte\n",
    "    denorm_sigma_t = X_train_denormalized[i].squeeze()[0].item()\n",
    "    denorm_delta_epsilon = X_train_denormalized[i].squeeze()[1].item()\n",
    "    denorm_delta_sigma_output = y_train_denormalized[i].squeeze().item()\n",
    "\n",
    "    denormalized_inputs_list.append([denorm_sigma_t, denorm_delta_epsilon])\n",
    "    denormalized_outputs_list.append(denorm_delta_sigma_output)\n",
    "\n",
    "    # Rohdaten-Index für den Input: i\n",
    "    input_index = i\n",
    "    input_original_indices.append(input_index)\n",
    "    original_sigma_t = data['sigma_t'][input_index]\n",
    "    original_delta_epsilon = data['delta_epsilon'][input_index]\n",
    "    diff_sigma_t = denorm_sigma_t - original_sigma_t\n",
    "    diff_delta_epsilon = denorm_delta_epsilon - original_delta_epsilon\n",
    "    input_verification_diff.append(f\"sigma_t Diff: {diff_sigma_t:.4f}, delta_epsilon Diff: {diff_delta_epsilon:.6f}\")\n",
    "\n",
    "\n",
    "    # Rohdaten-Index für den Output: i + lookback\n",
    "    output_index = i + lookback\n",
    "    output_original_indices.append(output_index)\n",
    "    original_delta_sigma = data['delta_sigma'][output_index]\n",
    "    diff_delta_sigma = denorm_delta_sigma_output - original_delta_sigma\n",
    "    output_verification_diff.append(f\"delta_sigma Diff: {diff_delta_sigma:.4f}\")\n",
    "\n",
    "\n",
    "display(Markdown('## Hier wird geprüft, ob das normalisieren bzw. denormalisieren funktioniert hat.'))\n",
    "\n",
    "# Anzeige der denormalisierten Trainingsdaten mit Input-Verifizierung\n",
    "# Wir fügen die Rohdaten-Indizes für Input und Output zur besseren Übersicht hinzu.\n",
    "display(dict_to_markdown_table({\n",
    "    'Input Rohdaten Index': input_original_indices,\n",
    "    'Input (sigma_t, delta_epsilon)': denormalized_inputs_list,\n",
    "    'Denormalisierung Input Check (Diff zu Original)': input_verification_diff,\n",
    "    'Output Rohdaten Index': output_original_indices,\n",
    "    }, title=\"Trainingsdaten (Denormalisiert) mit Checks\", include_index=True))"
   ]
  },
  {
   "cell_type": "markdown",
   "id": "Fkt6OwKTxjXC",
   "metadata": {
    "id": "Fkt6OwKTxjXC"
   },
   "source": [
    "---\n",
    "\n",
    "\n",
    "## LSTM Model Definition"
   ]
  },
  {
   "cell_type": "code",
   "execution_count": 12,
   "id": "e4faff38-40ab-485b-a758-7eb316c7e8a7",
   "metadata": {
    "id": "e4faff38-40ab-485b-a758-7eb316c7e8a7"
   },
   "outputs": [],
   "source": [
    "import torch.nn as nn\n",
    "\n",
    "class LSTMModel(nn.Module):\n",
    "    def __init__(self, input_size, hidden_size, num_layers, output_size):\n",
    "        super(LSTMModel, self).__init__()\n",
    "        self.lstm = nn.LSTM(input_size, hidden_size, num_layers, batch_first=True)\n",
    "        self.fc = nn.Linear(hidden_size, output_size)\n",
    "        self.relu = nn.ReLU()\n",
    "    def forward(self, x):\n",
    "        _, (hn, _) = self.lstm(x)\n",
    "        out = self.fc(hn[-1])\n",
    "        return out"
   ]
  },
  {
   "cell_type": "markdown",
   "id": "f6FbWR9KxsEL",
   "metadata": {
    "id": "f6FbWR9KxsEL"
   },
   "source": [
    "This is the definition of the LSTM model. It uses one LSTM layer followed by a fully connected layer. The model learns from the input sequence and makes a prediction about the output value.\n",
    "\n"
   ]
  },
  {
   "cell_type": "code",
   "execution_count": 13,
   "id": "e26b13fa-21ad-4800-aea6-6db1bbeef8d3",
   "metadata": {
    "id": "e26b13fa-21ad-4800-aea6-6db1bbeef8d3"
   },
   "outputs": [],
   "source": [
    "# Hyperparameter\n",
    "input_size = X_train.shape[2]  # Anzahl der Input-Features\n",
    "hidden_size = 32  # Die Anzahl der Neuronen im LSTM\n",
    "num_layers = 10  # Anzahl der LSTM-Schichten\n",
    "output_size = 1  # Output ist eine einzelne Zahl (z. B. Vorhersage)\n",
    "\n",
    "# Modell, Loss und Optimizer\n",
    "model = LSTMModel(input_size, hidden_size, num_layers, output_size)\n",
    "criterion = torch.nn.MSELoss()  # Mean Squared Error Loss\n",
    "optimizer = optim.Adam(model.parameters(), lr=0.0001)"
   ]
  },
  {
   "cell_type": "markdown",
   "id": "r29vWyV3xwBm",
   "metadata": {
    "id": "r29vWyV3xwBm"
   },
   "source": [
    "\n",
    "\n",
    "---\n",
    "\n",
    "\n",
    "## Model Training with Early Stopping"
   ]
  },
  {
   "cell_type": "code",
   "execution_count": null,
   "id": "a446ada0-bbee-46c2-9a87-253f6c324e83",
   "metadata": {
    "colab": {
     "base_uri": "https://localhost:8080/"
    },
    "id": "a446ada0-bbee-46c2-9a87-253f6c324e83",
    "outputId": "ef499d31-9d98-46d8-dc25-378b94e49f06"
   },
   "outputs": [
    {
     "name": "stdout",
     "output_type": "stream",
     "text": [
      "Epoch 10/1000, Train Loss: 12777.865530, Value Loss: 843339.124987\n",
      "Epoch 20/1000, Train Loss: 12223.459895, Value Loss: 806748.353050\n",
      "Epoch 30/1000, Train Loss: 11879.480138, Value Loss: 784045.689123\n",
      "Epoch 40/1000, Train Loss: 11585.961951, Value Loss: 764673.488794\n",
      "Epoch 50/1000, Train Loss: 11314.179797, Value Loss: 746735.866588\n",
      "Epoch 60/1000, Train Loss: 11055.343249, Value Loss: 729652.654457\n",
      "Epoch 70/1000, Train Loss: 10805.783687, Value Loss: 713181.723325\n"
     ]
    },
    {
     "name": "stderr",
     "output_type": "stream",
     "text": [
      "\n",
      "KeyboardInterrupt\n",
      "\n"
     ]
    }
   ],
   "source": [
    "import torch\n",
    "import torch.optim as optim\n",
    "from torch.utils.data import DataLoader, TensorDataset\n",
    "\n",
    "# Frühzeitige Beendigung: Überwache den Verlust auf den Validierungsdaten\n",
    "best_val_loss = float('inf')  # Initialer hoher Verlust\n",
    "patience = 100  # Anzahl der Epochen ohne Verbesserung, bevor das Training gestoppt wird\n",
    "patience_counter = 10  # Zähler für die Anzahl der Epochen ohne Verbesserung\n",
    "\n",
    "# Liste zum Speichern der Loss-Werte\n",
    "losses = []\n",
    "\n",
    "# Batches erstellen\n",
    "batch_size = 1\n",
    "\n",
    "# Erstelle TensorDataset und DataLoader\n",
    "train_dataset = TensorDataset(X_train, y_train)\n",
    "train_dataloader = DataLoader(train_dataset, batch_size=batch_size, shuffle=True)\n",
    "\n",
    "val_dataset = TensorDataset(X_test, y_test)\n",
    "val_dataloader = DataLoader(val_dataset, batch_size=batch_size, shuffle=False)\n",
    "\n",
    "# Improvement Block Aktivierung (True/False)\n",
    "improvement_block = False\n",
    "\n",
    "# Training\n",
    "epochs = 1000\n",
    "for epoch in range(epochs):\n",
    "    model.train()  # Setze das Modell in den Trainingsmodus\n",
    "    running_loss = 0.0\n",
    "\n",
    "    # Schleife über Batches\n",
    "    for i, (x_batch, y_batch) in enumerate(train_dataloader):\n",
    "        optimizer.zero_grad()\n",
    "\n",
    "        # Modellvorhersage\n",
    "        outputs = model(x_batch)\n",
    "        loss = criterion(outputs, y_batch)  # Verlust auf den Trainingsdaten\n",
    "        loss.backward()\n",
    "        optimizer.step()\n",
    "\n",
    "        # Verlust sammeln\n",
    "        running_loss += loss.item()\n",
    "\n",
    "    # Durchschnittlichen Trainingsverlust berechnen\n",
    "    avg_train_loss = running_loss / len(train_dataloader)\n",
    "    losses.append(avg_train_loss)\n",
    "\n",
    "    # Frühzeitige Beendigung (improvement block) aktivieren\n",
    "    if improvement_block:\n",
    "        # Validierungsverlust berechnen\n",
    "        model.eval()  # Modell in den Evaluierungsmodus setzen\n",
    "        val_loss = 0.0\n",
    "        with torch.no_grad():\n",
    "            for x_batch_val, y_batch_val in val_dataloader:\n",
    "                val_outputs = model(x_batch_val)\n",
    "                loss = criterion(val_outputs, y_batch_val)\n",
    "                val_loss += loss.item()\n",
    "\n",
    "        avg_val_loss = val_loss / len(val_dataloader)\n",
    "\n",
    "        # Frühzeitige Beendigung überwachen\n",
    "        if avg_val_loss < best_val_loss:\n",
    "            best_val_loss = avg_val_loss\n",
    "            patience_counter = 0  # Reset der Geduld\n",
    "        else:\n",
    "            patience_counter += 1\n",
    "\n",
    "        # Wenn keine Verbesserung erfolgt, abbrechen\n",
    "        if patience_counter >= patience:\n",
    "            print(f\"Frühzeitige Beendigung nach {epoch + 1} Epochen wegen fehlender Verbesserung.\")\n",
    "            break\n",
    "\n",
    "        # Ausgabe der Verlustinformationen\n",
    "        if (epoch + 1) % 10 == 0:\n",
    "            print(f'Epoch {epoch+1}/{epochs}, Train Loss: {avg_train_loss:.6f}, Validation Loss: {avg_val_loss:.6f}')\n",
    "    else:\n",
    "        # Ausgabe der Verlustinformationen ohne Validierung\n",
    "        if (epoch + 1) % 10 == 0:\n",
    "            print(f'Epoch {epoch+1}/{epochs}, Train Loss: {avg_train_loss:.6f}, Value Loss: {running_loss:.6f}')"
   ]
  },
  {
   "cell_type": "markdown",
   "id": "S8MwWIb9x234",
   "metadata": {
    "id": "S8MwWIb9x234"
   },
   "source": [
    "This section implements the training loop with early stopping. Early stopping monitors the validation loss and stops the training process if the loss does not improve after a set number of epochs (`patience`).\n",
    "\n",
    "\n",
    "---\n",
    "\n",
    "## Loss Plotting"
   ]
  },
  {
   "cell_type": "code",
   "execution_count": 15,
   "id": "40c2bd79-ee9e-4b97-a744-ee65cbe67db5",
   "metadata": {
    "colab": {
     "base_uri": "https://localhost:8080/",
     "height": 472
    },
    "id": "40c2bd79-ee9e-4b97-a744-ee65cbe67db5",
    "outputId": "bbc7a5b2-1c2c-422c-df54-7dcb47f9b6d5"
   },
   "outputs": [
    {
     "data": {
      "image/png": "[encoded data removed]",
      "text/plain": [
       "<Figure size 640x480 with 1 Axes>"
      ]
     },
     "metadata": {},
     "output_type": "display_data"
    }
   ],
   "source": [
    "import matplotlib.pyplot as plt\n",
    "# Plot der Losskurve\n",
    "plt.plot(range(len(losses)), losses, label='Loss')\n",
    "plt.xlabel('Epochs')\n",
    "plt.ylabel('Loss')\n",
    "plt.title('Training Loss')\n",
    "plt.legend()\n",
    "plt.show()"
   ]
  },
  {
   "cell_type": "markdown",
   "id": "YwwI0U0lx8Fc",
   "metadata": {
    "id": "YwwI0U0lx8Fc"
   },
   "source": [
    "This code generates a plot of the training loss over epochs. Visualizing the loss curve is important for diagnosing model convergence and training performance.\n",
    "\n",
    "\n",
    "---\n",
    "\n",
    "## Residual and Prediction Plots"
   ]
  },
  {
   "cell_type": "code",
   "execution_count": null,
   "id": "ddb8ebf5-c49c-45b4-846c-b14c03c3bc3e",
   "metadata": {
    "colab": {
     "base_uri": "https://localhost:8080/"
    },
    "id": "ddb8ebf5-c49c-45b4-846c-b14c03c3bc3e",
    "outputId": "2c452650-fb35-4f96-f155-517431761253",
    "scrolled": true
   },
   "outputs": [],
   "source": [
    "import numpy as np\n",
    "import matplotlib.pyplot as plt\n",
    "\n",
    "def plot_residuals(y_true, y_pred, max_points=None):\n",
    "    \"\"\"\n",
    "    Plots the residuals (y_pred - y_true) for each sample.\n",
    "    If max_points is set, only the first max_points residuals are shown.\n",
    "    Converts lists to numpy arrays for subtraction.\n",
    "    \"\"\"\n",
    "    # Ensure numpy arrays\n",
    "    y_true_arr = np.array(y_true, dtype=float)\n",
    "    y_pred_arr = np.array(y_pred, dtype=float)\n",
    "    residuals = y_pred_arr - y_true_arr\n",
    "\n",
    "    if max_points is not None:\n",
    "        residuals = residuals[:max_points]\n",
    "    plt.figure()\n",
    "    plt.scatter(range(len(residuals)), residuals)\n",
    "    plt.xlabel('Sample Index')\n",
    "    plt.ylabel('Residual (Prediction - Real)')\n",
    "    plt.title('Residual Plot')\n",
    "    plt.show()\n",
    "\n",
    "def plot_pred_vs_real(y_true, y_pred, max_points=None):\n",
    "    \"\"\"\n",
    "    Plots predicted vs. real values.\n",
    "    If max_points is set, only the first max_points points are plotted.\n",
    "    Converts lists to numpy arrays for plotting.\n",
    "    \"\"\"\n",
    "    # Ensure numpy arrays\n",
    "    y_true_arr = np.array(y_true, dtype=float)\n",
    "    y_pred_arr = np.array(y_pred, dtype=float)\n",
    "\n",
    "    if max_points is not None:\n",
    "        y_true_arr = y_true_arr[:max_points]\n",
    "        y_pred_arr = y_pred_arr[:max_points]\n",
    "    plt.figure()\n",
    "    plt.plot(y_true_arr, label='Real')\n",
    "    plt.plot(y_pred_arr, label='Predicted')\n",
    "    plt.xlabel('Sample Index')\n",
    "    plt.ylabel('Value')\n",
    "    plt.title('Prediction vs. Real')\n",
    "    plt.legend()\n",
    "    plt.show()\n",
    "\n",
    "overfitting_check = True\n",
    "\n",
    "y_true = []\n",
    "y_pred = []\n",
    "\n",
    "model.eval()\n",
    "with torch.no_grad():\n",
    "    if overfitting_check:\n",
    "        X = X_train\n",
    "        y = y_train\n",
    "    else:\n",
    "        X = X_test\n",
    "        y = y_test\n",
    "    y_pred_unsorted = min_max_denormalize(model(X)).tolist() #[1:]\n",
    "    y_true_unsorted = min_max_denormalize(y).tolist() #[:-1]\n",
    "\n",
    "    # sorted_indices = np.argsort(y_true_unsorted)\n",
    "\n",
    "    y_pred = y_pred_unsorted#[sorted_indices]\n",
    "    y_true = y_true_unsorted#[sorted_indices]\n",
    "\n",
    "print(y_pred_unsorted)\n",
    "print('TEST')\n",
    "print(min_max_denormalize(y).tolist())"
   ]
  },
  {
   "cell_type": "markdown",
   "id": "gPaTCRizyMfO",
   "metadata": {
    "id": "gPaTCRizyMfO"
   },
   "source": [
    "This function plots the residuals (i.e., the difference between predicted and true values) to check how well the model is fitting the data. A similar function `plot_pred_vs_real` is used to visualize the predicted vs real values.\n"
   ]
  },
  {
   "cell_type": "code",
   "execution_count": null,
   "id": "07e0f670-e99d-483f-8965-1287c8da2667",
   "metadata": {
    "colab": {
     "base_uri": "https://localhost:8080/",
     "height": 472
    },
    "id": "07e0f670-e99d-483f-8965-1287c8da2667",
    "outputId": "a1c2a134-6f65-4724-c24b-2b37060c04c5"
   },
   "outputs": [],
   "source": [
    "plot_residuals(y_true, y_pred)"
   ]
  },
  {
   "cell_type": "code",
   "execution_count": null,
   "id": "aca153a0-b827-427b-b893-3d27c8cf5d3a",
   "metadata": {
    "colab": {
     "base_uri": "https://localhost:8080/",
     "height": 472
    },
    "id": "aca153a0-b827-427b-b893-3d27c8cf5d3a",
    "outputId": "03fc8250-6196-4067-92d6-a65367a955c3"
   },
   "outputs": [],
   "source": [
    "plot_pred_vs_real(y_true, y_pred)"
   ]
  },
  {
   "cell_type": "code",
   "execution_count": null,
   "id": "ab07bd80-b73a-42d4-9f93-9cf829e0a993",
   "metadata": {
    "colab": {
     "base_uri": "https://localhost:8080/",
     "height": 676
    },
    "id": "ab07bd80-b73a-42d4-9f93-9cf829e0a993",
    "outputId": "87fecdf7-a205-4789-edfb-e57b8eac8174",
    "scrolled": true
   },
   "outputs": [],
   "source": [
    "data_print = {\n",
    "    'sigma_t': data['sigma_t'][1+len(y_true):],\n",
    "    'delta_epsilon': data['delta_epsilon'][1+len(y_true):],\n",
    "    'delta_sigma': data['delta_sigma'][1+len(y_true):],\n",
    "    'delta_sigma_pred': y_pred.tolist(),\n",
    "    'true - pred': [data['sigma_t'][len(y_true):][i] - y_pred.tolist()[i] for i in range(len(y_true.tolist()))]\n",
    "}\n",
    "\n",
    "\n",
    "# Print a markdown table\n",
    "display(pd.DataFrame(data_print).head(20))"
   ]
  },
  {
   "cell_type": "markdown",
   "id": "rXuRwIvEyPWo",
   "metadata": {
    "id": "rXuRwIvEyPWo"
   },
   "source": [
    "\n",
    "\n",
    "---\n",
    "\n",
    "\n",
    "## Final Model Evaluation and Prediction"
   ]
  },
  {
   "cell_type": "code",
   "execution_count": null,
   "id": "m2GmB0hcXtpM",
   "metadata": {
    "colab": {
     "base_uri": "https://localhost:8080/",
     "height": 283
    },
    "id": "m2GmB0hcXtpM",
    "outputId": "b4702e6e-ef2a-4b86-b539-5a9c77195ecd"
   },
   "outputs": [],
   "source": [
    "def predict_oedometer(model, sigma_t_input, delta_epsilon_input, normalize=True):\n",
    "    \"\"\"\n",
    "    Macht eine Prognose für delta_sigma basierend auf sigma_t und delta_epsilon\n",
    "    unter Berücksichtigung von Normalisierung und der benötigten Tensor-Shape.\n",
    "\n",
    "    Args:\n",
    "        model (torch.nn.Module): Das trainierte LSTM-Modell.\n",
    "        sigma_t_input (float): Der Eingabewert für sigma_t.\n",
    "        delta_epsilon_input (float): Der Eingabewert für delta_epsilon.\n",
    "        normalize (bool): Gibt an, ob der Input normalisiert werden soll.\n",
    "\n",
    "    Returns:\n",
    "        tuple: Ein Tuple mit (denormalisierte_prognose, wahrer_delta_sigma_wert),\n",
    "               wobei der wahre Wert aus der Oedometer-Klasse ermittelt wird.\n",
    "    \"\"\"\n",
    "\n",
    "    input_tensor = torch.tensor([[sigma_t_input, delta_epsilon_input]], dtype=torch.float32) # Shape (1, 1, 2)\n",
    "\n",
    "    # Optional Normalisierung anwenden\n",
    "    if normalize:\n",
    "        temp_tensor = torch.tensor([[sigma_t_input, delta_epsilon_input]], dtype=torch.float32).unsqueeze(0) # Shape (1, 1, 2)\n",
    "        normalized_input = min_max_normalize(temp_tensor, True)\n",
    "        input_tensor = normalized_input.squeeze(0) # Shape wieder (1, 1, 2)\n",
    "    else:\n",
    "         # Auch wenn nicht normalisiert wird, stellen wir sicher, dass die Dimensionen korrekt sind\n",
    "        input_tensor = input_tensor.unsqueeze(0) # Shape (1, 1, 2)\n",
    "\n",
    "\n",
    "    # Setze das Modell in den Evaluierungsmodus\n",
    "    model.eval()\n",
    "\n",
    "    # Mache die Prognose ohne Gradientenberechnung\n",
    "    with torch.no_grad():\n",
    "        prediction = min_max_denormalize(model(input_tensor))\n",
    "\n",
    "    predicted_delta_sigma = prediction.item() # Konvertiere den Tensor zu einem Python-Float\n",
    "\n",
    "    # Ermittle den wahren Wert aus der Oedometer-Klasse\n",
    "    oedo_para_prediction = {\n",
    "        'max_n': 1,\n",
    "        'e_0': 1.0,\n",
    "        'C_c': 0.005,\n",
    "        'sigma_t': sigma_t_input, # Der gegebene Input sigma_t\n",
    "        'delta_epsilon': delta_epsilon_input, # Der gegebene Input delta_epsilon\n",
    "        'total_epsilon': 0, # Wird für die delta_sigma Berechnung im ersten Schritt nicht benötigt\n",
    "        'e_s': 400.0 # Wird für die delta_sigma Berechnung im ersten Schritt nicht benötigt\n",
    "    }\n",
    "    oedo_prediction = Oedometer(**oedo_para_prediction)\n",
    "    # Der wahre delta_sigma Wert ist der erste Wert in der delta_sigma Liste der Oedometer-Instanz\n",
    "    true_delta_sigma = oedo_prediction.delta_sigma[0]\n",
    "\n",
    "\n",
    "    return predicted_delta_sigma, true_delta_sigma\n",
    "\n",
    "\n",
    "example_sigma_t_input = 1\n",
    "example_delta_epsilon_input = 0.0005\n",
    "\n",
    "# Mache die Prognose\n",
    "predicted_delta_sigma, true_delta_sigma = predict_oedometer(\n",
    "    model,\n",
    "    example_sigma_t_input,\n",
    "    example_delta_epsilon_input,\n",
    "    normalize=normalize\n",
    ")\n",
    "\n",
    "# Berechne die Differenz\n",
    "difference = predicted_delta_sigma - true_delta_sigma\n",
    "\n",
    "# Anzeige der Ergebnisse im Markdown-Format\n",
    "display(Markdown(\"### Prognoseergebnis\"))\n",
    "\n",
    "display(Markdown(f\"\"\"\n",
    "| Parameter             | Wert (Rohdaten) |\n",
    "|-----------------------|-----------------|\n",
    "| Eingabe sigma_t       | {example_sigma_t_input:.4f}   |\n",
    "| Eingabe delta_epsilon | {example_delta_epsilon_input:.6f}   |\n",
    "| Prognostizierte delta_sigma | {predicted_delta_sigma:.4f}   |\n",
    "| Wahrer delta_sigma (Oedometer) | {true_delta_sigma:.4f}   |\n",
    "| Differenz (Prognose - Wahr) | {difference:.4f}   |\n",
    "\"\"\"))"
   ]
  },
  {
   "cell_type": "markdown",
   "id": "Z8ltkwqPyT3b",
   "metadata": {
    "id": "Z8ltkwqPyT3b"
   },
   "source": [
    "This final section makes a prediction using the trained LSTM model and compares the predicted value with the true value calculated using the `Oedometer` class. The results are displayed in a Markdown table for easy inspection."
   ]
  }
 ],
 "metadata": {
  "colab": {
   "provenance": []
  },
  "kernelspec": {
   "display_name": "Python 3 (ipykernel)",
   "language": "python",
   "name": "python3"
  },
  "language_info": {
   "codemirror_mode": {
    "name": "ipython",
    "version": 3
   },
   "file_extension": ".py",
   "mimetype": "text/x-python",
   "name": "python",
   "nbconvert_exporter": "python",
   "pygments_lexer": "ipython3",
   "version": "3.12.9"
  }
 },
 "nbformat": 4,
 "nbformat_minor": 5
}
