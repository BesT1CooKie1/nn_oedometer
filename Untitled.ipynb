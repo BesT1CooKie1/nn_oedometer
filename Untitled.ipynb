{
 "cells": [
  {
   "cell_type": "code",
   "execution_count": 3,
   "id": "694b4076-6c46-4e8b-a3d6-28ac0d737f3f",
   "metadata": {},
   "outputs": [
    {
     "data": {
      "application/vnd.jupyter.widget-view+json": {
       "model_id": "39511a9b5a5c40b38e214e3ee5145079",
       "version_major": 2,
       "version_minor": 0
      },
      "text/plain": [
       "Checkbox(value=False, description='Debug Mode aktivieren')"
      ]
     },
     "metadata": {},
     "output_type": "display_data"
    }
   ],
   "source": [
    "import ipywidgets as widgets\n",
    "from IPython.display import display\n",
    "\n",
    "# Checkbox erstellen\n",
    "debug_mode = widgets.Checkbox(\n",
    "    value=False,  # Standard: Ausgeschaltet\n",
    "    description=\"Debug Mode aktivieren\",\n",
    "    disabled=False\n",
    ")\n",
    "\n",
    "# Checkbox anzeigen\n",
    "display(debug_mode)\n"
   ]
  },
  {
   "cell_type": "code",
   "execution_count": null,
   "id": "6763c34c-694d-49f9-a2f9-da721dda45fe",
   "metadata": {},
   "outputs": [],
   "source": []
  }
 ],
 "metadata": {
  "kernelspec": {
   "display_name": "Python 3 (ipykernel)",
   "language": "python",
   "name": "python3"
  },
  "language_info": {
   "codemirror_mode": {
    "name": "ipython",
    "version": 3
   },
   "file_extension": ".py",
   "mimetype": "text/x-python",
   "name": "python",
   "nbconvert_exporter": "python",
   "pygments_lexer": "ipython3",
   "version": "3.12.9"
  }
 },
 "nbformat": 4,
 "nbformat_minor": 5
}
